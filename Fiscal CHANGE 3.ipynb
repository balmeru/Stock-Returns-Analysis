{
 "cells": [
  {
   "cell_type": "markdown",
   "id": "4c816de6-67d3-4853-a113-255ff68f4ac4",
   "metadata": {},
   "source": [
    "\n",
    "<p style=\"font-size:21px; font-family:'Times New Roman';\">\n",
    "Read report dates data \n",
    "</p>"
   ]
  },
  {
   "cell_type": "code",
   "execution_count": 1,
   "id": "afee8605-6296-4589-abee-6cb79cadc57f",
   "metadata": {},
   "outputs": [],
   "source": [
    "import pandas as pd\n",
    "import numpy as np\n",
    "csv_file_path = '/Users/balmeru/Downloads/QQQQ.csv'\n",
    "df = pd.read_csv(csv_file_path)\n"
   ]
  },
  {
   "cell_type": "code",
   "execution_count": 2,
   "id": "a3b26c71-c0ee-4196-8c92-63609b9d3f13",
   "metadata": {},
   "outputs": [
    {
     "data": {
      "text/html": [
       "<div>\n",
       "<style scoped>\n",
       "    .dataframe tbody tr th:only-of-type {\n",
       "        vertical-align: middle;\n",
       "    }\n",
       "\n",
       "    .dataframe tbody tr th {\n",
       "        vertical-align: top;\n",
       "    }\n",
       "\n",
       "    .dataframe thead th {\n",
       "        text-align: right;\n",
       "    }\n",
       "</style>\n",
       "<table border=\"1\" class=\"dataframe\">\n",
       "  <thead>\n",
       "    <tr style=\"text-align: right;\">\n",
       "      <th></th>\n",
       "      <th>GVKEY</th>\n",
       "      <th>datadate</th>\n",
       "      <th>fyearq</th>\n",
       "      <th>fqtr</th>\n",
       "      <th>fyr</th>\n",
       "      <th>indfmt</th>\n",
       "      <th>consol</th>\n",
       "      <th>popsrc</th>\n",
       "      <th>datafmt</th>\n",
       "      <th>tic</th>\n",
       "      <th>...</th>\n",
       "      <th>ibq</th>\n",
       "      <th>lseq</th>\n",
       "      <th>ltq</th>\n",
       "      <th>pstkq</th>\n",
       "      <th>teqq</th>\n",
       "      <th>txdbq</th>\n",
       "      <th>dvpy</th>\n",
       "      <th>costat</th>\n",
       "      <th>mkvaltq</th>\n",
       "      <th>prccq</th>\n",
       "    </tr>\n",
       "  </thead>\n",
       "  <tbody>\n",
       "    <tr>\n",
       "      <th>0</th>\n",
       "      <td>1000</td>\n",
       "      <td>1975-06-30</td>\n",
       "      <td>1975</td>\n",
       "      <td>2</td>\n",
       "      <td>12</td>\n",
       "      <td>INDL</td>\n",
       "      <td>C</td>\n",
       "      <td>D</td>\n",
       "      <td>STD</td>\n",
       "      <td>AE.2</td>\n",
       "      <td>...</td>\n",
       "      <td>0.875</td>\n",
       "      <td>NaN</td>\n",
       "      <td>NaN</td>\n",
       "      <td>0.414</td>\n",
       "      <td>NaN</td>\n",
       "      <td>NaN</td>\n",
       "      <td>NaN</td>\n",
       "      <td>I</td>\n",
       "      <td>NaN</td>\n",
       "      <td>2.875</td>\n",
       "    </tr>\n",
       "    <tr>\n",
       "      <th>1</th>\n",
       "      <td>1000</td>\n",
       "      <td>1975-09-30</td>\n",
       "      <td>1975</td>\n",
       "      <td>3</td>\n",
       "      <td>12</td>\n",
       "      <td>INDL</td>\n",
       "      <td>C</td>\n",
       "      <td>D</td>\n",
       "      <td>STD</td>\n",
       "      <td>AE.2</td>\n",
       "      <td>...</td>\n",
       "      <td>0.613</td>\n",
       "      <td>NaN</td>\n",
       "      <td>NaN</td>\n",
       "      <td>0.414</td>\n",
       "      <td>NaN</td>\n",
       "      <td>NaN</td>\n",
       "      <td>NaN</td>\n",
       "      <td>I</td>\n",
       "      <td>NaN</td>\n",
       "      <td>4.000</td>\n",
       "    </tr>\n",
       "    <tr>\n",
       "      <th>2</th>\n",
       "      <td>1000</td>\n",
       "      <td>1975-12-31</td>\n",
       "      <td>1975</td>\n",
       "      <td>4</td>\n",
       "      <td>12</td>\n",
       "      <td>INDL</td>\n",
       "      <td>C</td>\n",
       "      <td>D</td>\n",
       "      <td>STD</td>\n",
       "      <td>AE.2</td>\n",
       "      <td>...</td>\n",
       "      <td>0.606</td>\n",
       "      <td>23.905</td>\n",
       "      <td>11.596</td>\n",
       "      <td>2.069</td>\n",
       "      <td>NaN</td>\n",
       "      <td>NaN</td>\n",
       "      <td>NaN</td>\n",
       "      <td>I</td>\n",
       "      <td>NaN</td>\n",
       "      <td>4.375</td>\n",
       "    </tr>\n",
       "    <tr>\n",
       "      <th>3</th>\n",
       "      <td>1000</td>\n",
       "      <td>1976-03-31</td>\n",
       "      <td>1976</td>\n",
       "      <td>1</td>\n",
       "      <td>12</td>\n",
       "      <td>INDL</td>\n",
       "      <td>C</td>\n",
       "      <td>D</td>\n",
       "      <td>STD</td>\n",
       "      <td>AE.2</td>\n",
       "      <td>...</td>\n",
       "      <td>0.726</td>\n",
       "      <td>32.531</td>\n",
       "      <td>19.469</td>\n",
       "      <td>2.069</td>\n",
       "      <td>NaN</td>\n",
       "      <td>NaN</td>\n",
       "      <td>0.031</td>\n",
       "      <td>I</td>\n",
       "      <td>NaN</td>\n",
       "      <td>6.750</td>\n",
       "    </tr>\n",
       "    <tr>\n",
       "      <th>4</th>\n",
       "      <td>1000</td>\n",
       "      <td>1976-06-30</td>\n",
       "      <td>1976</td>\n",
       "      <td>2</td>\n",
       "      <td>12</td>\n",
       "      <td>INDL</td>\n",
       "      <td>C</td>\n",
       "      <td>D</td>\n",
       "      <td>STD</td>\n",
       "      <td>AE.2</td>\n",
       "      <td>...</td>\n",
       "      <td>1.603</td>\n",
       "      <td>35.157</td>\n",
       "      <td>20.287</td>\n",
       "      <td>2.069</td>\n",
       "      <td>NaN</td>\n",
       "      <td>NaN</td>\n",
       "      <td>NaN</td>\n",
       "      <td>I</td>\n",
       "      <td>NaN</td>\n",
       "      <td>7.250</td>\n",
       "    </tr>\n",
       "  </tbody>\n",
       "</table>\n",
       "<p>5 rows × 29 columns</p>\n",
       "</div>"
      ],
      "text/plain": [
       "   GVKEY    datadate  fyearq  fqtr  fyr indfmt consol popsrc datafmt   tic  \\\n",
       "0   1000  1975-06-30    1975     2   12   INDL      C      D     STD  AE.2   \n",
       "1   1000  1975-09-30    1975     3   12   INDL      C      D     STD  AE.2   \n",
       "2   1000  1975-12-31    1975     4   12   INDL      C      D     STD  AE.2   \n",
       "3   1000  1976-03-31    1976     1   12   INDL      C      D     STD  AE.2   \n",
       "4   1000  1976-06-30    1976     2   12   INDL      C      D     STD  AE.2   \n",
       "\n",
       "   ...    ibq    lseq     ltq  pstkq teqq  txdbq   dvpy  costat  mkvaltq  \\\n",
       "0  ...  0.875     NaN     NaN  0.414  NaN    NaN    NaN       I      NaN   \n",
       "1  ...  0.613     NaN     NaN  0.414  NaN    NaN    NaN       I      NaN   \n",
       "2  ...  0.606  23.905  11.596  2.069  NaN    NaN    NaN       I      NaN   \n",
       "3  ...  0.726  32.531  19.469  2.069  NaN    NaN  0.031       I      NaN   \n",
       "4  ...  1.603  35.157  20.287  2.069  NaN    NaN    NaN       I      NaN   \n",
       "\n",
       "   prccq  \n",
       "0  2.875  \n",
       "1  4.000  \n",
       "2  4.375  \n",
       "3  6.750  \n",
       "4  7.250  \n",
       "\n",
       "[5 rows x 29 columns]"
      ]
     },
     "execution_count": 2,
     "metadata": {},
     "output_type": "execute_result"
    }
   ],
   "source": [
    "df.head()"
   ]
  },
  {
   "cell_type": "markdown",
   "id": "17fa5dd5-ff38-45a6-aa52-145ad9291678",
   "metadata": {},
   "source": [
    "<p style=\"font-size:21px; font-family:'Times New Roman';\">\n",
    "Let's address fiscal year changes first </p>\n"
   ]
  },
  {
   "cell_type": "code",
   "execution_count": 3,
   "id": "c6af95d8-4487-407d-84fb-0077d34854c3",
   "metadata": {},
   "outputs": [],
   "source": [
    "df['market_cap'] = df['prccq'] / df['ajexq'] * df['cshoq']\n"
   ]
  },
  {
   "cell_type": "code",
   "execution_count": 4,
   "id": "d69a9f77-4cc8-45c8-bd14-5eb734113460",
   "metadata": {},
   "outputs": [
    {
     "name": "stdout",
     "output_type": "stream",
     "text": [
      "   prccq  ajexq  cshoq  market_cap\n",
      "0  2.875    1.0  2.092     6.01450\n",
      "1  4.000    1.0  2.094     8.37600\n",
      "2  4.375    1.0  2.098     9.17875\n",
      "3  6.750    1.0  2.096    14.14800\n",
      "4  7.250    1.0  2.163    15.68175\n"
     ]
    }
   ],
   "source": [
    "print(df[['prccq', 'ajexq', 'cshoq', 'market_cap']].head())\n"
   ]
  },
  {
   "cell_type": "code",
   "execution_count": 5,
   "id": "efd9f18d-ed4b-4dad-9116-be0bcbd5424b",
   "metadata": {},
   "outputs": [
    {
     "name": "stdout",
     "output_type": "stream",
     "text": [
      "Number of non-empty market_cap rows: 1014935\n"
     ]
    }
   ],
   "source": [
    "non_empty_market_cap_count = df['market_cap'].notna().sum()\n",
    "\n",
    "print(f\"Number of non-empty market_cap rows: {non_empty_market_cap_count}\")\n"
   ]
  },
  {
   "cell_type": "code",
   "execution_count": 6,
   "id": "50fc3e6a-ca53-430e-94ac-8db2175c641e",
   "metadata": {},
   "outputs": [
    {
     "name": "stdout",
     "output_type": "stream",
     "text": [
      "The number of rows in the CSV file is: 1085915\n"
     ]
    }
   ],
   "source": [
    "num_rows = df.shape[0]\n",
    "\n",
    "print(f\"The number of rows in the CSV file is: {num_rows}\")\n"
   ]
  },
  {
   "cell_type": "code",
   "execution_count": 7,
   "id": "577a885f-c7dc-4bf2-acf6-d2adb93948d3",
   "metadata": {},
   "outputs": [
    {
     "name": "stdout",
     "output_type": "stream",
     "text": [
      "   prccq  ajexq  cshoq  market_cap  mkvaltq\n",
      "0  2.875    1.0  2.092     6.01450      NaN\n",
      "1  4.000    1.0  2.094     8.37600      NaN\n",
      "2  4.375    1.0  2.098     9.17875      NaN\n",
      "3  6.750    1.0  2.096    14.14800      NaN\n",
      "4  7.250    1.0  2.163    15.68175      NaN\n"
     ]
    }
   ],
   "source": [
    "print(df[['prccq', 'ajexq', 'cshoq', 'market_cap', 'mkvaltq']].head())\n"
   ]
  },
  {
   "cell_type": "code",
   "execution_count": 8,
   "id": "347e98ba-e4ac-448f-9642-2dee1f945f9d",
   "metadata": {},
   "outputs": [
    {
     "name": "stdout",
     "output_type": "stream",
     "text": [
      "Number of non-empty market_cap rows: 287568\n"
     ]
    }
   ],
   "source": [
    "non_empty_market_val_count = df['mkvaltq'].notna().sum()\n",
    "\n",
    "print(f\"Number of non-empty market_cap rows: {non_empty_market_val_count}\")"
   ]
  },
  {
   "cell_type": "code",
   "execution_count": 9,
   "id": "73415ede-2131-4ff1-a10b-ac1adc22adfb",
   "metadata": {},
   "outputs": [
    {
     "name": "stdout",
     "output_type": "stream",
     "text": [
      "Number of rows with non-empty mkvaltq or market_cap: 1015011\n"
     ]
    }
   ],
   "source": [
    "non_empty_count = df[['mkvaltq', 'market_cap']].notna().any(axis=1).sum()\n",
    "print(f\"Number of rows with non-empty mkvaltq or market_cap: {non_empty_count}\")\n",
    "\n",
    "\n",
    "\n"
   ]
  },
  {
   "cell_type": "code",
   "execution_count": 10,
   "id": "10943811-5396-4bf5-b7d7-3146a80a3164",
   "metadata": {},
   "outputs": [
    {
     "name": "stdout",
     "output_type": "stream",
     "text": [
      "          GVKEY    datadate  fyearq  fqtr  fyr indfmt consol popsrc datafmt  \\\n",
      "170        1004  2006-08-31    2006     1    5   INDL      C      D     STD   \n",
      "171        1004  2006-11-30    2006     2    5   INDL      C      D     STD   \n",
      "172        1004  2007-02-28    2006     3    5   INDL      C      D     STD   \n",
      "173        1004  2007-05-31    2006     4    5   INDL      C      D     STD   \n",
      "174        1004  2007-08-31    2007     1    5   INDL      C      D     STD   \n",
      "...         ...         ...     ...   ...  ...    ...    ...    ...     ...   \n",
      "1085910  345556  2021-03-31    2021     1   12   INDL      C      D     STD   \n",
      "1085911  345920  2020-12-31    2020     4   12   INDL      C      D     STD   \n",
      "1085912  345920  2021-03-31    2021     1   12   INDL      C      D     STD   \n",
      "1085913  345980  2020-12-31    2020     4   12   INDL      C      D     STD   \n",
      "1085914  345980  2021-03-31    2021     1   12   INDL      C      D     STD   \n",
      "\n",
      "          tic  ...      lseq       ltq pstkq      teqq  txdbq  dvpy  costat  \\\n",
      "170       AIR  ...   978.803   544.241   0.0   434.562    NaN   0.0       A   \n",
      "171       AIR  ...  1001.031   549.780   0.0   451.251    NaN   0.0       A   \n",
      "172       AIR  ...  1010.849   541.148   0.0   469.701    NaN   0.0       A   \n",
      "173       AIR  ...  1067.633   573.390   0.0   494.243    NaN   0.0       A   \n",
      "174       AIR  ...  1076.976   567.596   0.0   509.380    NaN   0.0       A   \n",
      "...       ...  ...       ...       ...   ...       ...    ...   ...     ...   \n",
      "1085910  FSTX  ...    53.436    18.596   0.0    34.840  0.576   0.0       I   \n",
      "1085911  HYFM  ...   275.795    64.877   0.0   210.918  0.000   0.0       A   \n",
      "1085912  HYFM  ...   282.677    70.829   0.0   211.848  0.000   0.0       A   \n",
      "1085913  LOGC  ...  2397.000  1370.000   0.0  1027.000    NaN   0.0       A   \n",
      "1085914  LOGC  ...  1999.000  1069.000   0.0   930.000    NaN   0.0       A   \n",
      "\n",
      "            mkvaltq  prccq     market_cap  \n",
      "170        818.5762  22.31     818.576210  \n",
      "171        981.5167  26.59     981.516670  \n",
      "172       1082.5902  29.08    1082.590240  \n",
      "173       1226.1925  32.50    1226.192500  \n",
      "174       1184.1568  31.40    1184.156800  \n",
      "...             ...    ...            ...  \n",
      "1085910     98.5530  10.83      98.553000  \n",
      "1085911   1761.4300  52.58    1761.430000  \n",
      "1085912   2049.0704  60.32    2049.070400  \n",
      "1085913  10706.8800  18.24  321206.432121  \n",
      "1085914   9764.4000  15.80  292932.029293  \n",
      "\n",
      "[287492 rows x 30 columns]\n"
     ]
    }
   ],
   "source": [
    "non_empty_rows = df[df['mkvaltq'].notna() & df['market_cap'].notna()]\n",
    "print(non_empty_rows)\n"
   ]
  },
  {
   "cell_type": "code",
   "execution_count": 11,
   "id": "40371e03-8332-412e-9f79-90ac80489522",
   "metadata": {},
   "outputs": [
    {
     "name": "stdout",
     "output_type": "stream",
     "text": [
      "Number of identical or rounded values between mkvaltq and market_cap: 223395\n"
     ]
    }
   ],
   "source": [
    "decimal_places = 2  # Adjust this as needed\n",
    "rounded_mkvaltq = df['mkvaltq'].round(decimal_places)\n",
    "rounded_market_cap = df['market_cap'].round(decimal_places)\n",
    "identical_count = (rounded_mkvaltq == rounded_market_cap).sum()\n",
    "\n",
    "print(f\"Number of identical or rounded values between mkvaltq and market_cap: {identical_count}\")\n"
   ]
  },
  {
   "cell_type": "markdown",
   "id": "1318faa6-d2a8-45df-861a-56fc59159cc7",
   "metadata": {},
   "source": [
    " As you see, the number of rows for calculated **market cap** is 1,014,935 out of 1,085,915 entries available.\n",
    "\n",
    " While the given **mkvaltq** (Market Value Total) variable in the data itself has only 287,568 rows.\n",
    "\n",
    " As you see from the printed rows, market value and calculated market cap can be same or different; they *differ* more than they have identical values.\n"
   ]
  },
  {
   "cell_type": "markdown",
   "id": "183c68c8-b549-4916-af52-6fe762ad7830",
   "metadata": {},
   "source": [
    "#### To be consistent, we can proceed with calculated market cap now"
   ]
  },
  {
   "cell_type": "code",
   "execution_count": 12,
   "id": "ad2f33a5-8259-4b57-9929-999f2f5e84a2",
   "metadata": {},
   "outputs": [
    {
     "name": "stdout",
     "output_type": "stream",
     "text": [
      "            market_cap    lower_bound    upper_bound\n",
      "0             6.014500       4.811600       7.217400\n",
      "1             8.376000       6.700800      10.051200\n",
      "2             9.178750       7.343000      11.014500\n",
      "3            14.148000      11.318400      16.977600\n",
      "4            15.681750      12.545400      18.818100\n",
      "...                ...            ...            ...\n",
      "1085910      98.553000      78.842400     118.263600\n",
      "1085911    1761.430000    1409.144000    2113.716000\n",
      "1085912    2049.070400    1639.256320    2458.884480\n",
      "1085913  321206.432121  256965.145697  385447.718545\n",
      "1085914  292932.029293  234345.623435  351518.435152\n",
      "\n",
      "[1085915 rows x 3 columns]\n"
     ]
    }
   ],
   "source": [
    "# Calculate upper and lower bounds\n",
    "df['lower_bound'] = 0.8 * df['market_cap']\n",
    "df['upper_bound'] = 1.2 * df['market_cap']\n",
    "print(df[['market_cap', 'lower_bound', 'upper_bound']])\n"
   ]
  },
  {
   "cell_type": "code",
   "execution_count": 13,
   "id": "572d65b0-aec9-42f4-a7cf-61af9bdcf020",
   "metadata": {},
   "outputs": [
    {
     "name": "stdout",
     "output_type": "stream",
     "text": [
      "         fqtr  quarterly_report  annual_report\n",
      "0           2                 1              0\n",
      "1           3                 1              0\n",
      "2           4                 0              1\n",
      "3           1                 1              0\n",
      "4           2                 1              0\n",
      "...       ...               ...            ...\n",
      "1085910     1                 1              0\n",
      "1085911     4                 0              1\n",
      "1085912     1                 1              0\n",
      "1085913     4                 0              1\n",
      "1085914     1                 1              0\n",
      "\n",
      "[1085915 rows x 3 columns]\n"
     ]
    }
   ],
   "source": [
    "df['quarterly_report'] = (df['fqtr'].isin([1, 2, 3])).astype(int)\n",
    "df['annual_report'] = (df['fqtr'] == 4).astype(int)\n",
    "print(df[['fqtr', 'quarterly_report', 'annual_report']])\n",
    "\n"
   ]
  },
  {
   "cell_type": "code",
   "execution_count": 14,
   "id": "3be7b261-ba83-4c0a-9a44-77562e34cb5c",
   "metadata": {},
   "outputs": [
    {
     "data": {
      "text/html": [
       "<div>\n",
       "<style scoped>\n",
       "    .dataframe tbody tr th:only-of-type {\n",
       "        vertical-align: middle;\n",
       "    }\n",
       "\n",
       "    .dataframe tbody tr th {\n",
       "        vertical-align: top;\n",
       "    }\n",
       "\n",
       "    .dataframe thead th {\n",
       "        text-align: right;\n",
       "    }\n",
       "</style>\n",
       "<table border=\"1\" class=\"dataframe\">\n",
       "  <thead>\n",
       "    <tr style=\"text-align: right;\">\n",
       "      <th></th>\n",
       "      <th>GVKEY</th>\n",
       "      <th>datadate</th>\n",
       "      <th>fyearq</th>\n",
       "      <th>fqtr</th>\n",
       "      <th>fyr</th>\n",
       "      <th>indfmt</th>\n",
       "      <th>consol</th>\n",
       "      <th>popsrc</th>\n",
       "      <th>datafmt</th>\n",
       "      <th>tic</th>\n",
       "      <th>...</th>\n",
       "      <th>txdbq</th>\n",
       "      <th>dvpy</th>\n",
       "      <th>costat</th>\n",
       "      <th>mkvaltq</th>\n",
       "      <th>prccq</th>\n",
       "      <th>market_cap</th>\n",
       "      <th>lower_bound</th>\n",
       "      <th>upper_bound</th>\n",
       "      <th>quarterly_report</th>\n",
       "      <th>annual_report</th>\n",
       "    </tr>\n",
       "  </thead>\n",
       "  <tbody>\n",
       "    <tr>\n",
       "      <th>1085910</th>\n",
       "      <td>345556</td>\n",
       "      <td>2021-03-31</td>\n",
       "      <td>2021</td>\n",
       "      <td>1</td>\n",
       "      <td>12</td>\n",
       "      <td>INDL</td>\n",
       "      <td>C</td>\n",
       "      <td>D</td>\n",
       "      <td>STD</td>\n",
       "      <td>FSTX</td>\n",
       "      <td>...</td>\n",
       "      <td>0.576</td>\n",
       "      <td>0.0</td>\n",
       "      <td>I</td>\n",
       "      <td>98.5530</td>\n",
       "      <td>10.83</td>\n",
       "      <td>98.553000</td>\n",
       "      <td>78.842400</td>\n",
       "      <td>118.263600</td>\n",
       "      <td>1</td>\n",
       "      <td>0</td>\n",
       "    </tr>\n",
       "    <tr>\n",
       "      <th>1085911</th>\n",
       "      <td>345920</td>\n",
       "      <td>2020-12-31</td>\n",
       "      <td>2020</td>\n",
       "      <td>4</td>\n",
       "      <td>12</td>\n",
       "      <td>INDL</td>\n",
       "      <td>C</td>\n",
       "      <td>D</td>\n",
       "      <td>STD</td>\n",
       "      <td>HYFM</td>\n",
       "      <td>...</td>\n",
       "      <td>0.000</td>\n",
       "      <td>0.0</td>\n",
       "      <td>A</td>\n",
       "      <td>1761.4300</td>\n",
       "      <td>52.58</td>\n",
       "      <td>1761.430000</td>\n",
       "      <td>1409.144000</td>\n",
       "      <td>2113.716000</td>\n",
       "      <td>0</td>\n",
       "      <td>1</td>\n",
       "    </tr>\n",
       "    <tr>\n",
       "      <th>1085912</th>\n",
       "      <td>345920</td>\n",
       "      <td>2021-03-31</td>\n",
       "      <td>2021</td>\n",
       "      <td>1</td>\n",
       "      <td>12</td>\n",
       "      <td>INDL</td>\n",
       "      <td>C</td>\n",
       "      <td>D</td>\n",
       "      <td>STD</td>\n",
       "      <td>HYFM</td>\n",
       "      <td>...</td>\n",
       "      <td>0.000</td>\n",
       "      <td>0.0</td>\n",
       "      <td>A</td>\n",
       "      <td>2049.0704</td>\n",
       "      <td>60.32</td>\n",
       "      <td>2049.070400</td>\n",
       "      <td>1639.256320</td>\n",
       "      <td>2458.884480</td>\n",
       "      <td>1</td>\n",
       "      <td>0</td>\n",
       "    </tr>\n",
       "    <tr>\n",
       "      <th>1085913</th>\n",
       "      <td>345980</td>\n",
       "      <td>2020-12-31</td>\n",
       "      <td>2020</td>\n",
       "      <td>4</td>\n",
       "      <td>12</td>\n",
       "      <td>INDL</td>\n",
       "      <td>C</td>\n",
       "      <td>D</td>\n",
       "      <td>STD</td>\n",
       "      <td>LOGC</td>\n",
       "      <td>...</td>\n",
       "      <td>NaN</td>\n",
       "      <td>0.0</td>\n",
       "      <td>A</td>\n",
       "      <td>10706.8800</td>\n",
       "      <td>18.24</td>\n",
       "      <td>321206.432121</td>\n",
       "      <td>256965.145697</td>\n",
       "      <td>385447.718545</td>\n",
       "      <td>0</td>\n",
       "      <td>1</td>\n",
       "    </tr>\n",
       "    <tr>\n",
       "      <th>1085914</th>\n",
       "      <td>345980</td>\n",
       "      <td>2021-03-31</td>\n",
       "      <td>2021</td>\n",
       "      <td>1</td>\n",
       "      <td>12</td>\n",
       "      <td>INDL</td>\n",
       "      <td>C</td>\n",
       "      <td>D</td>\n",
       "      <td>STD</td>\n",
       "      <td>LOGC</td>\n",
       "      <td>...</td>\n",
       "      <td>NaN</td>\n",
       "      <td>0.0</td>\n",
       "      <td>A</td>\n",
       "      <td>9764.4000</td>\n",
       "      <td>15.80</td>\n",
       "      <td>292932.029293</td>\n",
       "      <td>234345.623435</td>\n",
       "      <td>351518.435152</td>\n",
       "      <td>1</td>\n",
       "      <td>0</td>\n",
       "    </tr>\n",
       "  </tbody>\n",
       "</table>\n",
       "<p>5 rows × 34 columns</p>\n",
       "</div>"
      ],
      "text/plain": [
       "          GVKEY    datadate  fyearq  fqtr  fyr indfmt consol popsrc datafmt  \\\n",
       "1085910  345556  2021-03-31    2021     1   12   INDL      C      D     STD   \n",
       "1085911  345920  2020-12-31    2020     4   12   INDL      C      D     STD   \n",
       "1085912  345920  2021-03-31    2021     1   12   INDL      C      D     STD   \n",
       "1085913  345980  2020-12-31    2020     4   12   INDL      C      D     STD   \n",
       "1085914  345980  2021-03-31    2021     1   12   INDL      C      D     STD   \n",
       "\n",
       "          tic  ...  txdbq dvpy costat     mkvaltq  prccq     market_cap  \\\n",
       "1085910  FSTX  ...  0.576  0.0      I     98.5530  10.83      98.553000   \n",
       "1085911  HYFM  ...  0.000  0.0      A   1761.4300  52.58    1761.430000   \n",
       "1085912  HYFM  ...  0.000  0.0      A   2049.0704  60.32    2049.070400   \n",
       "1085913  LOGC  ...    NaN  0.0      A  10706.8800  18.24  321206.432121   \n",
       "1085914  LOGC  ...    NaN  0.0      A   9764.4000  15.80  292932.029293   \n",
       "\n",
       "           lower_bound    upper_bound  quarterly_report  annual_report  \n",
       "1085910      78.842400     118.263600                 1              0  \n",
       "1085911    1409.144000    2113.716000                 0              1  \n",
       "1085912    1639.256320    2458.884480                 1              0  \n",
       "1085913  256965.145697  385447.718545                 0              1  \n",
       "1085914  234345.623435  351518.435152                 1              0  \n",
       "\n",
       "[5 rows x 34 columns]"
      ]
     },
     "execution_count": 14,
     "metadata": {},
     "output_type": "execute_result"
    }
   ],
   "source": [
    "df.tail()"
   ]
  },
  {
   "cell_type": "code",
   "execution_count": 15,
   "id": "6696c261-f038-4c2b-93cb-3dc089deb8c7",
   "metadata": {},
   "outputs": [
    {
     "name": "stderr",
     "output_type": "stream",
     "text": [
      "/var/folders/ds/rfyxvvb945vdt8znlkx31w1m00cj2y/T/ipykernel_14095/771304066.py:33: DeprecationWarning: DataFrameGroupBy.apply operated on the grouping columns. This behavior is deprecated, and in a future version of pandas the grouping columns will be excluded from the operation. Either pass `include_groups=False` to exclude the groupings or explicitly select the grouping columns after groupby to silence this warning.\n",
      "  df = grouped.apply(calculate_diff)\n"
     ]
    },
    {
     "name": "stdout",
     "output_type": "stream",
     "text": [
      "          tic        rdq  fyearq  fqtr     diff\n",
      "1085885    ZZ 2012-01-18    2011     4 113 days\n",
      "1085886    ZZ 2012-03-27    2012     1  69 days\n",
      "1085887    ZZ 2012-06-26    2012     2  91 days\n",
      "1085888    ZZ 2012-09-27    2012     3  93 days\n",
      "1085889    ZZ 2013-01-23    2012     4 118 days\n",
      "1085890  ZZZ1        NaT    1994     2      NaT\n",
      "1085891  ZZZ1 1994-10-19    1994     3      NaT\n",
      "1085892  ZZZ1 1995-01-17    1994     4  90 days\n",
      "1085893  ZZZ1 1995-04-19    1995     1  92 days\n",
      "1085894  ZZZ1 1995-07-20    1995     2  92 days\n",
      "1085895  ZZZ1 1995-10-19    1995     3  91 days\n",
      "1085896  ZZZ1 1996-01-25    1995     4  98 days\n",
      "1085897  ZZZ1 1996-04-17    1996     1  83 days\n",
      "1085898  ZZZ1 1996-07-17    1996     2  91 days\n",
      "1085899  ZZZ1 1996-10-17    1996     3  92 days\n",
      "1085900  ZZZ1 1997-01-28    1996     4 103 days\n",
      "1085901  ZZZ1 1997-04-25    1997     1  87 days\n",
      "1085902  ZZZ1 1997-07-23    1997     2  89 days\n",
      "1085903  ZZZ1 1997-10-22    1997     3  91 days\n",
      "1085904  ZZZ1 1998-01-28    1997     4  98 days\n",
      "1085905  ZZZ1 1998-04-22    1998     1  84 days\n",
      "1085906  ZZZ1 1998-07-22    1998     2  91 days\n",
      "1085907  ZZZ1 1998-10-23    1998     3  93 days\n",
      "1085908  ZZZ1 1999-01-27    1998     4  96 days\n",
      "1085909  ZZZ1 1999-04-21    1999     1  84 days\n",
      "1085910  ZZZ1 1999-07-21    1999     2  91 days\n",
      "1085911  ZZZ1 1999-10-18    1999     3  89 days\n",
      "1085912  ZZZ1 2000-01-26    1999     4 100 days\n",
      "1085913  ZZZ1 2000-04-26    2000     1  91 days\n",
      "1085914  ZZZ1 2000-08-14    2000     2 110 days\n"
     ]
    }
   ],
   "source": [
    "\n",
    "\n",
    "# Convert rdq to datetime if it is not already\n",
    "df['rdq'] = pd.to_datetime(df['rdq'], errors='coerce')\n",
    "df['fyearq'] = pd.to_numeric(df['fyearq'], errors='coerce')\n",
    "df['fqtr'] = pd.to_numeric(df['fqtr'], errors='coerce')\n",
    "\n",
    "grouped = df.groupby('tic', group_keys=False)\n",
    "\n",
    "# Function to calculate consecutive differences\n",
    "def calculate_diff(group):\n",
    "    # Sort the data within each group by the fiscal year and quarter in ascending order\n",
    "    group = group.sort_values(['fyearq', 'fqtr'])\n",
    "    \n",
    "    # Create a shifted column for the previous rdq\n",
    "    group['prev_rdq'] = group['rdq'].shift(1)\n",
    "    group['prev_fqtr'] = group['fqtr'].shift(1)\n",
    "    group['prev_fyearq'] = group['fyearq'].shift(1)\n",
    "    \n",
    "    # Calculate the differences\n",
    "    group['diff'] = group['rdq'] - group['prev_rdq']\n",
    "    \n",
    "    # Remove differences where quarters and years are not consecutive\n",
    "    mask = (group['fqtr'] == 1) & (group['prev_fqtr'] == 4) & (group['fyearq'] == group['prev_fyearq'] + 1)\n",
    "    mask |= (group['fqtr'] > 1) & (group['fqtr'] == group['prev_fqtr'] + 1) & (group['fyearq'] == group['prev_fyearq'])\n",
    "    \n",
    "    group['diff'] = group['diff'].where(mask)\n",
    "    \n",
    "    # Drop helper columns\n",
    "    group = group.drop(columns=['prev_rdq', 'prev_fqtr', 'prev_fyearq'])\n",
    "    \n",
    "    return group\n",
    "\n",
    "# Apply the function to each ticker group directly in the original DataFrame\n",
    "df = grouped.apply(calculate_diff)\n",
    "\n",
    "# Reset index to make it easier to read\n",
    "df = df.reset_index(drop=True)\n",
    "\n",
    "# Display the DataFrame with the computed differences\n",
    "print(df[['tic', 'rdq', 'fyearq', 'fqtr', 'diff']].tail(30))\n"
   ]
  },
  {
   "cell_type": "markdown",
   "id": "df1c8330-436b-4b31-aff4-dfcab4da3be6",
   "metadata": {},
   "source": [
    "#### After calculating the difference between consecutive reports, now we want to identify tickers for which fiscal year change happened.\n",
    "#### We want to set the dummy variable to 1 at the specific points where the fiscal year end month (fyr) changes for each ticker"
   ]
  },
  {
   "cell_type": "code",
   "execution_count": 16,
   "id": "2ab8791d-1ca9-4297-b6dd-68658ab24e8d",
   "metadata": {},
   "outputs": [
    {
     "name": "stdout",
     "output_type": "stream",
     "text": [
      "      tic        rdq  fyr  fyearq  fqtr  quarterly_report  annual_report  \\\n",
      "58  0015B 1998-09-23    5    1998     1                 1              0   \n",
      "59  0015B 1998-12-23    5    1998     2                 1              0   \n",
      "60  0015B 1999-03-17    5    1998     3                 1              0   \n",
      "61  0015B        NaT    5    1998     4                 0              1   \n",
      "62  0015B 1999-09-15    5    1999     1                 1              0   \n",
      "\n",
      "    fyr_change_dummy  market_cap  lower_bound  upper_bound     diff  \n",
      "58                 0  991.896313    793.51705  1190.275575 378 days  \n",
      "59                 0  719.272500    575.41800   863.127000  91 days  \n",
      "60                 0  598.121000    478.49680   717.745200  84 days  \n",
      "61                 0  783.000000    626.40000   939.600000      NaT  \n",
      "62                 0  765.699000    612.55920   918.838800      NaT  \n"
     ]
    }
   ],
   "source": [
    "df = df.sort_values(by=['tic', 'fyr'])\n",
    "\n",
    "# Find where tickers change\n",
    "ticker_change = df['tic'] != df['tic'].shift(1)\n",
    "\n",
    "# Create the dummy variable\n",
    "df['fyr_change_dummy'] = ((df['fyr'] != df['fyr'].shift(1)) & (~ticker_change)).astype(int)\n",
    "\n",
    "# Fill the first occurrence of each ticker group with 0\n",
    "df.loc[df.groupby('tic').head(1).index, 'fyr_change_dummy'] = 0\n",
    "print(df[['tic', 'rdq', 'fyr', 'fyearq', 'fqtr', 'quarterly_report', 'annual_report', 'fyr_change_dummy', 'market_cap', 'lower_bound', 'upper_bound', 'diff']].head())\n"
   ]
  },
  {
   "cell_type": "code",
   "execution_count": 17,
   "id": "be09b3cd-c468-41d1-946e-32c8c61afdcd",
   "metadata": {},
   "outputs": [
    {
     "name": "stdout",
     "output_type": "stream",
     "text": [
      "Number of changes: 2070\n"
     ]
    }
   ],
   "source": [
    "num_changes = (df['fyr_change_dummy'] == 1).sum()\n",
    "\n",
    "print(\"Number of changes:\", num_changes)"
   ]
  },
  {
   "cell_type": "code",
   "execution_count": 18,
   "id": "f6be3deb-aa3d-4099-a0ba-95651975c320",
   "metadata": {},
   "outputs": [
    {
     "name": "stdout",
     "output_type": "stream",
     "text": [
      "        tic        rdq  fyr  fyearq  fqtr  quarterly_report  annual_report  \\\n",
      "22    0015B 1989-03-10    6    1989     1                 1              0   \n",
      "0     0015B        NaT   10    1983     3                 1              0   \n",
      "625   0097A        NaT   12    1986     4                 0              1   \n",
      "1055  0147A 1991-07-31   12    1991     2                 1              0   \n",
      "1206  0161A 1999-04-28    6    1999     3                 1              0   \n",
      "\n",
      "      fyr_change_dummy  market_cap  lower_bound  upper_bound    diff  \n",
      "22                   1         NaN          NaN          NaN 43 days  \n",
      "0                    1   98.222171    78.577737   117.866605     NaT  \n",
      "625                  1   19.499994    15.599995    23.399993     NaT  \n",
      "1055                 1   42.588715    34.070972    51.106458     NaT  \n",
      "1206                 1  687.925938   550.340750   825.511125     NaT  \n"
     ]
    }
   ],
   "source": [
    "filtered_df = df[df['fyr_change_dummy'] == 1]\n",
    "print(filtered_df[['tic', 'rdq', 'fyr', 'fyearq', 'fqtr', 'quarterly_report', 'annual_report', 'fyr_change_dummy', 'market_cap', 'lower_bound', 'upper_bound', 'diff']].head())\n",
    "\n"
   ]
  },
  {
   "cell_type": "markdown",
   "id": "7743f292-6a87-4f36-80e7-adc9c902cc46",
   "metadata": {},
   "source": [
    "#### Split difference in report dates for quarterly reports and annual report.\n",
    "#### For quarterly reports: Calculate the difference between each quarter and the previous one.\n",
    "#### For annual reports (4th quarter): Calculate the difference from the 3rd quarter of the same year."
   ]
  },
  {
   "cell_type": "markdown",
   "id": "5d278333-a352-4d67-aeb1-72a769395c97",
   "metadata": {},
   "source": [
    "#### Let's split the distance for quarterly and annual reports"
   ]
  },
  {
   "cell_type": "code",
   "execution_count": 19,
   "id": "d7ec9ae8-3d3d-4788-852d-9bda850b1e1b",
   "metadata": {},
   "outputs": [
    {
     "name": "stdout",
     "output_type": "stream",
     "text": [
      "      tic        rdq  fyr  fyearq  fqtr  quarterly_report  annual_report  \\\n",
      "58  0015B 1998-09-23    5    1998     1                 1              0   \n",
      "59  0015B 1998-12-23    5    1998     2                 1              0   \n",
      "60  0015B 1999-03-17    5    1998     3                 1              0   \n",
      "61  0015B        NaT    5    1998     4                 0              1   \n",
      "62  0015B 1999-09-15    5    1999     1                 1              0   \n",
      "\n",
      "    fyr_change_dummy  market_cap  lower_bound  upper_bound annual_distance  \\\n",
      "58                 0  991.896313    793.51705  1190.275575             NaT   \n",
      "59                 0  719.272500    575.41800   863.127000             NaT   \n",
      "60                 0  598.121000    478.49680   717.745200             NaT   \n",
      "61                 0  783.000000    626.40000   939.600000             NaT   \n",
      "62                 0  765.699000    612.55920   918.838800             NaT   \n",
      "\n",
      "   quarter_distance     diff  \n",
      "58         378 days 378 days  \n",
      "59          91 days  91 days  \n",
      "60          84 days  84 days  \n",
      "61              NaT      NaT  \n",
      "62              NaT      NaT  \n"
     ]
    }
   ],
   "source": [
    "df['quarter_distance'] = df['diff'].where(df['quarterly_report'] == 1, pd.NaT)\n",
    "df['annual_distance'] = df['diff'].where(df['annual_report'] == 1, pd.NaT)\n",
    "print(df[['tic', 'rdq', 'fyr', 'fyearq', 'fqtr', 'quarterly_report', 'annual_report', 'fyr_change_dummy', 'market_cap', 'lower_bound', 'upper_bound', 'annual_distance', 'quarter_distance', 'diff']].head())\n"
   ]
  },
  {
   "cell_type": "code",
   "execution_count": 21,
   "id": "e1d0a334-fb7e-4c0e-9c31-7bd93a885be9",
   "metadata": {},
   "outputs": [
    {
     "name": "stdout",
     "output_type": "stream",
     "text": [
      "Empty quarter distance count: 408\n",
      "Empty annual distance count: 4\n"
     ]
    }
   ],
   "source": [
    "import pandas as pd\n",
    "import numpy as np\n",
    "\n",
    "# Initialize counters\n",
    "empty_quarter_distance_count = 0\n",
    "empty_annual_distance_count = 0\n",
    "fyr_change_tickers = df[df['fyr_change_dummy'] == 1]['tic'].unique()\n",
    "\n",
    "# Iterate over tickers for which fiscal year change happened\n",
    "for ticker in fyr_change_tickers:\n",
    "    fyr_change_row = df[(df['tic'] == ticker) & (df['fyr_change_dummy'] == 1)].iloc[0]\n",
    "    is_quarterly_report = fyr_change_row['quarterly_report'] == 1\n",
    "\n",
    "    # Filter tickers with similar market capitalization\n",
    "    similar_cap_tickers = df[(df['market_cap'] >= fyr_change_row['lower_bound']) &\n",
    "                             (df['market_cap'] <= fyr_change_row['upper_bound'])]\n",
    "\n",
    "    if is_quarterly_report:\n",
    "        # For quarterly report, use quarter_distance\n",
    "        distances = similar_cap_tickers['quarter_distance'].dropna()\n",
    "        if distances.empty:\n",
    "            empty_quarter_distance_count += 1\n",
    "    else:\n",
    "        # For annual report, use annual_distance\n",
    "        distances = similar_cap_tickers['annual_distance'].dropna()\n",
    "        if distances.empty:\n",
    "            empty_annual_distance_count += 1\n",
    "\n",
    "print(f\"Empty quarter distance count: {empty_quarter_distance_count}\")\n",
    "print(f\"Empty annual distance count: {empty_annual_distance_count}\")\n"
   ]
  },
  {
   "cell_type": "code",
   "execution_count": 22,
   "id": "406206e8-f9d7-4478-9824-36013ee65dc8",
   "metadata": {},
   "outputs": [
    {
     "name": "stdout",
     "output_type": "stream",
     "text": [
      "      tic        rdq  fyr  fyearq  fqtr  fyr_change_dummy  market_cap  \\\n",
      "58  0015B 1998-09-23    5    1998     1                 0  991.896313   \n",
      "59  0015B 1998-12-23    5    1998     2                 0  719.272500   \n",
      "60  0015B 1999-03-17    5    1998     3                 0  598.121000   \n",
      "61  0015B        NaT    5    1998     4                 0  783.000000   \n",
      "62  0015B 1999-09-15    5    1999     1                 0  765.699000   \n",
      "\n",
      "    lower_bound  upper_bound annual_distance quarter_distance  median_distance  \n",
      "58    793.51705  1190.275575             NaT         378 days              NaN  \n",
      "59    575.41800   863.127000             NaT          91 days              NaN  \n",
      "60    478.49680   717.745200             NaT          84 days              NaN  \n",
      "61    626.40000   939.600000             NaT              NaT              NaN  \n",
      "62    612.55920   918.838800             NaT              NaT              NaN  \n"
     ]
    }
   ],
   "source": [
    "import numpy as np\n",
    "import pandas as pd\n",
    "\n",
    "# Ensure the 'median_distance' column is created with the correct dtype\n",
    "df['median_distance'] = np.nan\n",
    "\n",
    "# Initialize an empty list to store median distances\n",
    "median_distances = []\n",
    "\n",
    "# Iterate over tickers where fiscal year change occurred\n",
    "for ticker in fyr_change_tickers:\n",
    "    # Step 1: Check if fiscal year change happened in quarterly or annual report\n",
    "    fyr_change_row = df[(df['tic'] == ticker) & (df['fyr_change_dummy'] == 1)].iloc[0]\n",
    "    is_quarterly_report = fyr_change_row['quarterly_report'] == 1\n",
    "\n",
    "    # Step 2: Filter tickers with similar market capitalization\n",
    "    similar_cap_tickers = df[(df['market_cap'] >= fyr_change_row['lower_bound']) &\n",
    "                             (df['market_cap'] <= fyr_change_row['upper_bound'])]\n",
    "\n",
    "    # Step 3: Check if similar cap tickers have non-empty distances\n",
    "    if is_quarterly_report:\n",
    "        # For quarterly report, use quarter_distance\n",
    "        distances = similar_cap_tickers['quarter_distance'].dropna().apply(lambda x: pd.Timedelta(x).days)\n",
    "    else:\n",
    "        # For annual report, use annual_distance\n",
    "        distances = similar_cap_tickers['annual_distance'].dropna().apply(lambda x: pd.Timedelta(x).days)\n",
    "\n",
    "    # Step 4: Ensure distances list is not empty before calculating median\n",
    "    if not distances.empty:\n",
    "        median_distance = distances.median()\n",
    "    else:\n",
    "        # If there are no distances, set to NaN\n",
    "        median_distance = np.nan\n",
    "\n",
    "    # Step 5: Add the calculated median distance to the DataFrame\n",
    "    df.loc[(df['tic'] == ticker) & (df['fyr_change_dummy'] == 1), 'median_distance'] = median_distance\n",
    "\n",
    "# Print the DataFrame to check the updated median_distance column\n",
    "print(df[['tic', 'rdq', 'fyr', 'fyearq', 'fqtr', 'fyr_change_dummy', 'market_cap', 'lower_bound', 'upper_bound', 'annual_distance', 'quarter_distance', 'median_distance']].head())\n"
   ]
  },
  {
   "cell_type": "code",
   "execution_count": 23,
   "id": "7bb89489-c341-4c06-81ab-7b4c92ffbf6c",
   "metadata": {},
   "outputs": [
    {
     "name": "stdout",
     "output_type": "stream",
     "text": [
      "Non-empty median distances: 1634\n"
     ]
    }
   ],
   "source": [
    "non_empty_median_distances = df['median_distance'].notna().sum()\n",
    "print(f\"Non-empty median distances: {non_empty_median_distances}\")"
   ]
  },
  {
   "cell_type": "code",
   "execution_count": 24,
   "id": "a31d0b63-763e-434a-8074-b3643998c577",
   "metadata": {},
   "outputs": [
    {
     "name": "stdout",
     "output_type": "stream",
     "text": [
      "Actual non-empty median distances: 1634\n",
      "Expected non-empty median distances for quarterly reports: 1503\n",
      "Expected non-empty median distances for annual reports: 155\n"
     ]
    }
   ],
   "source": [
    "# Count the actual number of non-empty median distances\n",
    "actual_non_empty_median_count = df['median_distance'].notna().sum()\n",
    "\n",
    "# Expected count for quarterly reports\n",
    "expected_non_empty_median_quarterly = 1911 - 408\n",
    "\n",
    "# Expected count for annual reports\n",
    "expected_non_empty_median_annual = 159 - 4\n",
    "\n",
    "# Print the actual and expected counts\n",
    "print(\"Actual non-empty median distances:\", actual_non_empty_median_count)\n",
    "print(\"Expected non-empty median distances for quarterly reports:\", expected_non_empty_median_quarterly)\n",
    "print(\"Expected non-empty median distances for annual reports:\", expected_non_empty_median_annual)\n"
   ]
  },
  {
   "cell_type": "code",
   "execution_count": 25,
   "id": "7a7468af-893d-40db-a56e-2761b6edb653",
   "metadata": {},
   "outputs": [
    {
     "name": "stdout",
     "output_type": "stream",
     "text": [
      "      tic        rdq  fyr  fyearq  fqtr  fyr_change_dummy  market_cap  \\\n",
      "58  0015B 1998-09-23    5    1998     1                 0  991.896313   \n",
      "59  0015B 1998-12-23    5    1998     2                 0  719.272500   \n",
      "60  0015B 1999-03-17    5    1998     3                 0  598.121000   \n",
      "61  0015B        NaT    5    1998     4                 0  783.000000   \n",
      "62  0015B 1999-09-15    5    1999     1                 0  765.699000   \n",
      "\n",
      "    lower_bound  upper_bound annual_distance quarter_distance  median_distance  \n",
      "58    793.51705  1190.275575             NaT         378 days              NaN  \n",
      "59    575.41800   863.127000             NaT          91 days              NaN  \n",
      "60    478.49680   717.745200             NaT          84 days              NaN  \n",
      "61    626.40000   939.600000             NaT              NaT              NaN  \n",
      "62    612.55920   918.838800             NaT              NaT              NaN  \n"
     ]
    }
   ],
   "source": [
    "# Ensure the 'median_distance' column is created with the correct dtype\n",
    "df['median_distance'] = np.nan\n",
    "\n",
    "# Initialize an empty list to store median distances\n",
    "median_distances = []\n",
    "\n",
    "# Iterate over tickers where fiscal year change occurred\n",
    "for ticker in fyr_change_tickers:\n",
    "    # Step 1: Check if fiscal year change happened in quarterly or annual report\n",
    "    fyr_change_row = df[(df['tic'] == ticker) & (df['fyr_change_dummy'] == 1)].iloc[0]\n",
    "    is_quarterly_report = fyr_change_row['quarterly_report'] == 1\n",
    "\n",
    "    # Step 2: Filter tickers with similar market capitalization\n",
    "    similar_cap_tickers = df[(df['market_cap'] >= fyr_change_row['lower_bound']) &\n",
    "                             (df['market_cap'] <= fyr_change_row['upper_bound'])]\n",
    "\n",
    "    # Step 3: Check if similar cap tickers have non-empty distances\n",
    "    if is_quarterly_report:\n",
    "        # For quarterly report, use quarter_distance\n",
    "        distances = similar_cap_tickers['quarter_distance'].dropna().apply(lambda x: pd.Timedelta(x).days)\n",
    "    else:\n",
    "        # For annual report, use annual_distance\n",
    "        distances = similar_cap_tickers['annual_distance'].dropna().apply(lambda x: pd.Timedelta(x).days)\n",
    "\n",
    "    # Step 4: Ensure distances list is not empty before calculating median\n",
    "    if not distances.empty:\n",
    "        median_distance = distances.median()\n",
    "    else:\n",
    "        # If there are no distances, set to NaN\n",
    "        median_distance = np.nan\n",
    "\n",
    "    # Step 5: Add the calculated median distance to the DataFrame\n",
    "    df.loc[(df['tic'] == ticker) & (df['fyr_change_dummy'] == 1), 'median_distance'] = median_distance\n",
    "\n",
    "# Print the DataFrame to check the updated median_distance column\n",
    "print(df[['tic', 'rdq', 'fyr', 'fyearq', 'fqtr', 'fyr_change_dummy', 'market_cap', 'lower_bound', 'upper_bound', 'annual_distance', 'quarter_distance', 'median_distance']].head())\n"
   ]
  },
  {
   "cell_type": "code",
   "execution_count": 26,
   "id": "301d6e14-9fa4-4803-ad6f-0f08976f0e86",
   "metadata": {},
   "outputs": [
    {
     "name": "stdout",
     "output_type": "stream",
     "text": [
      "Total fiscal year changes in quarterly reports: 1911\n",
      "Total fiscal year changes in annual reports: 159\n"
     ]
    }
   ],
   "source": [
    "# Count the total fiscal year changes in quarterly reports\n",
    "total_quarterly_changes = df[df['quarterly_report'] == 1]['fyr_change_dummy'].sum()\n",
    "\n",
    "# Count the total fiscal year changes in annual reports\n",
    "total_annual_changes = df[df['annual_report'] == 1]['fyr_change_dummy'].sum()\n",
    "\n",
    "print(f\"Total fiscal year changes in quarterly reports: {total_quarterly_changes}\")\n",
    "print(f\"Total fiscal year changes in annual reports: {total_annual_changes}\")\n"
   ]
  },
  {
   "cell_type": "code",
   "execution_count": 27,
   "id": "5c172de9-6c00-4afb-87fb-d28b90b1062d",
   "metadata": {},
   "outputs": [
    {
     "name": "stdout",
     "output_type": "stream",
     "text": [
      "Empty quarter distance count: 408\n",
      "Empty annual distance count: 4\n"
     ]
    }
   ],
   "source": [
    "# Initialize counters\n",
    "empty_quarter_distance_count = 0\n",
    "empty_annual_distance_count = 0\n",
    "\n",
    "# Iterate over tickers for which fiscal year change happened\n",
    "for ticker in fyr_change_tickers:\n",
    "    fyr_change_row = df[(df['tic'] == ticker) & (df['fyr_change_dummy'] == 1)].iloc[0]\n",
    "    is_quarterly_report = fyr_change_row['quarterly_report'] == 1\n",
    "\n",
    "    # Filter tickers with similar market capitalization\n",
    "    similar_cap_tickers = df[(df['market_cap'] >= fyr_change_row['lower_bound']) &\n",
    "                             (df['market_cap'] <= fyr_change_row['upper_bound'])]\n",
    "\n",
    "    if is_quarterly_report:\n",
    "        # For quarterly report, use quarter_distance\n",
    "        distances = similar_cap_tickers['quarter_distance'].dropna()\n",
    "        if distances.empty:\n",
    "            empty_quarter_distance_count += 1\n",
    "    else:\n",
    "        # For annual report, use annual_distance\n",
    "        distances = similar_cap_tickers['annual_distance'].dropna()\n",
    "        if distances.empty:\n",
    "            empty_annual_distance_count += 1\n",
    "\n",
    "print(f\"Empty quarter distance count: {empty_quarter_distance_count}\")\n",
    "print(f\"Empty annual distance count: {empty_annual_distance_count}\")\n"
   ]
  },
  {
   "cell_type": "code",
   "execution_count": 29,
   "id": "360956fe-250d-44d9-a090-d6a794cab5d8",
   "metadata": {},
   "outputs": [
    {
     "name": "stdout",
     "output_type": "stream",
     "text": [
      "Total fiscal year changes in quarterly reports: 1911\n",
      "Total fiscal year changes in annual reports: 159\n"
     ]
    }
   ],
   "source": [
    "# Count the number of fiscal year changes in quarterly reports and annual reports\n",
    "fyr_change_quarterly_count = df[df['quarterly_report'] == 1]['fyr_change_dummy'].sum()\n",
    "fyr_change_annual_count = df[df['annual_report'] == 1]['fyr_change_dummy'].sum()\n",
    "\n",
    "print(\"Total fiscal year changes in quarterly reports:\", fyr_change_quarterly_count)\n",
    "print(\"Total fiscal year changes in annual reports:\", fyr_change_annual_count)\n"
   ]
  },
  {
   "cell_type": "code",
   "execution_count": null,
   "id": "46807b66-e008-42b6-914f-000a9668592d",
   "metadata": {},
   "outputs": [],
   "source": []
  }
 ],
 "metadata": {
  "kernelspec": {
   "display_name": "Python 3 (ipykernel)",
   "language": "python",
   "name": "python3"
  },
  "language_info": {
   "codemirror_mode": {
    "name": "ipython",
    "version": 3
   },
   "file_extension": ".py",
   "mimetype": "text/x-python",
   "name": "python",
   "nbconvert_exporter": "python",
   "pygments_lexer": "ipython3",
   "version": "3.12.3"
  }
 },
 "nbformat": 4,
 "nbformat_minor": 5
}
