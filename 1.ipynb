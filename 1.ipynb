{
 "cells": [
  {
   "cell_type": "code",
   "execution_count": 9,
   "id": "882ef9ed-40a6-4bec-bda9-735e0e68bff3",
   "metadata": {},
   "outputs": [
    {
     "name": "stdout",
     "output_type": "stream",
     "text": [
      "Weekly Pivot Table saved to: weekly_pivot_1984.csv\n",
      "Weekly Returns Pivot Table (first 10 rows):\n",
      "tic         0223B  0485B  0491B  3234B  3614B  3ACDGE  3ACKH  3ACTRQ  3ADLN  \\\n",
      "1984-01-09   0.49 -10.29   3.52 -10.71   1.30    2.25  -1.30    3.51  -2.50   \n",
      "1984-01-16   0.48  -3.28  -2.72  -0.67  -5.79    8.79  -3.95   -3.39  -5.13   \n",
      "1984-01-23   0.00  -8.47  -0.70   1.34   2.73    2.02  -2.74   -7.89   0.00   \n",
      "1984-01-30  -0.48  -7.41   2.11   0.00   1.33    2.96  -6.10   -3.81  -2.70   \n",
      "1984-02-06   1.45 -10.00  -2.07  -4.64  -3.61   -8.65  -3.44   -6.93  -5.56   \n",
      "1984-02-13  -1.07  -0.00   2.11   0.00   0.00   -5.27  -4.71   -7.45  -2.94   \n",
      "1984-02-20  -0.00   2.22   1.38   1.39  -6.80    1.12   0.55   10.34   0.00   \n",
      "1984-02-27  -0.49  -5.43  -4.76   9.59   8.39   -2.20   7.10   -4.69   6.06   \n",
      "1984-03-05  -1.98 -19.54   2.86  -3.12  -3.37    0.00  -2.55   -6.56  -2.86   \n",
      "1984-03-12   1.01  -2.86  -4.17  -2.27  -3.83   -4.49  10.99    0.88  -2.94   \n",
      "\n",
      "tic         3ADOT.  ...   ZGCO   ZIGO  ZIM.1  ZION   ZMX   ZNT   ZRBA   ZRN  \\\n",
      "1984-01-09    3.57  ...  -0.83  -3.51  -2.73 -5.00 -2.83 -1.50   0.00 -1.28   \n",
      "1984-01-16   -6.90  ...   0.84  -5.45  -2.80 -5.26 -2.91  2.61   0.00 -0.86   \n",
      "1984-01-23   -1.85  ...  -0.83  -1.92 -11.54 -2.38 -4.00  0.85   0.00  1.74   \n",
      "1984-01-30   -3.77  ...  -2.52  -2.94  -4.35  0.00 -3.12 -3.36  -1.85 -0.85   \n",
      "1984-02-06   -3.92  ... -16.38 -10.10  -5.46 -6.50 -3.44 -2.61  -7.55 -6.47   \n",
      "1984-02-13   -4.08  ...   5.15  -4.49  -1.20  0.87  0.00 -0.89 -14.29 -8.29   \n",
      "1984-02-20    2.13  ...  -3.92  -5.88   8.54 -0.43  3.37 -4.50   0.00 -3.52   \n",
      "1984-02-27    6.25  ...   0.00   8.75   5.62  0.43  8.70  0.94   4.76 -0.52   \n",
      "1984-03-05   -5.88  ...   0.00   0.00  -4.26  0.00  0.00  0.93  -6.82  5.24   \n",
      "1984-03-12   -2.08  ...   1.02   0.00   2.22  1.29 -1.00  1.85   2.44  2.83   \n",
      "\n",
      "tic           ZRO  ZSEV  \n",
      "1984-01-09  -2.42  2.48  \n",
      "1984-01-16  -1.49  0.00  \n",
      "1984-01-23  -0.00  1.61  \n",
      "1984-01-30 -11.56  1.59  \n",
      "1984-02-06  -3.00  1.56  \n",
      "1984-02-13  -1.18 -2.31  \n",
      "1984-02-20  -5.36  1.57  \n",
      "1984-02-27  -1.89 -0.00  \n",
      "1984-03-05   1.92 -3.10  \n",
      "1984-03-12   7.55  0.00  \n",
      "\n",
      "[10 rows x 2841 columns]\n"
     ]
    }
   ],
   "source": [
    "import pandas as pd\n",
    "import numpy as np\n",
    "\n",
    "# Load data\n",
    "csv_file_path = '/Users/balmeru/Downloads/1984.csv' \n",
    "df = pd.read_csv(csv_file_path)\n",
    "\n",
    "columns_to_check = ['ajexdi', 'prccd', 'trfd']\n",
    "df.dropna(subset=columns_to_check, how='any', inplace=True)\n",
    "\n",
    "date_format = '%Y-%m-%d'  \n",
    "df['datadate'] = pd.to_datetime(df['datadate'], format=date_format)\n",
    "df.sort_values(by=['tic', 'datadate'], inplace=True)\n",
    "\n",
    "df['adjusted_close'] = df['prccd'] / df['ajexdi']\n",
    "df['adjusted_close_prior'] = df.groupby('tic')['adjusted_close'].shift(1)\n",
    "df['trfd_prior'] = df.groupby('tic')['trfd'].shift(1)\n",
    "\n",
    "df['daily_return'] = (\n",
    "    ((df['adjusted_close'] * df['trfd']) /\n",
    "     (df['adjusted_close_prior'] * df['trfd_prior'])) - 1\n",
    ") * 100\n",
    "\n",
    "df['day_diff'] = df.groupby('tic')['datadate'].diff().dt.days \n",
    "df.loc[df['day_diff'] > 5, 'daily_return'] = np.nan\n",
    "\n",
    "pivot_df = df.pivot_table(index='datadate', columns='tic', values='daily_return')\n",
    "\n",
    "pivot_df = pivot_df.map(lambda x: x / 100 if pd.notnull(x) else np.nan)\n",
    "\n",
    "adjusted_daily_returns = pivot_df.map(lambda x: x + 1 if pd.notnull(x) else np.nan)\n",
    "\n",
    "def consecutive_zeros(prices):\n",
    "    count = 0\n",
    "    max_count = 0\n",
    "    for price in prices:\n",
    "        if price == 0:\n",
    "            count += 1\n",
    "            max_count = max(max_count, count) \n",
    "        else:\n",
    "            count = 0\n",
    "    return max_count\n",
    "\n",
    "consecutive_zero_counts = df.groupby('tic')['prccd'].apply(consecutive_zeros)\n",
    "\n",
    "for ticker, max_zeros in consecutive_zero_counts.items():\n",
    "    if max_zeros > 5:\n",
    "        warnings.warn(f\"Warning: Ticker '{ticker}' has more than 5 consecutive zeros in 'prccd'.\")\n",
    "\n",
    "all_weekdays = pd.date_range(start=adjusted_daily_returns.index.min(), end=adjusted_daily_returns.index.max(), freq='B')  \n",
    "df_reindexed = adjusted_daily_returns.reindex(all_weekdays)\n",
    "\n",
    "all_mondays = pd.date_range(start=df_reindexed.index.min(), end=df_reindexed.index.max(), freq='W-MON')\n",
    "weekly_pivot_df = pd.DataFrame(data=np.nan, index=all_mondays, columns=df_reindexed.columns)\n",
    "ticker_start_dates = df_reindexed.apply(lambda x: x.first_valid_index(), axis=0)\n",
    "\n",
    "for i, monday in enumerate(all_mondays):\n",
    "    start_date = monday\n",
    "    if i < len(all_mondays) - 1:\n",
    "        end_date = all_mondays[i + 1] - pd.DateOffset(days=1)\n",
    "    else:\n",
    "        end_date = df_reindexed.index.max()  # Last Monday\n",
    "    \n",
    "    weekly_data = df_reindexed.loc[start_date:end_date]\n",
    "    for ticker in df_reindexed.columns:\n",
    "        if monday < ticker_start_dates[ticker]:\n",
    "            weekly_pivot_df.loc[monday, ticker] = np.nan\n",
    "        else:\n",
    "            if weekly_data.isnull().sum(axis=0)[ticker] == 5:\n",
    "                weekly_pivot_df.loc[monday, ticker] = np.nan\n",
    "            else:\n",
    "                weekly_pivot_df.loc[monday, ticker] = (weekly_data[ticker].prod(skipna=True) - 1) * 100\n",
    "\n",
    "pd.set_option('display.float_format', lambda x: f'{x:.2f}')  \n",
    "\n",
    "weekly_pivot_path = \"weekly_pivot_1984.csv\"  \n",
    "weekly_pivot_df.to_csv(weekly_pivot_path)\n",
    "print(f\"Weekly Pivot Table saved to: {weekly_pivot_path}\")\n",
    "print(\"Weekly Returns Pivot Table (first 10 rows):\")\n",
    "print(weekly_pivot_df.head(10))\n"
   ]
  },
  {
   "cell_type": "code",
   "execution_count": 12,
   "id": "8b458543-628a-4a75-b5ae-3f0654cb9d95",
   "metadata": {},
   "outputs": [
    {
     "name": "stdout",
     "output_type": "stream",
     "text": [
      "Statistical Summary of Weekly Returns:\n",
      "count   143363.00\n",
      "mean        -0.06\n",
      "std          5.87\n",
      "min        -91.14\n",
      "25%         -2.42\n",
      "50%          0.00\n",
      "75%          1.88\n",
      "max        936.90\n",
      "dtype: float64\n"
     ]
    }
   ],
   "source": [
    "summary_stats = stacked_returns.describe()\n",
    "print(\"Statistical Summary of Weekly Returns:\")\n",
    "print(summary_stats)"
   ]
  },
  {
   "cell_type": "code",
   "execution_count": 1,
   "id": "95eee6e3-fe22-4b42-a70c-1bbe213023e9",
   "metadata": {},
   "outputs": [
    {
     "name": "stdout",
     "output_type": "stream",
     "text": [
      "Weekly Pivot Table saved to: weekly_pivot_1984.csv\n",
      "Weekly Returns Pivot Table (first 10 rows):\n",
      "tic         0223B  0485B  0491B  3234B  3614B  3ACDGE  3ACKH  3ACTRQ  3ADLN  \\\n",
      "1984-01-09   0.49 -10.29   3.52 -10.71   1.30    2.25  -1.30    3.51  -2.50   \n",
      "1984-01-16   0.48  -3.28  -2.72  -0.67  -5.79    8.79  -3.95   -3.39  -5.13   \n",
      "1984-01-23   0.00  -8.47  -0.70   1.34   2.73    2.02  -2.74   -7.89   0.00   \n",
      "1984-01-30  -0.48  -7.41   2.11   0.00   1.33    2.96  -6.10   -3.81  -2.70   \n",
      "1984-02-06   1.45 -10.00  -2.07  -4.64  -3.61   -8.65  -3.44   -6.93  -5.56   \n",
      "1984-02-13  -1.07  -0.00   2.11   0.00   0.00   -5.27  -4.71   -7.45  -2.94   \n",
      "1984-02-20  -0.00   2.22   1.38   1.39  -6.80    1.12   0.55   10.34   0.00   \n",
      "1984-02-27  -0.49  -5.43  -4.76   9.59   8.39   -2.20   7.10   -4.69   6.06   \n",
      "1984-03-05  -1.98 -19.54   2.86  -3.12  -3.37    0.00  -2.55   -6.56  -2.86   \n",
      "1984-03-12   1.01  -2.86  -4.17  -2.27  -3.83   -4.49  10.99    0.88  -2.94   \n",
      "\n",
      "tic         3ADOT.  ...   ZGCO   ZIGO  ZIM.1  ZION   ZMX   ZNT   ZRBA   ZRN  \\\n",
      "1984-01-09    3.57  ...  -0.83  -3.51  -2.73 -5.00 -2.83 -1.50   0.00 -1.28   \n",
      "1984-01-16   -6.90  ...   0.84  -5.45  -2.80 -5.26 -2.91  2.61   0.00 -0.86   \n",
      "1984-01-23   -1.85  ...  -0.83  -1.92 -11.54 -2.38 -4.00  0.85   0.00  1.74   \n",
      "1984-01-30   -3.77  ...  -2.52  -2.94  -4.35  0.00 -3.12 -3.36  -1.85 -0.85   \n",
      "1984-02-06   -3.92  ... -16.38 -10.10  -5.46 -6.50 -3.44 -2.61  -7.55 -6.47   \n",
      "1984-02-13   -4.08  ...   5.15  -4.49  -1.20  0.87  0.00 -0.89 -14.29 -8.29   \n",
      "1984-02-20    2.13  ...  -3.92  -5.88   8.54 -0.43  3.37 -4.50   0.00 -3.52   \n",
      "1984-02-27    6.25  ...   0.00   8.75   5.62  0.43  8.70  0.94   4.76 -0.52   \n",
      "1984-03-05   -5.88  ...   0.00   0.00  -4.26  0.00  0.00  0.93  -6.82  5.24   \n",
      "1984-03-12   -2.08  ...   1.02   0.00   2.22  1.29 -1.00  1.85   2.44  2.83   \n",
      "\n",
      "tic           ZRO  ZSEV  \n",
      "1984-01-09  -2.42  2.48  \n",
      "1984-01-16  -1.49  0.00  \n",
      "1984-01-23  -0.00  1.61  \n",
      "1984-01-30 -11.56  1.59  \n",
      "1984-02-06  -3.00  1.56  \n",
      "1984-02-13  -1.18 -2.31  \n",
      "1984-02-20  -5.36  1.57  \n",
      "1984-02-27  -1.89 -0.00  \n",
      "1984-03-05   1.92 -3.10  \n",
      "1984-03-12   7.55  0.00  \n",
      "\n",
      "[10 rows x 2841 columns]\n"
     ]
    }
   ],
   "source": [
    "import pandas as pd\n",
    "import numpy as np\n",
    "\n",
    "# Load data\n",
    "csv_file_path = '/Users/balmeru/Downloads/1984.csv' \n",
    "df = pd.read_csv(csv_file_path)\n",
    "\n",
    "columns_to_check = ['ajexdi', 'prccd', 'trfd']\n",
    "df.dropna(subset=columns_to_check, how='any', inplace=True)\n",
    "\n",
    "date_format = '%Y-%m-%d'  \n",
    "df['datadate'] = pd.to_datetime(df['datadate'], format=date_format)\n",
    "df.sort_values(by=['tic', 'datadate'], inplace=True)\n",
    "\n",
    "df['adjusted_close'] = df['prccd'] / df['ajexdi']\n",
    "df['adjusted_close_prior'] = df.groupby('tic')['adjusted_close'].shift(1)\n",
    "df['trfd_prior'] = df.groupby('tic')['trfd'].shift(1)\n",
    "\n",
    "df['daily_return'] = (\n",
    "    ((df['adjusted_close'] * df['trfd']) /\n",
    "     (df['adjusted_close_prior'] * df['trfd_prior'])) - 1\n",
    ") * 100\n",
    "\n",
    "df['day_diff'] = df.groupby('tic')['datadate'].diff().dt.days \n",
    "df.loc[df['day_diff'] > 5, 'daily_return'] = np.nan\n",
    "\n",
    "pivot_df = df.pivot_table(index='datadate', columns='tic', values='daily_return')\n",
    "\n",
    "pivot_df = pivot_df.map(lambda x: x / 100 if pd.notnull(x) else np.nan)\n",
    "\n",
    "adjusted_daily_returns = pivot_df.map(lambda x: x + 1 if pd.notnull(x) else np.nan)\n",
    "\n",
    "def consecutive_zeros(prices):\n",
    "    count = 0\n",
    "    max_count = 0\n",
    "    for price in prices:\n",
    "        if price == 0:\n",
    "            count += 1\n",
    "            max_count = max(max_count, count) \n",
    "        else:\n",
    "            count = 0\n",
    "    return max_count\n",
    "\n",
    "consecutive_zero_counts = df.groupby('tic')['prccd'].apply(consecutive_zeros)\n",
    "\n",
    "for ticker, max_zeros in consecutive_zero_counts.items():\n",
    "    if max_zeros > 5:\n",
    "        warnings.warn(f\"Warning: Ticker '{ticker}' has more than 5 consecutive zeros in 'prccd'.\")\n",
    "\n",
    "all_weekdays = pd.date_range(start=adjusted_daily_returns.index.min(), end=adjusted_daily_returns.index.max(), freq='B')  \n",
    "df_reindexed = adjusted_daily_returns.reindex(all_weekdays)\n",
    "\n",
    "all_mondays = pd.date_range(start=df_reindexed.index.min(), end=df_reindexed.index.max(), freq='W-MON')\n",
    "weekly_pivot_df = pd.DataFrame(data=np.nan, index=all_mondays, columns=df_reindexed.columns)\n",
    "ticker_start_dates = df_reindexed.apply(lambda x: x.first_valid_index(), axis=0)\n",
    "\n",
    "for i, monday in enumerate(all_mondays):\n",
    "    start_date = monday\n",
    "    if i < len(all_mondays) - 1:\n",
    "        end_date = all_mondays[i + 1] - pd.DateOffset(days=1)\n",
    "    else:\n",
    "        end_date = df_reindexed.index.max()  # Last Monday\n",
    "    \n",
    "    weekly_data = df_reindexed.loc[start_date:end_date]\n",
    "    for ticker in df_reindexed.columns:\n",
    "        if monday < ticker_start_dates[ticker]:\n",
    "            weekly_pivot_df.loc[monday, ticker] = np.nan\n",
    "        else:\n",
    "            if weekly_data.isnull().sum(axis=0)[ticker] == 5:\n",
    "                weekly_pivot_df.loc[monday, ticker] = np.nan\n",
    "            else:\n",
    "                weekly_pivot_df.loc[monday, ticker] = (weekly_data[ticker].prod(skipna=True) - 1) * 100\n",
    "\n",
    "pd.set_option('display.float_format', lambda x: f'{x:.2f}')  \n",
    "\n",
    "weekly_pivot_path = \"weekly_pivot_1984.csv\"  \n",
    "weekly_pivot_df.to_csv(weekly_pivot_path)\n",
    "print(f\"Weekly Pivot Table saved to: {weekly_pivot_path}\")\n",
    "print(\"Weekly Returns Pivot Table (first 10 rows):\")\n",
    "print(weekly_pivot_df.head(10))\n"
   ]
  },
  {
   "cell_type": "code",
   "execution_count": 2,
   "id": "80cdc365-8f94-4e47-9d6b-0ba5ac4f06ca",
   "metadata": {},
   "outputs": [
    {
     "name": "stdout",
     "output_type": "stream",
     "text": [
      "Detected 9310 outliers in ajexdi.\n",
      "Detected 9498 outliers in prccd.\n",
      "Detected 2181 outliers in trfd.\n"
     ]
    }
   ],
   "source": [
    "from scipy import stats\n",
    "\n",
    "def detect_outliers_zscore(df, columns, threshold=3):\n",
    "    outliers = {}\n",
    "    for col in columns:\n",
    "        z_scores = stats.zscore(df[col].dropna())\n",
    "        outliers[col] = df[col][(np.abs(z_scores) > threshold)]\n",
    "    return outliers\n",
    "\n",
    "# Detect outliers for 'ajexdi', 'prccd', and 'trfd'\n",
    "columns_to_check = ['ajexdi', 'prccd', 'trfd']\n",
    "outliers = detect_outliers_zscore(df, columns_to_check)\n",
    "\n",
    "# Print summary of outliers\n",
    "for col, out in outliers.items():\n",
    "    print(f\"Detected {len(out)} outliers in {col}.\")\n"
   ]
  },
  {
   "cell_type": "code",
   "execution_count": 3,
   "id": "0cbf65ba-55d9-41a7-9e29-00d55290e737",
   "metadata": {},
   "outputs": [
    {
     "name": "stdout",
     "output_type": "stream",
     "text": [
      "Summary Statistics for 'ajexdi', 'prccd', 'trfd':\n",
      "         ajexdi     prccd      trfd\n",
      "count 695337.00 695337.00 695337.00\n",
      "mean       4.83     20.08      1.02\n",
      "std       11.39     16.50      0.11\n",
      "min        0.00      0.05      1.00\n",
      "25%        1.00      9.00      1.00\n",
      "50%        2.00     16.50      1.01\n",
      "75%        4.00     26.88      1.02\n",
      "max      253.12    299.75     54.88\n"
     ]
    }
   ],
   "source": [
    "summary_stats = df[columns_to_check].describe()\n",
    "\n",
    "print(\"Summary Statistics for 'ajexdi', 'prccd', 'trfd':\")\n",
    "print(summary_stats)"
   ]
  },
  {
   "cell_type": "code",
   "execution_count": 4,
   "id": "284f2d5d-83e0-4842-8e02-ae6d5e16ca86",
   "metadata": {},
   "outputs": [
    {
     "name": "stdout",
     "output_type": "stream",
     "text": [
      "Summary of outliers in ajexdi:\n",
      "count   9310.00\n",
      "mean      76.75\n",
      "std       47.11\n",
      "min       39.14\n",
      "25%       48.00\n",
      "50%       64.00\n",
      "75%       82.69\n",
      "max      253.12\n",
      "Name: ajexdi, dtype: float64\n",
      "Summary of outliers in prccd:\n",
      "count   9498.00\n",
      "mean      97.40\n",
      "std       34.62\n",
      "min       69.62\n",
      "25%       75.12\n",
      "50%       83.75\n",
      "75%      108.50\n",
      "max      299.75\n",
      "Name: prccd, dtype: float64\n",
      "Summary of outliers in trfd:\n",
      "count   2181.00\n",
      "mean       2.12\n",
      "std        1.51\n",
      "min        1.35\n",
      "25%        1.48\n",
      "50%        1.84\n",
      "75%        2.11\n",
      "max       54.88\n",
      "Name: trfd, dtype: float64\n"
     ]
    }
   ],
   "source": [
    "outliers_summary = {col: out.describe() for col, out in outliers.items()}\n",
    "for col, summary in outliers_summary.items():\n",
    "    print(f\"Summary of outliers in {col}:\")\n",
    "    print(summary)\n"
   ]
  },
  {
   "cell_type": "code",
   "execution_count": 5,
   "id": "ba9fa0b1-7059-4b72-9950-e4cc99de4d38",
   "metadata": {},
   "outputs": [],
   "source": [
    "pivot_ajexdi = df.pivot_table(index='datadate', columns='tic', values='ajexdi')\n",
    "pivot_prccd = df.pivot_table(index='datadate', columns='tic', values='prccd')\n",
    "pivot_trfd = df.pivot_table(index='datadate', columns='tic', values='trfd')\n"
   ]
  },
  {
   "cell_type": "code",
   "execution_count": 6,
   "id": "189c87bb-1dbd-4989-8197-8890f24e009b",
   "metadata": {},
   "outputs": [
    {
     "data": {
      "text/html": [
       "<div>\n",
       "<style scoped>\n",
       "    .dataframe tbody tr th:only-of-type {\n",
       "        vertical-align: middle;\n",
       "    }\n",
       "\n",
       "    .dataframe tbody tr th {\n",
       "        vertical-align: top;\n",
       "    }\n",
       "\n",
       "    .dataframe thead th {\n",
       "        text-align: right;\n",
       "    }\n",
       "</style>\n",
       "<table border=\"1\" class=\"dataframe\">\n",
       "  <thead>\n",
       "    <tr style=\"text-align: right;\">\n",
       "      <th>tic</th>\n",
       "      <th>0223B</th>\n",
       "      <th>0485B</th>\n",
       "      <th>0491B</th>\n",
       "      <th>3234B</th>\n",
       "      <th>3614B</th>\n",
       "      <th>3ACDGE</th>\n",
       "      <th>3ACKH</th>\n",
       "      <th>3ACTRQ</th>\n",
       "      <th>3ADLN</th>\n",
       "      <th>3ADOT.</th>\n",
       "      <th>...</th>\n",
       "      <th>ZGCO</th>\n",
       "      <th>ZIGO</th>\n",
       "      <th>ZIM.1</th>\n",
       "      <th>ZION</th>\n",
       "      <th>ZMX</th>\n",
       "      <th>ZNT</th>\n",
       "      <th>ZRBA</th>\n",
       "      <th>ZRN</th>\n",
       "      <th>ZRO</th>\n",
       "      <th>ZSEV</th>\n",
       "    </tr>\n",
       "    <tr>\n",
       "      <th>datadate</th>\n",
       "      <th></th>\n",
       "      <th></th>\n",
       "      <th></th>\n",
       "      <th></th>\n",
       "      <th></th>\n",
       "      <th></th>\n",
       "      <th></th>\n",
       "      <th></th>\n",
       "      <th></th>\n",
       "      <th></th>\n",
       "      <th></th>\n",
       "      <th></th>\n",
       "      <th></th>\n",
       "      <th></th>\n",
       "      <th></th>\n",
       "      <th></th>\n",
       "      <th></th>\n",
       "      <th></th>\n",
       "      <th></th>\n",
       "      <th></th>\n",
       "      <th></th>\n",
       "    </tr>\n",
       "  </thead>\n",
       "  <tbody>\n",
       "    <tr>\n",
       "      <th>1983-12-30</th>\n",
       "      <td>NaN</td>\n",
       "      <td>NaN</td>\n",
       "      <td>NaN</td>\n",
       "      <td>2.00</td>\n",
       "      <td>NaN</td>\n",
       "      <td>NaN</td>\n",
       "      <td>NaN</td>\n",
       "      <td>NaN</td>\n",
       "      <td>NaN</td>\n",
       "      <td>NaN</td>\n",
       "      <td>...</td>\n",
       "      <td>NaN</td>\n",
       "      <td>NaN</td>\n",
       "      <td>NaN</td>\n",
       "      <td>NaN</td>\n",
       "      <td>NaN</td>\n",
       "      <td>NaN</td>\n",
       "      <td>NaN</td>\n",
       "      <td>NaN</td>\n",
       "      <td>NaN</td>\n",
       "      <td>NaN</td>\n",
       "    </tr>\n",
       "    <tr>\n",
       "      <th>1984-01-02</th>\n",
       "      <td>NaN</td>\n",
       "      <td>NaN</td>\n",
       "      <td>NaN</td>\n",
       "      <td>NaN</td>\n",
       "      <td>NaN</td>\n",
       "      <td>NaN</td>\n",
       "      <td>NaN</td>\n",
       "      <td>NaN</td>\n",
       "      <td>NaN</td>\n",
       "      <td>NaN</td>\n",
       "      <td>...</td>\n",
       "      <td>NaN</td>\n",
       "      <td>NaN</td>\n",
       "      <td>NaN</td>\n",
       "      <td>NaN</td>\n",
       "      <td>NaN</td>\n",
       "      <td>NaN</td>\n",
       "      <td>NaN</td>\n",
       "      <td>NaN</td>\n",
       "      <td>NaN</td>\n",
       "      <td>NaN</td>\n",
       "    </tr>\n",
       "    <tr>\n",
       "      <th>1984-01-03</th>\n",
       "      <td>2.00</td>\n",
       "      <td>1.50</td>\n",
       "      <td>1.00</td>\n",
       "      <td>2.00</td>\n",
       "      <td>2.00</td>\n",
       "      <td>1.21</td>\n",
       "      <td>2.00</td>\n",
       "      <td>1.50</td>\n",
       "      <td>0.05</td>\n",
       "      <td>1.00</td>\n",
       "      <td>...</td>\n",
       "      <td>1.00</td>\n",
       "      <td>3.00</td>\n",
       "      <td>1.00</td>\n",
       "      <td>8.00</td>\n",
       "      <td>1.20</td>\n",
       "      <td>1.65</td>\n",
       "      <td>2.25</td>\n",
       "      <td>2.00</td>\n",
       "      <td>1.95</td>\n",
       "      <td>3.00</td>\n",
       "    </tr>\n",
       "    <tr>\n",
       "      <th>1984-01-04</th>\n",
       "      <td>2.00</td>\n",
       "      <td>1.50</td>\n",
       "      <td>1.00</td>\n",
       "      <td>2.00</td>\n",
       "      <td>2.00</td>\n",
       "      <td>1.21</td>\n",
       "      <td>2.00</td>\n",
       "      <td>1.50</td>\n",
       "      <td>0.05</td>\n",
       "      <td>1.00</td>\n",
       "      <td>...</td>\n",
       "      <td>1.00</td>\n",
       "      <td>3.00</td>\n",
       "      <td>1.00</td>\n",
       "      <td>8.00</td>\n",
       "      <td>1.20</td>\n",
       "      <td>1.65</td>\n",
       "      <td>2.25</td>\n",
       "      <td>2.00</td>\n",
       "      <td>1.95</td>\n",
       "      <td>3.00</td>\n",
       "    </tr>\n",
       "    <tr>\n",
       "      <th>1984-01-05</th>\n",
       "      <td>2.00</td>\n",
       "      <td>1.50</td>\n",
       "      <td>1.00</td>\n",
       "      <td>2.00</td>\n",
       "      <td>2.00</td>\n",
       "      <td>1.21</td>\n",
       "      <td>2.00</td>\n",
       "      <td>1.50</td>\n",
       "      <td>0.05</td>\n",
       "      <td>1.00</td>\n",
       "      <td>...</td>\n",
       "      <td>1.00</td>\n",
       "      <td>3.00</td>\n",
       "      <td>1.00</td>\n",
       "      <td>8.00</td>\n",
       "      <td>1.20</td>\n",
       "      <td>1.65</td>\n",
       "      <td>2.25</td>\n",
       "      <td>2.00</td>\n",
       "      <td>1.95</td>\n",
       "      <td>3.00</td>\n",
       "    </tr>\n",
       "  </tbody>\n",
       "</table>\n",
       "<p>5 rows × 2841 columns</p>\n",
       "</div>"
      ],
      "text/plain": [
       "tic         0223B  0485B  0491B  3234B  3614B  3ACDGE  3ACKH  3ACTRQ  3ADLN  \\\n",
       "datadate                                                                      \n",
       "1983-12-30    NaN    NaN    NaN   2.00    NaN     NaN    NaN     NaN    NaN   \n",
       "1984-01-02    NaN    NaN    NaN    NaN    NaN     NaN    NaN     NaN    NaN   \n",
       "1984-01-03   2.00   1.50   1.00   2.00   2.00    1.21   2.00    1.50   0.05   \n",
       "1984-01-04   2.00   1.50   1.00   2.00   2.00    1.21   2.00    1.50   0.05   \n",
       "1984-01-05   2.00   1.50   1.00   2.00   2.00    1.21   2.00    1.50   0.05   \n",
       "\n",
       "tic         3ADOT.  ...  ZGCO  ZIGO  ZIM.1  ZION  ZMX  ZNT  ZRBA  ZRN  ZRO  \\\n",
       "datadate            ...                                                      \n",
       "1983-12-30     NaN  ...   NaN   NaN    NaN   NaN  NaN  NaN   NaN  NaN  NaN   \n",
       "1984-01-02     NaN  ...   NaN   NaN    NaN   NaN  NaN  NaN   NaN  NaN  NaN   \n",
       "1984-01-03    1.00  ...  1.00  3.00   1.00  8.00 1.20 1.65  2.25 2.00 1.95   \n",
       "1984-01-04    1.00  ...  1.00  3.00   1.00  8.00 1.20 1.65  2.25 2.00 1.95   \n",
       "1984-01-05    1.00  ...  1.00  3.00   1.00  8.00 1.20 1.65  2.25 2.00 1.95   \n",
       "\n",
       "tic         ZSEV  \n",
       "datadate          \n",
       "1983-12-30   NaN  \n",
       "1984-01-02   NaN  \n",
       "1984-01-03  3.00  \n",
       "1984-01-04  3.00  \n",
       "1984-01-05  3.00  \n",
       "\n",
       "[5 rows x 2841 columns]"
      ]
     },
     "execution_count": 6,
     "metadata": {},
     "output_type": "execute_result"
    }
   ],
   "source": [
    "pivot_ajexdi.head()"
   ]
  },
  {
   "cell_type": "code",
   "execution_count": 8,
   "id": "375db161-dc02-4ff2-9d84-65a7521f9ef6",
   "metadata": {},
   "outputs": [
    {
     "name": "stdout",
     "output_type": "stream",
     "text": [
      "Summary statistics for 'ajexdi':\n",
      "count   695337.00\n",
      "mean         4.83\n",
      "std         11.39\n",
      "min          0.00\n",
      "25%          1.00\n",
      "50%          2.00\n",
      "75%          4.00\n",
      "max        253.12\n",
      "Name: ajexdi, dtype: float64\n",
      "\n",
      "Summary statistics for 'prccd':\n",
      "count   695337.00\n",
      "mean        20.08\n",
      "std         16.50\n",
      "min          0.05\n",
      "25%          9.00\n",
      "50%         16.50\n",
      "75%         26.88\n",
      "max        299.75\n",
      "Name: prccd, dtype: float64\n",
      "\n",
      "Summary statistics for 'trfd':\n",
      "count   695337.00\n",
      "mean         1.02\n",
      "std          0.11\n",
      "min          1.00\n",
      "25%          1.00\n",
      "50%          1.01\n",
      "75%          1.02\n",
      "max         54.88\n",
      "Name: trfd, dtype: float64\n"
     ]
    },
    {
     "data": {
      "image/png": "[encoded data removed]",
      "text/plain": [
       "<Figure size 1500x500 with 3 Axes>"
      ]
     },
     "metadata": {},
     "output_type": "display_data"
    }
   ],
   "source": [
    "import pandas as pd\n",
    "import numpy as np\n",
    "import matplotlib.pyplot as plt\n",
    "stacked_ajexdi = pivot_ajexdi.stack().reset_index(name='ajexdi')\n",
    "stacked_prccd = pivot_prccd.stack().reset_index(name='prccd')\n",
    "stacked_trfd = pivot_trfd.stack().reset_index(name='trfd')\n",
    "\n",
    "# Summary statistics\n",
    "summary_ajexdi = stacked_ajexdi['ajexdi'].describe()\n",
    "summary_prccd = stacked_prccd['prccd'].describe()\n",
    "summary_trfd = stacked_trfd['trfd'].describe()\n",
    "\n",
    "print(\"Summary statistics for 'ajexdi':\")\n",
    "print(summary_ajexdi)\n",
    "\n",
    "print(\"\\nSummary statistics for 'prccd':\")\n",
    "print(summary_prccd)\n",
    "\n",
    "print(\"\\nSummary statistics for 'trfd':\")\n",
    "print(summary_trfd)\n",
    "\n",
    "# Plot histograms\n",
    "plt.figure(figsize=(15, 5))\n",
    "\n",
    "plt.subplot(1, 3, 1)\n",
    "plt.hist(stacked_ajexdi['ajexdi'].dropna(), bins=20, color='blue', alpha=0.7)\n",
    "plt.title('Histogram of ajexdi')\n",
    "\n",
    "plt.subplot(1, 3, 2)\n",
    "plt.hist(stacked_prccd['prccd'].dropna(), bins=20, color='green', alpha=0.7)\n",
    "plt.title('Histogram of prccd')\n",
    "\n",
    "plt.subplot(1, 3, 3)\n",
    "plt.hist(stacked_returns['trfd'].dropna(), bins=20, color='red', alpha=0.7)\n",
    "plt.title('Histogram of trfd')\n",
    "\n",
    "plt.tight_layout()\n",
    "plt.show()"
   ]
  },
  {
   "cell_type": "code",
   "execution_count": 13,
   "id": "0f096ea8-f658-4d92-b752-4b6c3ea157bb",
   "metadata": {},
   "outputs": [
    {
     "data": {
      "image/png": "[encoded data removed]",
      "text/plain": [
       "<Figure size 1500x500 with 5 Axes>"
      ]
     },
     "metadata": {},
     "output_type": "display_data"
    }
   ],
   "source": [
    "plt.figure(figsize=(15, 5))\n",
    "\n",
    "plt.subplot(1, 5, 1)\n",
    "plt.hist(stacked_ajexdi['ajexdi'].dropna(), bins=20, color='blue', alpha=0.7)\n",
    "plt.yscale('log')  # Set y-axis to logarithmic scale\n",
    "plt.title('Histogram of ajexdi')\n",
    "\n",
    "plt.subplot(1, 5, 2)\n",
    "plt.hist(stacked_prccd['prccd'].dropna(), bins=20, color='green', alpha=0.7)\n",
    "plt.yscale('log')  # Set y-axis to logarithmic scale\n",
    "plt.title('Histogram of prccd')\n",
    "\n",
    "plt.subplot(1, 5, 3)\n",
    "plt.hist(stacked_trfd['trfd'].dropna(), bins=20, color='red', alpha=0.7)\n",
    "plt.yscale('log')  # Set y-axis to logarithmic scale\n",
    "plt.title('Histogram of trfd')\n",
    "\n",
    "plt.subplot(1, 5, 4)\n",
    "plt.hist(stacked_returns.dropna(), bins=20, color='red', alpha=0.7)\n",
    "plt.yscale('log')  # Set y-axis to logarithmic scale\n",
    "plt.title('Histogram of Weekly Stock Returns')\n",
    "\n",
    "\n",
    "stacked_daily_returns = pivot_df.stack()\n",
    "plt.subplot(1, 5, 5)\n",
    "plt.hist(stacked_daily_returns.dropna(), bins=20, color='red', alpha=0.7)\n",
    "plt.yscale('log')  # Set y-axis to logarithmic scale\n",
    "plt.title('Histogram of Daily Stock Returns')\n",
    "\n",
    "plt.tight_layout()\n",
    "plt.show()\n"
   ]
  },
  {
   "cell_type": "code",
   "execution_count": 15,
   "id": "314dd727-2551-4236-84e6-aa3cf0f05e0b",
   "metadata": {},
   "outputs": [
    {
     "data": {
      "text/plain": [
       "count   692340.00\n",
       "mean        -0.00\n",
       "std          0.03\n",
       "min         -0.98\n",
       "25%         -0.01\n",
       "50%          0.00\n",
       "75%          0.01\n",
       "max          9.07\n",
       "dtype: float64"
      ]
     },
     "execution_count": 15,
     "metadata": {},
     "output_type": "execute_result"
    }
   ],
   "source": [
    "stacked_daily_returns.describe()"
   ]
  },
  {
   "cell_type": "code",
   "execution_count": 16,
   "id": "5b80483c-af19-47ac-9e88-79adbe0a51d9",
   "metadata": {},
   "outputs": [
    {
     "name": "stdout",
     "output_type": "stream",
     "text": [
      "Number of outliers using mean ± 3 standard deviations approach: 10893\n",
      "Total number of data points: 692340\n"
     ]
    }
   ],
   "source": [
    "# Calculate mean and standard deviation of daily returns\n",
    "mean_daily_return = pivot_df.mean()\n",
    "std_daily_return = pivot_df.std()\n",
    "\n",
    "# Define upper and lower bounds for outliers based on mean ± 3 standard deviations\n",
    "upper_bound = mean_daily_return + 3 * std_daily_return\n",
    "lower_bound = mean_daily_return - 3 * std_daily_return\n",
    "\n",
    "# Identify outliers using mean ± 3 standard deviations approach\n",
    "outliers_mean_3sd = (pivot_df > upper_bound) | (pivot_df < lower_bound)\n",
    "\n",
    "# Count number of outliers and total data points\n",
    "num_outliers_mean_3sd = outliers_mean_3sd.sum().sum()\n",
    "total_data_points = pivot_df.notnull().sum().sum()\n",
    "\n",
    "# Print results\n",
    "print(f\"Number of outliers using mean ± 3 standard deviations approach: {num_outliers_mean_3sd}\")\n",
    "print(f\"Total number of data points: {total_data_points}\")\n",
    "\n",
    "# Now you can repeat the process for MAD approach\n"
   ]
  },
  {
   "cell_type": "code",
   "execution_count": 19,
   "id": "a21c1508-88a7-4d76-8c56-6a5e7d7618b6",
   "metadata": {},
   "outputs": [
    {
     "name": "stdout",
     "output_type": "stream",
     "text": [
      "Number of outliers using median ± 3 MAD approach: 104447\n"
     ]
    }
   ],
   "source": [
    "import numpy as np\n",
    "\n",
    "# Calculate median of each column\n",
    "median_daily_return = pivot_df.median()\n",
    "\n",
    "# Calculate absolute deviations from the median\n",
    "abs_deviations = np.abs(pivot_df - median_daily_return)\n",
    "\n",
    "# Calculate median absolute deviation (MAD) across all tickers\n",
    "mad_daily_return = abs_deviations.median()\n",
    "\n",
    "# Define upper and lower bounds for outliers based on median ± 3 MAD\n",
    "upper_bound_mad = median_daily_return + 3 * mad_daily_return\n",
    "lower_bound_mad = median_daily_return - 3 * mad_daily_return\n",
    "\n",
    "# Identify outliers using median ± 3 MAD approach\n",
    "outliers_mad = (pivot_df > upper_bound_mad) | (pivot_df < lower_bound_mad)\n",
    "\n",
    "# Count number of outliers using MAD approach\n",
    "num_outliers_mad = outliers_mad.sum().sum()\n",
    "\n",
    "# Print results\n",
    "print(f\"Number of outliers using median ± 3 MAD approach: {num_outliers_mad}\")\n"
   ]
  },
  {
   "cell_type": "code",
   "execution_count": 3,
   "id": "7e163744-7d82-4a85-9840-3aaa30523bae",
   "metadata": {},
   "outputs": [
    {
     "name": "stdout",
     "output_type": "stream",
     "text": [
      "Number of outliers removed: 0\n"
     ]
    }
   ],
   "source": []
  },
  {
   "cell_type": "code",
   "execution_count": 7,
   "id": "fd0cb941-1dd2-438b-a862-9d050c11b38e",
   "metadata": {},
   "outputs": [
    {
     "data": {
      "text/plain": [
       "count   692340.00\n",
       "mean        -0.00\n",
       "std          0.03\n",
       "min         -0.98\n",
       "25%         -0.01\n",
       "50%          0.00\n",
       "75%          0.01\n",
       "max          9.07\n",
       "dtype: float64"
      ]
     },
     "execution_count": 7,
     "metadata": {},
     "output_type": "execute_result"
    }
   ],
   "source": [
    "pivot_df.stack().describe()"
   ]
  },
  {
   "cell_type": "code",
   "execution_count": 11,
   "id": "60fd13cf-c069-4203-a04f-c5a4590057a1",
   "metadata": {},
   "outputs": [
    {
     "name": "stdout",
     "output_type": "stream",
     "text": [
      "Shape of DataFrame after removing outliers: (260, 2841)\n"
     ]
    }
   ],
   "source": [
    "# Calculate mean and standard deviation for each column\n",
    "mean = pivot_df.mean()\n",
    "std = pivot_df.std()\n",
    "\n",
    "# Define the number of standard deviations for outlier detection\n",
    "num_std = 3\n",
    "\n",
    "# Determine the lower and upper bounds for outlier detection\n",
    "lower_bound = mean - num_std * std\n",
    "upper_bound = mean + num_std * std\n",
    "\n",
    "# Remove outliers\n",
    "outliers_removed_df = pivot_df[(pivot_df >= lower_bound) & (pivot_df <= upper_bound)]\n",
    "\n",
    "# Display the shape of the DataFrame after removing outliers\n",
    "print(\"Shape of DataFrame after removing outliers:\", outliers_removed_df.shape)\n"
   ]
  },
  {
   "cell_type": "code",
   "execution_count": 13,
   "id": "f9ed9b25-e34c-448d-868c-140060724b21",
   "metadata": {},
   "outputs": [
    {
     "data": {
      "text/plain": [
       "count   681447.00\n",
       "mean        -0.00\n",
       "std          0.02\n",
       "min         -0.23\n",
       "25%         -0.01\n",
       "50%          0.00\n",
       "75%          0.01\n",
       "max          0.28\n",
       "dtype: float64"
      ]
     },
     "execution_count": 13,
     "metadata": {},
     "output_type": "execute_result"
    }
   ],
   "source": [
    "outliers_removed_df.stack().describe()"
   ]
  },
  {
   "cell_type": "code",
   "execution_count": 14,
   "id": "e464756c-9d5f-4d11-815e-65a0157f3802",
   "metadata": {},
   "outputs": [
    {
     "data": {
      "text/plain": [
       "Text(0.5, 1.0, 'Histogram of Daily Stock Returns')"
      ]
     },
     "execution_count": 14,
     "metadata": {},
     "output_type": "execute_result"
    },
    {
     "data": {
      "image/png": "[encoded data removed]",
      "text/plain": [
       "<Figure size 640x480 with 1 Axes>"
      ]
     },
     "metadata": {},
     "output_type": "display_data"
    }
   ],
   "source": [
    "import pandas as pd\n",
    "import numpy as np\n",
    "import matplotlib.pyplot as plt\n",
    "stacked_daily_returns_outliers_removed = outliers_removed_df.stack()\n",
    "plt.subplot(1, 5, 5)\n",
    "plt.hist(stacked_daily_returns_outliers_removed.dropna(), bins=20, color='red', alpha=0.7)\n",
    "plt.yscale('log')  # Set y-axis to logarithmic scale\n",
    "plt.title('Histogram of Daily Stock Returns')"
   ]
  },
  {
   "cell_type": "code",
   "execution_count": 15,
   "id": "a84d5712-df15-493a-8775-960f4006e53f",
   "metadata": {},
   "outputs": [
    {
     "name": "stdout",
     "output_type": "stream",
     "text": [
      "Shape of DataFrame after removing outliers using MAD: (260, 2841)\n"
     ]
    }
   ],
   "source": [
    "# Calculate median for each column\n",
    "median = pivot_df.median()\n",
    "\n",
    "# Calculate absolute deviations from the median\n",
    "abs_deviations = np.abs(pivot_df - median)\n",
    "\n",
    "# Calculate median absolute deviation (MAD)\n",
    "mad = abs_deviations.median()\n",
    "\n",
    "# Define the threshold for outlier detection (e.g., 3 times MAD)\n",
    "threshold = 3\n",
    "\n",
    "# Determine the lower and upper bounds for outlier detection\n",
    "lower_bound = median - threshold * mad\n",
    "upper_bound = median + threshold * mad\n",
    "\n",
    "# Remove outliers\n",
    "outliers_removed_df2 = pivot_df[(pivot_df >= lower_bound) & (pivot_df <= upper_bound)]\n",
    "\n",
    "# Display the shape of the DataFrame after removing outliers\n",
    "print(\"Shape of DataFrame after removing outliers using MAD:\", outliers_removed_df.shape)\n"
   ]
  },
  {
   "cell_type": "code",
   "execution_count": 16,
   "id": "a4d674d6-90e1-4542-818a-37a1e089464b",
   "metadata": {},
   "outputs": [
    {
     "data": {
      "text/plain": [
       "Text(0.5, 1.0, 'Histogram of Daily Stock Returns')"
      ]
     },
     "execution_count": 16,
     "metadata": {},
     "output_type": "execute_result"
    },
    {
     "data": {
      "image/png": "[encoded data removed]",
      "text/plain": [
       "<Figure size 640x480 with 1 Axes>"
      ]
     },
     "metadata": {},
     "output_type": "display_data"
    }
   ],
   "source": [
    "import pandas as pd\n",
    "import numpy as np\n",
    "import matplotlib.pyplot as plt\n",
    "stacked_daily_returns_outliers_removed2 = outliers_removed_df2.stack()\n",
    "plt.subplot(1, 5, 5)\n",
    "plt.hist(stacked_daily_returns_outliers_removed2.dropna(), bins=20, color='red', alpha=0.7)\n",
    "plt.yscale('log')  # Set y-axis to logarithmic scale\n",
    "plt.title('Histogram of Daily Stock Returns')"
   ]
  },
  {
   "cell_type": "code",
   "execution_count": 17,
   "id": "412d33d9-d4bf-4063-a49d-38fd178679c5",
   "metadata": {},
   "outputs": [
    {
     "data": {
      "text/plain": [
       "count   587893.00\n",
       "mean        -0.00\n",
       "std          0.01\n",
       "min         -0.16\n",
       "25%         -0.01\n",
       "50%          0.00\n",
       "75%          0.00\n",
       "max          0.14\n",
       "dtype: float64"
      ]
     },
     "execution_count": 17,
     "metadata": {},
     "output_type": "execute_result"
    }
   ],
   "source": [
    "outliers_removed_df2.stack().describe()"
   ]
  },
  {
   "cell_type": "code",
   "execution_count": 18,
   "id": "5be93409-95c7-4391-a9c1-84119f6ccb58",
   "metadata": {},
   "outputs": [
    {
     "name": "stdout",
     "output_type": "stream",
     "text": [
      "Weekly Pivot Table saved to: weekly_pivot_1984.csv\n",
      "Weekly Returns Pivot Table (first 10 rows):\n",
      "tic         0223B  0485B  0491B  3234B  3614B  3ACDGE  3ACKH  3ACTRQ  3ADLN  \\\n",
      "1984-01-09   0.00  -0.11   0.04  -0.11   0.01    0.02  -0.01    0.04  -0.02   \n",
      "1984-01-16   0.00  -0.03  -0.03  -0.01  -0.06    0.09  -0.04   -0.03  -0.05   \n",
      "1984-01-23   0.00  -0.09  -0.01   0.01   0.03    0.02  -0.03   -0.08   0.00   \n",
      "1984-01-30  -0.00  -0.07   0.02   0.00   0.01    0.03  -0.06   -0.04  -0.03   \n",
      "1984-02-06   0.01  -0.10  -0.02  -0.05  -0.04   -0.09  -0.03   -0.20  -0.05   \n",
      "1984-02-13  -0.01   0.00   0.02   0.00   0.00   -0.05  -0.05   -0.08  -0.03   \n",
      "1984-02-20   0.00   0.02   0.01   0.01  -0.07    0.01   0.01    0.10   0.00   \n",
      "1984-02-27  -0.00  -0.05  -0.05   0.01   0.08   -0.02   0.07   -0.05  -0.05   \n",
      "1984-03-05  -0.02  -0.21   0.03  -0.03  -0.03    0.00  -0.02   -0.07  -0.03   \n",
      "1984-03-12   0.01  -0.03  -0.04  -0.02  -0.04   -0.05   0.05    0.01  -0.03   \n",
      "\n",
      "tic         3ADOT.  ...  ZGCO  ZIGO  ZIM.1  ZION   ZMX   ZNT  ZRBA   ZRN  \\\n",
      "1984-01-09    0.04  ... -0.01 -0.04  -0.03 -0.05 -0.03 -0.01  0.00 -0.01   \n",
      "1984-01-16   -0.07  ...  0.01  0.00  -0.03 -0.05 -0.03  0.03  0.00 -0.01   \n",
      "1984-01-23   -0.02  ... -0.01 -0.02  -0.12  0.05 -0.04  0.01  0.00  0.02   \n",
      "1984-01-30   -0.04  ... -0.02 -0.03   0.01  0.00 -0.03 -0.03 -0.02 -0.01   \n",
      "1984-02-06   -0.04  ... -0.10 -0.05  -0.05 -0.07 -0.03  0.05 -0.07 -0.07   \n",
      "1984-02-13   -0.04  ...  0.05  0.00  -0.01  0.01  0.00 -0.01 -0.15 -0.08   \n",
      "1984-02-20    0.02  ... -0.04  0.00   0.08 -0.00  0.03 -0.04  0.00 -0.04   \n",
      "1984-02-27    0.06  ...  0.00  0.00   0.06  0.00  0.09  0.01  0.05 -0.00   \n",
      "1984-03-05   -0.06  ...  0.00  0.00  -0.04  0.00  0.00  0.01 -0.07  0.05   \n",
      "1984-03-12   -0.02  ...  0.01  0.00   0.02  0.01 -0.01  0.02  0.02  0.03   \n",
      "\n",
      "tic          ZRO  ZSEV  \n",
      "1984-01-09 -0.02  0.02  \n",
      "1984-01-16 -0.01  0.00  \n",
      "1984-01-23  0.00  0.02  \n",
      "1984-01-30 -0.06  0.02  \n",
      "1984-02-06 -0.03  0.02  \n",
      "1984-02-13 -0.01 -0.02  \n",
      "1984-02-20 -0.05  0.02  \n",
      "1984-02-27 -0.02  0.00  \n",
      "1984-03-05  0.02 -0.03  \n",
      "1984-03-12  0.07  0.00  \n",
      "\n",
      "[10 rows x 2841 columns]\n"
     ]
    }
   ],
   "source": [
    "\n",
    "\n",
    "outliers_removed_df = outliers_removed_df.map(lambda x: x / 100 if pd.notnull(x) else np.nan)\n",
    "\n",
    "adjusted_daily_returns = outliers_removed_df.map(lambda x: x + 1 if pd.notnull(x) else np.nan)\n",
    "\n",
    "def consecutive_zeros(prices):\n",
    "    count = 0\n",
    "    max_count = 0\n",
    "    for price in prices:\n",
    "        if price == 0:\n",
    "            count += 1\n",
    "            max_count = max(max_count, count) \n",
    "        else:\n",
    "            count = 0\n",
    "    return max_count\n",
    "\n",
    "consecutive_zero_counts = df.groupby('tic')['prccd'].apply(consecutive_zeros)\n",
    "\n",
    "for ticker, max_zeros in consecutive_zero_counts.items():\n",
    "    if max_zeros > 5:\n",
    "        warnings.warn(f\"Warning: Ticker '{ticker}' has more than 5 consecutive zeros in 'prccd'.\")\n",
    "\n",
    "all_weekdays = pd.date_range(start=adjusted_daily_returns.index.min(), end=adjusted_daily_returns.index.max(), freq='B')  \n",
    "df_reindexed = adjusted_daily_returns.reindex(all_weekdays)\n",
    "\n",
    "all_mondays = pd.date_range(start=df_reindexed.index.min(), end=df_reindexed.index.max(), freq='W-MON')\n",
    "weekly_pivot_df = pd.DataFrame(data=np.nan, index=all_mondays, columns=df_reindexed.columns)\n",
    "ticker_start_dates = df_reindexed.apply(lambda x: x.first_valid_index(), axis=0)\n",
    "\n",
    "for i, monday in enumerate(all_mondays):\n",
    "    start_date = monday\n",
    "    if i < len(all_mondays) - 1:\n",
    "        end_date = all_mondays[i + 1] - pd.DateOffset(days=1)\n",
    "    else:\n",
    "        end_date = df_reindexed.index.max()  # Last Monday\n",
    "    \n",
    "    weekly_data = df_reindexed.loc[start_date:end_date]\n",
    "    for ticker in df_reindexed.columns:\n",
    "        if monday < ticker_start_dates[ticker]:\n",
    "            weekly_pivot_df.loc[monday, ticker] = np.nan\n",
    "        else:\n",
    "            if weekly_data.isnull().sum(axis=0)[ticker] == 5:\n",
    "                weekly_pivot_df.loc[monday, ticker] = np.nan\n",
    "            else:\n",
    "                weekly_pivot_df.loc[monday, ticker] = (weekly_data[ticker].prod(skipna=True) - 1) * 100\n",
    "\n",
    "pd.set_option('display.float_format', lambda x: f'{x:.2f}')  \n",
    "\n",
    "weekly_pivot_path = \"weekly_pivot_1984.csv\"  \n",
    "weekly_pivot_df.to_csv(weekly_pivot_path)\n",
    "print(f\"Weekly Pivot Table saved to: {weekly_pivot_path}\")\n",
    "print(\"Weekly Returns Pivot Table (first 10 rows):\")\n",
    "print(weekly_pivot_df.head(10))\n"
   ]
  },
  {
   "cell_type": "code",
   "execution_count": 20,
   "id": "890a29fd-165d-4ebe-8e1c-17a12ac63803",
   "metadata": {},
   "outputs": [
    {
     "data": {
      "text/plain": [
       "count   143357.00\n",
       "mean        -0.00\n",
       "std          0.04\n",
       "min         -0.45\n",
       "25%         -0.02\n",
       "50%          0.00\n",
       "75%          0.02\n",
       "max          0.50\n",
       "dtype: float64"
      ]
     },
     "execution_count": 20,
     "metadata": {},
     "output_type": "execute_result"
    }
   ],
   "source": [
    "weekly_pivot_df.stack().describe()"
   ]
  },
  {
   "cell_type": "code",
   "execution_count": null,
   "id": "cb5b9e58-4532-4312-bf3f-22d706550d2e",
   "metadata": {},
   "outputs": [],
   "source": []
  }
 ],
 "metadata": {
  "kernelspec": {
   "display_name": "Python 3 (ipykernel)",
   "language": "python",
   "name": "python3"
  },
  "language_info": {
   "codemirror_mode": {
    "name": "ipython",
    "version": 3
   },
   "file_extension": ".py",
   "mimetype": "text/x-python",
   "name": "python",
   "nbconvert_exporter": "python",
   "pygments_lexer": "ipython3",
   "version": "3.12.3"
  }
 },
 "nbformat": 4,
 "nbformat_minor": 5
}
