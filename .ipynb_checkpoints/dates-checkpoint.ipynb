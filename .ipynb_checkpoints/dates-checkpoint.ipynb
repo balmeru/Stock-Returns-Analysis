{
 "cells": [
  {
   "cell_type": "code",
   "execution_count": 1,
   "id": "a1cb916e-b78c-48c4-bfe0-8e5330f017c6",
   "metadata": {},
   "outputs": [
    {
     "name": "stdout",
     "output_type": "stream",
     "text": [
      "\n",
      "Overall number of unique tickers: 25157\n",
      "Total number of rows: 1085915\n",
      "Number of rows with income_good = True: 988555\n",
      "Number of rows with se1_good = True: 292366\n",
      "Number of rows with se2_good = True: 969679\n",
      "Number of rows with se3_good = True: 972202\n",
      "Number of rows where any of se1_good, se2_good, or se3_good is True: 976529\n",
      "Number of rows where income and any se is True: 973632\n"
     ]
    }
   ],
   "source": [
    "import pandas as pd\n",
    "import numpy as np\n",
    "from datetime import timedelta\n",
    "\n",
    "# Load data\n",
    "csv_file_path = \"/Users/balmeru/Downloads/QQQQ.csv\"\n",
    "df = pd.read_csv(csv_file_path)\n",
    "df['rdq'] = pd.to_datetime(df['rdq'], errors='coerce')\n",
    "\n",
    "df['txdbq'] = df['txdbq'].fillna(0)\n",
    "df['dvpq'] = df['dvpq'].fillna(0)\n",
    "df['income_good'] = ~df['ibq'].isna()\n",
    "\n",
    "# 1\n",
    "df['se1_good'] = ~df['teqq'].isna()\n",
    "\n",
    "# 2\n",
    "df['se2_good'] = ~df['ceqq'].isna() & ~df['pstkq'].isna()\n",
    "\n",
    "# 3\n",
    "df['se3_good'] = ~df['atq'].isna() & ~df['ltq'].isna()\n",
    "\n",
    "# market cap \n",
    "df['market_cap'] = df['prccq'] / df['ajexq'] * df['cshoq']\n",
    "\n",
    "# \n",
    "\n",
    "total_rows = len(df)\n",
    "income_good_count = df['income_good'].sum()\n",
    "se1_good_count = df['se1_good'].sum()\n",
    "se2_good_count = df['se2_good'].sum()\n",
    "se3_good_count = df['se3_good'].sum()\n",
    "any_se_good_count = (df['se1_good'] | df['se2_good'] | df['se3_good']).sum()\n",
    "se_and_income_good_count = ((df['se1_good'] | df['se2_good'] | df['se3_good']) & df['income_good']).sum()\n",
    "\n",
    "num_unique_tickers = df['tic'].nunique()\n",
    "\n",
    "print(f\"\\nOverall number of unique tickers: {num_unique_tickers}\")\n",
    "\n",
    "\n",
    "print(f\"Total number of rows: {total_rows}\")\n",
    "print(f\"Number of rows with income_good = True: {income_good_count}\")\n",
    "print(f\"Number of rows with se1_good = True: {se1_good_count}\")\n",
    "print(f\"Number of rows with se2_good = True: {se2_good_count}\")\n",
    "print(f\"Number of rows with se3_good = True: {se3_good_count}\")\n",
    "\n",
    "print(f\"Number of rows where any of se1_good, se2_good, or se3_good is True: {any_se_good_count}\")\n",
    "\n",
    "print(f\"Number of rows where income and any se is True: {se_and_income_good_count}\")\n"
   ]
  },
  {
   "cell_type": "code",
   "execution_count": 35,
   "id": "bb1ece1f-98ee-4df5-9271-62401763b708",
   "metadata": {},
   "outputs": [
    {
     "name": "stdout",
     "output_type": "stream",
     "text": [
      "Pivot Table corrected for both early and late reporting:\n",
      "tic          0015B      0033A      0131A      0141A      0170A      0173A  \\\n",
      "quarter                                                                     \n",
      "1984Q1         NaT 1984-04-23 1984-04-25 1984-04-20        NaT 1984-08-10   \n",
      "1984Q2         NaT 1984-07-25 1984-08-14 1984-07-24        NaT 1984-11-14   \n",
      "1984Q3         NaT 1984-10-29 1984-11-05 1984-10-23 1984-11-07 1985-02-15   \n",
      "1984Q4  1985-01-14 1985-02-19 1985-02-15 1985-01-29 1985-04-03 1985-06-06   \n",
      "\n",
      "tic          0223B      0431B      0571B      0575B  ...       ZGCO  \\\n",
      "quarter                                              ...              \n",
      "1984Q1  1984-04-23 1984-06-01 1984-04-30 1983-11-14  ... 1984-04-16   \n",
      "1984Q2  1984-08-01 1984-08-31 1984-07-25 1984-02-03  ... 1984-07-13   \n",
      "1984Q3  1984-10-24 1984-11-15 1984-10-26 1984-05-04  ... 1984-10-19   \n",
      "1984Q4  1985-01-30 1985-03-07 1985-03-13 1984-08-29  ... 1985-01-16   \n",
      "\n",
      "tic           ZIAD      ZIM.1       ZION        ZLC        ZMX       ZOND  \\\n",
      "quarter                                                                     \n",
      "1984Q1         NaT 1984-04-30 1984-04-12 1984-07-20 1984-05-11 1984-04-26   \n",
      "1984Q2  1984-09-25 1984-07-23 1984-07-12 1984-10-16 1984-07-25 1984-07-26   \n",
      "1984Q3  1984-12-20 1984-10-16 1984-10-12 1985-01-15 1984-11-09 1984-10-14   \n",
      "1984Q4  1985-04-22 1985-02-20 1985-01-21 1985-05-13 1985-01-24 1985-03-01   \n",
      "\n",
      "tic           ZRBA        ZRN        ZRO  \n",
      "quarter                                   \n",
      "1984Q1  1984-06-22 1984-07-23 1984-07-13  \n",
      "1984Q2  1984-09-21 1984-10-23 1984-10-12  \n",
      "1984Q3  1984-12-28 1985-01-22 1985-01-16  \n",
      "1984Q4  1985-04-02 1985-05-24 1985-05-10  \n",
      "\n",
      "[4 rows x 4029 columns]\n",
      "Range of Expected Announcement Dates after correction:\n",
      "Minimum date: 1983-10-03 00:00:00\n",
      "Maximum date: 1985-12-28 00:00:00\n"
     ]
    },
    {
     "name": "stderr",
     "output_type": "stream",
     "text": [
      "/var/folders/ds/rfyxvvb945vdt8znlkx31w1m00cj2y/T/ipykernel_20951/2650623099.py:30: FutureWarning: The default value of observed=False is deprecated and will change to observed=True in a future version of pandas. Specify observed=False to silence this warning and retain the current behavior\n",
      "  pivot_table = expected_dates_df.pivot_table(\n"
     ]
    }
   ],
   "source": [
    "\n",
    "target_year = 1984\n",
    "reference_year = 1983\n",
    "expected_dates = []\n",
    "for tic in df['tic'].unique():\n",
    "    tic_data = df[\n",
    "        (df['tic'] == tic) & \n",
    "        (df['fyearq'] == reference_year)\n",
    "    ]\n",
    "    \n",
    "    for quarter in range(1, 5):\n",
    "        quarter_data = tic_data[\n",
    "            (tic_data['fqtr'] == quarter)\n",
    "        ]\n",
    "        \n",
    "        if not quarter_data.empty:\n",
    "            reference_date = quarter_data['rdq'].iloc[0]\n",
    "            expected_date = reference_date + timedelta(weeks=52)\n",
    "        else:\n",
    "            expected_date = np.nan  \n",
    "        \n",
    "        expected_dates.append({\n",
    "            'quarter': f\"1984Q{quarter}\",  \n",
    "            'tic': tic,                   \n",
    "            'expected_announcement_date': expected_date  \n",
    "        })\n",
    "\n",
    "expected_dates_df = pd.DataFrame(expected_dates)\n",
    "expected_dates_df['quarter'] = pd.Categorical(expected_dates_df['quarter'], categories=['1984Q1', '1984Q2', '1984Q3', '1984Q4'], ordered=True)\n",
    "\n",
    "pivot_table = expected_dates_df.pivot_table(\n",
    "    index='quarter',   \n",
    "    columns='tic',    \n",
    "    values='expected_announcement_date'  \n",
    ")\n",
    "\n",
    "\n",
    "pivot_table_cleaned = pivot_table.dropna(axis=1, how='all')\n",
    "print(\"Pivot Table corrected for both early and late reporting:\")\n",
    "print(pivot_table_cleaned)\n",
    "\n",
    "\n",
    "pivot_table_cleaned.to_csv(\"/Users/balmeru/Downloads/expected_dates_1984.csv\", index=True)\n"
   ]
  },
  {
   "cell_type": "code",
   "execution_count": 36,
   "id": "5b1c8cb8-eb2b-43d7-b73b-3028c77063f3",
   "metadata": {},
   "outputs": [],
   "source": [
    "#Above calculation is with no accounting for earnings, se check nor fyr change!"
   ]
  },
  {
   "cell_type": "code",
   "execution_count": null,
   "id": "73e2650e-5eac-458f-8bb8-93d0c13c1eea",
   "metadata": {},
   "outputs": [],
   "source": []
  }
 ],
 "metadata": {
  "kernelspec": {
   "display_name": "Python 3 (ipykernel)",
   "language": "python",
   "name": "python3"
  },
  "language_info": {
   "codemirror_mode": {
    "name": "ipython",
    "version": 3
   },
   "file_extension": ".py",
   "mimetype": "text/x-python",
   "name": "python",
   "nbconvert_exporter": "python",
   "pygments_lexer": "ipython3",
   "version": "3.12.3"
  }
 },
 "nbformat": 4,
 "nbformat_minor": 5
}
