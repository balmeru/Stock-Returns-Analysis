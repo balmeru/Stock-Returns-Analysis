{
 "cells": [
  {
   "cell_type": "markdown",
   "id": "4c816de6-67d3-4853-a113-255ff68f4ac4",
   "metadata": {},
   "source": [
    "\n",
    "<p style=\"font-size:21px; font-family:'Times New Roman';\">\n",
    "Read report dates data \n",
    "</p>"
   ]
  },
  {
   "cell_type": "code",
   "execution_count": 1,
   "id": "afee8605-6296-4589-abee-6cb79cadc57f",
   "metadata": {},
   "outputs": [],
   "source": [
    "import pandas as pd\n",
    "import numpy as np\n",
    "csv_file_path = '/Users/balmeru/Downloads/QQQQ.csv'\n",
    "df = pd.read_csv(csv_file_path)\n"
   ]
  },
  {
   "cell_type": "code",
   "execution_count": 2,
   "id": "a3b26c71-c0ee-4196-8c92-63609b9d3f13",
   "metadata": {},
   "outputs": [
    {
     "data": {
      "text/html": [
       "<div>\n",
       "<style scoped>\n",
       "    .dataframe tbody tr th:only-of-type {\n",
       "        vertical-align: middle;\n",
       "    }\n",
       "\n",
       "    .dataframe tbody tr th {\n",
       "        vertical-align: top;\n",
       "    }\n",
       "\n",
       "    .dataframe thead th {\n",
       "        text-align: right;\n",
       "    }\n",
       "</style>\n",
       "<table border=\"1\" class=\"dataframe\">\n",
       "  <thead>\n",
       "    <tr style=\"text-align: right;\">\n",
       "      <th></th>\n",
       "      <th>GVKEY</th>\n",
       "      <th>datadate</th>\n",
       "      <th>fyearq</th>\n",
       "      <th>fqtr</th>\n",
       "      <th>fyr</th>\n",
       "      <th>indfmt</th>\n",
       "      <th>consol</th>\n",
       "      <th>popsrc</th>\n",
       "      <th>datafmt</th>\n",
       "      <th>tic</th>\n",
       "      <th>...</th>\n",
       "      <th>ibq</th>\n",
       "      <th>lseq</th>\n",
       "      <th>ltq</th>\n",
       "      <th>pstkq</th>\n",
       "      <th>teqq</th>\n",
       "      <th>txdbq</th>\n",
       "      <th>dvpy</th>\n",
       "      <th>costat</th>\n",
       "      <th>mkvaltq</th>\n",
       "      <th>prccq</th>\n",
       "    </tr>\n",
       "  </thead>\n",
       "  <tbody>\n",
       "    <tr>\n",
       "      <th>0</th>\n",
       "      <td>1000</td>\n",
       "      <td>1975-06-30</td>\n",
       "      <td>1975</td>\n",
       "      <td>2</td>\n",
       "      <td>12</td>\n",
       "      <td>INDL</td>\n",
       "      <td>C</td>\n",
       "      <td>D</td>\n",
       "      <td>STD</td>\n",
       "      <td>AE.2</td>\n",
       "      <td>...</td>\n",
       "      <td>0.875</td>\n",
       "      <td>NaN</td>\n",
       "      <td>NaN</td>\n",
       "      <td>0.414</td>\n",
       "      <td>NaN</td>\n",
       "      <td>NaN</td>\n",
       "      <td>NaN</td>\n",
       "      <td>I</td>\n",
       "      <td>NaN</td>\n",
       "      <td>2.875</td>\n",
       "    </tr>\n",
       "    <tr>\n",
       "      <th>1</th>\n",
       "      <td>1000</td>\n",
       "      <td>1975-09-30</td>\n",
       "      <td>1975</td>\n",
       "      <td>3</td>\n",
       "      <td>12</td>\n",
       "      <td>INDL</td>\n",
       "      <td>C</td>\n",
       "      <td>D</td>\n",
       "      <td>STD</td>\n",
       "      <td>AE.2</td>\n",
       "      <td>...</td>\n",
       "      <td>0.613</td>\n",
       "      <td>NaN</td>\n",
       "      <td>NaN</td>\n",
       "      <td>0.414</td>\n",
       "      <td>NaN</td>\n",
       "      <td>NaN</td>\n",
       "      <td>NaN</td>\n",
       "      <td>I</td>\n",
       "      <td>NaN</td>\n",
       "      <td>4.000</td>\n",
       "    </tr>\n",
       "    <tr>\n",
       "      <th>2</th>\n",
       "      <td>1000</td>\n",
       "      <td>1975-12-31</td>\n",
       "      <td>1975</td>\n",
       "      <td>4</td>\n",
       "      <td>12</td>\n",
       "      <td>INDL</td>\n",
       "      <td>C</td>\n",
       "      <td>D</td>\n",
       "      <td>STD</td>\n",
       "      <td>AE.2</td>\n",
       "      <td>...</td>\n",
       "      <td>0.606</td>\n",
       "      <td>23.905</td>\n",
       "      <td>11.596</td>\n",
       "      <td>2.069</td>\n",
       "      <td>NaN</td>\n",
       "      <td>NaN</td>\n",
       "      <td>NaN</td>\n",
       "      <td>I</td>\n",
       "      <td>NaN</td>\n",
       "      <td>4.375</td>\n",
       "    </tr>\n",
       "    <tr>\n",
       "      <th>3</th>\n",
       "      <td>1000</td>\n",
       "      <td>1976-03-31</td>\n",
       "      <td>1976</td>\n",
       "      <td>1</td>\n",
       "      <td>12</td>\n",
       "      <td>INDL</td>\n",
       "      <td>C</td>\n",
       "      <td>D</td>\n",
       "      <td>STD</td>\n",
       "      <td>AE.2</td>\n",
       "      <td>...</td>\n",
       "      <td>0.726</td>\n",
       "      <td>32.531</td>\n",
       "      <td>19.469</td>\n",
       "      <td>2.069</td>\n",
       "      <td>NaN</td>\n",
       "      <td>NaN</td>\n",
       "      <td>0.031</td>\n",
       "      <td>I</td>\n",
       "      <td>NaN</td>\n",
       "      <td>6.750</td>\n",
       "    </tr>\n",
       "    <tr>\n",
       "      <th>4</th>\n",
       "      <td>1000</td>\n",
       "      <td>1976-06-30</td>\n",
       "      <td>1976</td>\n",
       "      <td>2</td>\n",
       "      <td>12</td>\n",
       "      <td>INDL</td>\n",
       "      <td>C</td>\n",
       "      <td>D</td>\n",
       "      <td>STD</td>\n",
       "      <td>AE.2</td>\n",
       "      <td>...</td>\n",
       "      <td>1.603</td>\n",
       "      <td>35.157</td>\n",
       "      <td>20.287</td>\n",
       "      <td>2.069</td>\n",
       "      <td>NaN</td>\n",
       "      <td>NaN</td>\n",
       "      <td>NaN</td>\n",
       "      <td>I</td>\n",
       "      <td>NaN</td>\n",
       "      <td>7.250</td>\n",
       "    </tr>\n",
       "  </tbody>\n",
       "</table>\n",
       "<p>5 rows × 29 columns</p>\n",
       "</div>"
      ],
      "text/plain": [
       "   GVKEY    datadate  fyearq  fqtr  fyr indfmt consol popsrc datafmt   tic  \\\n",
       "0   1000  1975-06-30    1975     2   12   INDL      C      D     STD  AE.2   \n",
       "1   1000  1975-09-30    1975     3   12   INDL      C      D     STD  AE.2   \n",
       "2   1000  1975-12-31    1975     4   12   INDL      C      D     STD  AE.2   \n",
       "3   1000  1976-03-31    1976     1   12   INDL      C      D     STD  AE.2   \n",
       "4   1000  1976-06-30    1976     2   12   INDL      C      D     STD  AE.2   \n",
       "\n",
       "   ...    ibq    lseq     ltq  pstkq teqq  txdbq   dvpy  costat  mkvaltq  \\\n",
       "0  ...  0.875     NaN     NaN  0.414  NaN    NaN    NaN       I      NaN   \n",
       "1  ...  0.613     NaN     NaN  0.414  NaN    NaN    NaN       I      NaN   \n",
       "2  ...  0.606  23.905  11.596  2.069  NaN    NaN    NaN       I      NaN   \n",
       "3  ...  0.726  32.531  19.469  2.069  NaN    NaN  0.031       I      NaN   \n",
       "4  ...  1.603  35.157  20.287  2.069  NaN    NaN    NaN       I      NaN   \n",
       "\n",
       "   prccq  \n",
       "0  2.875  \n",
       "1  4.000  \n",
       "2  4.375  \n",
       "3  6.750  \n",
       "4  7.250  \n",
       "\n",
       "[5 rows x 29 columns]"
      ]
     },
     "execution_count": 2,
     "metadata": {},
     "output_type": "execute_result"
    }
   ],
   "source": [
    "df.head()"
   ]
  },
  {
   "cell_type": "code",
   "execution_count": 3,
   "id": "c6af95d8-4487-407d-84fb-0077d34854c3",
   "metadata": {},
   "outputs": [],
   "source": [
    "df['market_cap'] = df['prccq'] / df['ajexq'] * df['cshoq']\n"
   ]
  },
  {
   "cell_type": "code",
   "execution_count": 4,
   "id": "d69a9f77-4cc8-45c8-bd14-5eb734113460",
   "metadata": {},
   "outputs": [
    {
     "name": "stdout",
     "output_type": "stream",
     "text": [
      "   prccq  ajexq  cshoq  market_cap\n",
      "0  2.875    1.0  2.092     6.01450\n",
      "1  4.000    1.0  2.094     8.37600\n",
      "2  4.375    1.0  2.098     9.17875\n",
      "3  6.750    1.0  2.096    14.14800\n",
      "4  7.250    1.0  2.163    15.68175\n"
     ]
    }
   ],
   "source": [
    "print(df[['prccq', 'ajexq', 'cshoq', 'market_cap']].head())\n"
   ]
  },
  {
   "cell_type": "code",
   "execution_count": 5,
   "id": "efd9f18d-ed4b-4dad-9116-be0bcbd5424b",
   "metadata": {},
   "outputs": [
    {
     "name": "stdout",
     "output_type": "stream",
     "text": [
      "Number of non-empty market_cap rows: 1014935\n"
     ]
    }
   ],
   "source": [
    "non_empty_market_cap_count = df['market_cap'].notna().sum()\n",
    "\n",
    "print(f\"Number of non-empty market_cap rows: {non_empty_market_cap_count}\")\n"
   ]
  },
  {
   "cell_type": "code",
   "execution_count": 6,
   "id": "50fc3e6a-ca53-430e-94ac-8db2175c641e",
   "metadata": {},
   "outputs": [
    {
     "name": "stdout",
     "output_type": "stream",
     "text": [
      "The number of rows in the CSV file is: 1085915\n"
     ]
    }
   ],
   "source": [
    "num_rows = df.shape[0]\n",
    "\n",
    "print(f\"The number of rows in the CSV file is: {num_rows}\")\n"
   ]
  },
  {
   "cell_type": "code",
   "execution_count": 7,
   "id": "ad2f33a5-8259-4b57-9929-999f2f5e84a2",
   "metadata": {},
   "outputs": [
    {
     "name": "stdout",
     "output_type": "stream",
     "text": [
      "            market_cap    lower_bound    upper_bound\n",
      "0             6.014500       4.811600       7.217400\n",
      "1             8.376000       6.700800      10.051200\n",
      "2             9.178750       7.343000      11.014500\n",
      "3            14.148000      11.318400      16.977600\n",
      "4            15.681750      12.545400      18.818100\n",
      "...                ...            ...            ...\n",
      "1085910      98.553000      78.842400     118.263600\n",
      "1085911    1761.430000    1409.144000    2113.716000\n",
      "1085912    2049.070400    1639.256320    2458.884480\n",
      "1085913  321206.432121  256965.145697  385447.718545\n",
      "1085914  292932.029293  234345.623435  351518.435152\n",
      "\n",
      "[1085915 rows x 3 columns]\n"
     ]
    }
   ],
   "source": [
    "# Calculate upper and lower bounds\n",
    "df['lower_bound'] = 0.8 * df['market_cap']\n",
    "df['upper_bound'] = 1.2 * df['market_cap']\n",
    "print(df[['market_cap', 'lower_bound', 'upper_bound']])\n"
   ]
  },
  {
   "cell_type": "code",
   "execution_count": 8,
   "id": "572d65b0-aec9-42f4-a7cf-61af9bdcf020",
   "metadata": {},
   "outputs": [
    {
     "name": "stdout",
     "output_type": "stream",
     "text": [
      "         fqtr  quarterly_report  annual_report\n",
      "0           2                 1              0\n",
      "1           3                 1              0\n",
      "2           4                 0              1\n",
      "3           1                 1              0\n",
      "4           2                 1              0\n",
      "...       ...               ...            ...\n",
      "1085910     1                 1              0\n",
      "1085911     4                 0              1\n",
      "1085912     1                 1              0\n",
      "1085913     4                 0              1\n",
      "1085914     1                 1              0\n",
      "\n",
      "[1085915 rows x 3 columns]\n"
     ]
    }
   ],
   "source": [
    "df['quarterly_report'] = (df['fqtr'].isin([1, 2, 3])).astype(int)\n",
    "df['annual_report'] = (df['fqtr'] == 4).astype(int)\n",
    "print(df[['fqtr', 'quarterly_report', 'annual_report']])\n",
    "\n"
   ]
  },
  {
   "cell_type": "code",
   "execution_count": 9,
   "id": "2ab8791d-1ca9-4297-b6dd-68658ab24e8d",
   "metadata": {},
   "outputs": [],
   "source": [
    "df['fyr'] = pd.to_numeric(df['fyr'], errors='coerce')\n",
    "df = df.sort_values(by=['tic', 'fyearq', 'fqtr'])\n",
    "ticker_change = df['tic'] != df['tic'].shift(1)\n",
    "df['fyr_change_dummy'] = ((df['fyr'] != df['fyr'].shift(1)) & (~ticker_change)).astype(int)\n",
    "\n",
    "# Fill the first occurrence of each ticker group with 0\n",
    "df.loc[df.groupby('tic').head(1).index, 'fyr_change_dummy'] = 0\n"
   ]
  },
  {
   "cell_type": "code",
   "execution_count": 10,
   "id": "6e977998-0191-452d-885b-c581197d7c8e",
   "metadata": {},
   "outputs": [
    {
     "name": "stdout",
     "output_type": "stream",
     "text": [
      "         tic         rdq  fyearq  fqtr  fyr  fyr_change_dummy\n",
      "60380  0015B         NaN    1983     3   10                 0\n",
      "60381  0015B  1984-01-16    1983     4   10                 0\n",
      "60382  0015B  1984-03-15    1984     1   10                 0\n",
      "60383  0015B  1984-05-25    1984     2   10                 0\n",
      "60384  0015B  1984-08-27    1984     3   10                 0\n",
      "60385  0015B  1985-01-01    1984     4   10                 0\n",
      "60386  0015B  1985-03-05    1985     1   10                 0\n",
      "60387  0015B  1985-06-17    1985     2   10                 0\n",
      "60388  0015B  1985-09-09    1985     3   10                 0\n",
      "60389  0015B  1986-01-06    1985     4   10                 0\n",
      "60390  0015B  1986-03-06    1986     1   10                 0\n",
      "60391  0015B  1986-06-03    1986     2   10                 0\n",
      "60392  0015B  1986-09-11    1986     3   10                 0\n",
      "60393  0015B  1987-01-12    1986     4   10                 0\n",
      "60394  0015B  1987-03-04    1987     1   10                 0\n",
      "60395  0015B  1987-06-03    1987     2   10                 0\n",
      "60396  0015B  1987-09-08    1987     3   10                 0\n",
      "60397  0015B  1988-01-19    1987     4   10                 0\n",
      "60398  0015B  1988-03-11    1988     1   10                 0\n",
      "60399  0015B  1988-06-08    1988     2   10                 0\n",
      "60400  0015B  1988-09-07    1988     3   10                 0\n",
      "60402  0015B  1989-01-26    1988     4   10                 0\n",
      "60401  0015B  1989-03-10    1989     1    6                 1\n",
      "60403  0015B  1989-06-07    1989     2    6                 0\n",
      "60404  0015B         NaN    1989     3    6                 0\n",
      "60405  0015B         NaN    1989     4    6                 0\n",
      "60406  0015B  1989-11-08    1990     1    6                 0\n",
      "60407  0015B  1990-02-02    1990     2    6                 0\n",
      "60408  0015B  1990-05-11    1990     3    6                 0\n",
      "60409  0015B  1990-09-10    1990     4    6                 0\n",
      "60410  0015B  1990-11-12    1991     1    6                 0\n",
      "60411  0015B  1991-02-07    1991     2    6                 0\n",
      "60412  0015B  1991-05-02    1991     3    6                 0\n",
      "60413  0015B  1991-09-26    1991     4    6                 0\n",
      "60414  0015B         NaN    1992     1    6                 0\n",
      "60415  0015B  1992-02-05    1992     2    6                 0\n",
      "60416  0015B  1992-05-06    1992     3    6                 0\n",
      "60417  0015B  1992-09-08    1992     4    6                 0\n",
      "60418  0015B  1992-11-05    1993     1    6                 0\n",
      "60419  0015B  1993-02-02    1993     2    6                 0\n",
      "60420  0015B  1993-05-06    1993     3    6                 0\n",
      "60421  0015B  1993-08-31    1993     4    6                 0\n",
      "60422  0015B  1993-11-08    1994     1    6                 0\n",
      "60423  0015B  1994-02-08    1994     2    6                 0\n",
      "60424  0015B  1994-05-11    1994     3    6                 0\n",
      "60425  0015B  1994-09-20    1994     4    6                 0\n",
      "60426  0015B  1994-11-09    1995     1    6                 0\n",
      "60427  0015B  1995-02-10    1995     2    6                 0\n",
      "60428  0015B  1995-05-16    1995     3    6                 0\n",
      "60429  0015B  1995-09-21    1995     4    6                 0\n",
      "60430  0015B  1995-11-09    1996     1    6                 0\n",
      "60431  0015B  1996-02-07    1996     2    6                 0\n",
      "60432  0015B  1996-05-07    1996     3    6                 0\n",
      "60433  0015B  1996-09-16    1996     4    6                 0\n",
      "60434  0015B  1996-11-13    1997     1    6                 0\n",
      "60435  0015B  1997-02-07    1997     2    6                 0\n",
      "60436  0015B  1997-05-08    1997     3    6                 0\n",
      "60437  0015B  1997-09-10    1997     4    6                 0\n",
      "60438  0015B  1998-09-23    1998     1    5                 1\n",
      "60439  0015B  1998-12-23    1998     2    5                 0\n"
     ]
    }
   ],
   "source": [
    "print(df[['tic', 'rdq', 'fyearq', 'fqtr', 'fyr', 'fyr_change_dummy']].head(60))\n"
   ]
  },
  {
   "cell_type": "code",
   "execution_count": 11,
   "id": "6696c261-f038-4c2b-93cb-3dc089deb8c7",
   "metadata": {},
   "outputs": [
    {
     "name": "stderr",
     "output_type": "stream",
     "text": [
      "/var/folders/ds/rfyxvvb945vdt8znlkx31w1m00cj2y/T/ipykernel_9408/1492790700.py:32: DeprecationWarning: DataFrameGroupBy.apply operated on the grouping columns. This behavior is deprecated, and in a future version of pandas the grouping columns will be excluded from the operation. Either pass `include_groups=False` to exclude the groupings or explicitly select the grouping columns after groupby to silence this warning.\n",
      "  df = grouped.apply(calculate_diff)\n"
     ]
    }
   ],
   "source": [
    "df['rdq'] = pd.to_datetime(df['rdq'], errors='coerce')\n",
    "df['fyearq'] = pd.to_numeric(df['fyearq'], errors='coerce')\n",
    "df['fqtr'] = pd.to_numeric(df['fqtr'], errors='coerce')\n",
    "\n",
    "grouped = df.groupby('tic', group_keys=False)\n",
    "\n",
    "# Function to calculate consecutive differences\n",
    "def calculate_diff(group):\n",
    "    # Sort the data within each group by the fiscal year and quarter in ascending order\n",
    "    group = group.sort_values(['fyearq', 'fqtr'])\n",
    "    \n",
    "    # Create a shifted column for the previous rdq\n",
    "    group['prev_rdq'] = group['rdq'].shift(1)\n",
    "    group['prev_fqtr'] = group['fqtr'].shift(1)\n",
    "    group['prev_fyearq'] = group['fyearq'].shift(1)\n",
    "    \n",
    "    # Calculate the differences\n",
    "    group['diff'] = group['rdq'] - group['prev_rdq']\n",
    "    \n",
    "    # Remove differences where quarters and years are not consecutive\n",
    "    mask = (group['fqtr'] == 1) & (group['prev_fqtr'] == 4) & (group['fyearq'] == group['prev_fyearq'] + 1)\n",
    "    mask |= (group['fqtr'] > 1) & (group['fqtr'] == group['prev_fqtr'] + 1) & (group['fyearq'] == group['prev_fyearq'])\n",
    "    \n",
    "    group['diff'] = group['diff'].where(mask)\n",
    "    \n",
    "    # Drop helper columns\n",
    "    group = group.drop(columns=['prev_rdq', 'prev_fqtr', 'prev_fyearq'])\n",
    "    \n",
    "    return group\n",
    "\n",
    "# Apply the function to each ticker group directly in the original DataFrame\n",
    "df = grouped.apply(calculate_diff)\n",
    "df.loc[df['fyr_change_dummy'] == 1, 'diff'] = pd.NaT\n",
    "df = df.reset_index(drop=True)"
   ]
  },
  {
   "cell_type": "code",
   "execution_count": 12,
   "id": "fa351790-9240-482a-ab32-11c2a7d88765",
   "metadata": {},
   "outputs": [
    {
     "name": "stdout",
     "output_type": "stream",
     "text": [
      "      tic        rdq  fyearq  fqtr  fyr     diff\n",
      "0   0015B        NaT    1983     3   10      NaT\n",
      "1   0015B 1984-01-16    1983     4   10      NaT\n",
      "2   0015B 1984-03-15    1984     1   10  59 days\n",
      "3   0015B 1984-05-25    1984     2   10  71 days\n",
      "4   0015B 1984-08-27    1984     3   10  94 days\n",
      "5   0015B 1985-01-01    1984     4   10 127 days\n",
      "6   0015B 1985-03-05    1985     1   10  63 days\n",
      "7   0015B 1985-06-17    1985     2   10 104 days\n",
      "8   0015B 1985-09-09    1985     3   10  84 days\n",
      "9   0015B 1986-01-06    1985     4   10 119 days\n",
      "10  0015B 1986-03-06    1986     1   10  59 days\n",
      "11  0015B 1986-06-03    1986     2   10  89 days\n",
      "12  0015B 1986-09-11    1986     3   10 100 days\n",
      "13  0015B 1987-01-12    1986     4   10 123 days\n",
      "14  0015B 1987-03-04    1987     1   10  51 days\n",
      "15  0015B 1987-06-03    1987     2   10  91 days\n",
      "16  0015B 1987-09-08    1987     3   10  97 days\n",
      "17  0015B 1988-01-19    1987     4   10 133 days\n",
      "18  0015B 1988-03-11    1988     1   10  52 days\n",
      "19  0015B 1988-06-08    1988     2   10  89 days\n",
      "20  0015B 1988-09-07    1988     3   10  91 days\n",
      "21  0015B 1989-01-26    1988     4   10 141 days\n",
      "22  0015B 1989-03-10    1989     1    6      NaT\n",
      "23  0015B 1989-06-07    1989     2    6  89 days\n",
      "24  0015B        NaT    1989     3    6      NaT\n",
      "25  0015B        NaT    1989     4    6      NaT\n",
      "26  0015B 1989-11-08    1990     1    6      NaT\n",
      "27  0015B 1990-02-02    1990     2    6  86 days\n",
      "28  0015B 1990-05-11    1990     3    6  98 days\n",
      "29  0015B 1990-09-10    1990     4    6 122 days\n",
      "30  0015B 1990-11-12    1991     1    6  63 days\n",
      "31  0015B 1991-02-07    1991     2    6  87 days\n",
      "32  0015B 1991-05-02    1991     3    6  84 days\n",
      "33  0015B 1991-09-26    1991     4    6 147 days\n",
      "34  0015B        NaT    1992     1    6      NaT\n",
      "35  0015B 1992-02-05    1992     2    6      NaT\n",
      "36  0015B 1992-05-06    1992     3    6  91 days\n",
      "37  0015B 1992-09-08    1992     4    6 125 days\n",
      "38  0015B 1992-11-05    1993     1    6  58 days\n",
      "39  0015B 1993-02-02    1993     2    6  89 days\n",
      "40  0015B 1993-05-06    1993     3    6  93 days\n",
      "41  0015B 1993-08-31    1993     4    6 117 days\n",
      "42  0015B 1993-11-08    1994     1    6  69 days\n",
      "43  0015B 1994-02-08    1994     2    6  92 days\n",
      "44  0015B 1994-05-11    1994     3    6  92 days\n",
      "45  0015B 1994-09-20    1994     4    6 132 days\n",
      "46  0015B 1994-11-09    1995     1    6  50 days\n",
      "47  0015B 1995-02-10    1995     2    6  93 days\n",
      "48  0015B 1995-05-16    1995     3    6  95 days\n",
      "49  0015B 1995-09-21    1995     4    6 128 days\n",
      "50  0015B 1995-11-09    1996     1    6  49 days\n",
      "51  0015B 1996-02-07    1996     2    6  90 days\n",
      "52  0015B 1996-05-07    1996     3    6  90 days\n",
      "53  0015B 1996-09-16    1996     4    6 132 days\n",
      "54  0015B 1996-11-13    1997     1    6  58 days\n",
      "55  0015B 1997-02-07    1997     2    6  86 days\n",
      "56  0015B 1997-05-08    1997     3    6  90 days\n",
      "57  0015B 1997-09-10    1997     4    6 125 days\n",
      "58  0015B 1998-09-23    1998     1    5      NaT\n",
      "59  0015B 1998-12-23    1998     2    5  91 days\n"
     ]
    }
   ],
   "source": [
    "print(df[['tic', 'rdq', 'fyearq', 'fqtr', 'fyr', 'diff']].head(60))\n"
   ]
  },
  {
   "cell_type": "code",
   "execution_count": 13,
   "id": "b8df2e73-3e9c-46bc-9eb3-cebadbd84ff3",
   "metadata": {},
   "outputs": [
    {
     "name": "stdout",
     "output_type": "stream",
     "text": [
      "Number of tickers with fyr_change_dummy equal to 1: 1978\n"
     ]
    }
   ],
   "source": [
    "num_tickers_with_fyr_change = df[df['fyr_change_dummy'] == 1]['tic'].nunique()\n",
    "\n",
    "print(f\"Number of tickers with fyr_change_dummy equal to 1: {num_tickers_with_fyr_change}\")\n"
   ]
  },
  {
   "cell_type": "code",
   "execution_count": 14,
   "id": "dc4e9b8f-a2dc-4ae8-99b7-8fd4f2796d63",
   "metadata": {},
   "outputs": [
    {
     "data": {
      "text/html": [
       "<div>\n",
       "<style scoped>\n",
       "    .dataframe tbody tr th:only-of-type {\n",
       "        vertical-align: middle;\n",
       "    }\n",
       "\n",
       "    .dataframe tbody tr th {\n",
       "        vertical-align: top;\n",
       "    }\n",
       "\n",
       "    .dataframe thead th {\n",
       "        text-align: right;\n",
       "    }\n",
       "</style>\n",
       "<table border=\"1\" class=\"dataframe\">\n",
       "  <thead>\n",
       "    <tr style=\"text-align: right;\">\n",
       "      <th></th>\n",
       "      <th>GVKEY</th>\n",
       "      <th>datadate</th>\n",
       "      <th>fyearq</th>\n",
       "      <th>fqtr</th>\n",
       "      <th>fyr</th>\n",
       "      <th>indfmt</th>\n",
       "      <th>consol</th>\n",
       "      <th>popsrc</th>\n",
       "      <th>datafmt</th>\n",
       "      <th>tic</th>\n",
       "      <th>...</th>\n",
       "      <th>costat</th>\n",
       "      <th>mkvaltq</th>\n",
       "      <th>prccq</th>\n",
       "      <th>market_cap</th>\n",
       "      <th>lower_bound</th>\n",
       "      <th>upper_bound</th>\n",
       "      <th>quarterly_report</th>\n",
       "      <th>annual_report</th>\n",
       "      <th>fyr_change_dummy</th>\n",
       "      <th>diff</th>\n",
       "    </tr>\n",
       "  </thead>\n",
       "  <tbody>\n",
       "    <tr>\n",
       "      <th>55</th>\n",
       "      <td>2484</td>\n",
       "      <td>1996-12-31</td>\n",
       "      <td>1997</td>\n",
       "      <td>2</td>\n",
       "      <td>6</td>\n",
       "      <td>INDL</td>\n",
       "      <td>C</td>\n",
       "      <td>D</td>\n",
       "      <td>STD</td>\n",
       "      <td>0015B</td>\n",
       "      <td>...</td>\n",
       "      <td>I</td>\n",
       "      <td>NaN</td>\n",
       "      <td>12.999999</td>\n",
       "      <td>446.138359</td>\n",
       "      <td>356.910687</td>\n",
       "      <td>535.366031</td>\n",
       "      <td>1</td>\n",
       "      <td>0</td>\n",
       "      <td>0</td>\n",
       "      <td>86 days</td>\n",
       "    </tr>\n",
       "    <tr>\n",
       "      <th>56</th>\n",
       "      <td>2484</td>\n",
       "      <td>1997-03-31</td>\n",
       "      <td>1997</td>\n",
       "      <td>3</td>\n",
       "      <td>6</td>\n",
       "      <td>INDL</td>\n",
       "      <td>C</td>\n",
       "      <td>D</td>\n",
       "      <td>STD</td>\n",
       "      <td>0015B</td>\n",
       "      <td>...</td>\n",
       "      <td>I</td>\n",
       "      <td>NaN</td>\n",
       "      <td>17.999998</td>\n",
       "      <td>618.480039</td>\n",
       "      <td>494.784031</td>\n",
       "      <td>742.176046</td>\n",
       "      <td>1</td>\n",
       "      <td>0</td>\n",
       "      <td>0</td>\n",
       "      <td>90 days</td>\n",
       "    </tr>\n",
       "    <tr>\n",
       "      <th>57</th>\n",
       "      <td>2484</td>\n",
       "      <td>1997-06-30</td>\n",
       "      <td>1997</td>\n",
       "      <td>4</td>\n",
       "      <td>6</td>\n",
       "      <td>INDL</td>\n",
       "      <td>C</td>\n",
       "      <td>D</td>\n",
       "      <td>STD</td>\n",
       "      <td>0015B</td>\n",
       "      <td>...</td>\n",
       "      <td>I</td>\n",
       "      <td>NaN</td>\n",
       "      <td>19.499997</td>\n",
       "      <td>648.894999</td>\n",
       "      <td>519.116000</td>\n",
       "      <td>778.673999</td>\n",
       "      <td>0</td>\n",
       "      <td>1</td>\n",
       "      <td>0</td>\n",
       "      <td>125 days</td>\n",
       "    </tr>\n",
       "    <tr>\n",
       "      <th>58</th>\n",
       "      <td>2484</td>\n",
       "      <td>1998-08-31</td>\n",
       "      <td>1998</td>\n",
       "      <td>1</td>\n",
       "      <td>5</td>\n",
       "      <td>INDL</td>\n",
       "      <td>C</td>\n",
       "      <td>D</td>\n",
       "      <td>STD</td>\n",
       "      <td>0015B</td>\n",
       "      <td>...</td>\n",
       "      <td>I</td>\n",
       "      <td>NaN</td>\n",
       "      <td>21.062500</td>\n",
       "      <td>991.896313</td>\n",
       "      <td>793.517050</td>\n",
       "      <td>1190.275575</td>\n",
       "      <td>1</td>\n",
       "      <td>0</td>\n",
       "      <td>1</td>\n",
       "      <td>NaT</td>\n",
       "    </tr>\n",
       "    <tr>\n",
       "      <th>59</th>\n",
       "      <td>2484</td>\n",
       "      <td>1998-11-30</td>\n",
       "      <td>1998</td>\n",
       "      <td>2</td>\n",
       "      <td>5</td>\n",
       "      <td>INDL</td>\n",
       "      <td>C</td>\n",
       "      <td>D</td>\n",
       "      <td>STD</td>\n",
       "      <td>0015B</td>\n",
       "      <td>...</td>\n",
       "      <td>I</td>\n",
       "      <td>NaN</td>\n",
       "      <td>14.500000</td>\n",
       "      <td>719.272500</td>\n",
       "      <td>575.418000</td>\n",
       "      <td>863.127000</td>\n",
       "      <td>1</td>\n",
       "      <td>0</td>\n",
       "      <td>0</td>\n",
       "      <td>91 days</td>\n",
       "    </tr>\n",
       "    <tr>\n",
       "      <th>60</th>\n",
       "      <td>2484</td>\n",
       "      <td>1999-02-28</td>\n",
       "      <td>1998</td>\n",
       "      <td>3</td>\n",
       "      <td>5</td>\n",
       "      <td>INDL</td>\n",
       "      <td>C</td>\n",
       "      <td>D</td>\n",
       "      <td>STD</td>\n",
       "      <td>0015B</td>\n",
       "      <td>...</td>\n",
       "      <td>I</td>\n",
       "      <td>NaN</td>\n",
       "      <td>12.875000</td>\n",
       "      <td>598.121000</td>\n",
       "      <td>478.496800</td>\n",
       "      <td>717.745200</td>\n",
       "      <td>1</td>\n",
       "      <td>0</td>\n",
       "      <td>0</td>\n",
       "      <td>84 days</td>\n",
       "    </tr>\n",
       "    <tr>\n",
       "      <th>61</th>\n",
       "      <td>2484</td>\n",
       "      <td>1999-05-31</td>\n",
       "      <td>1998</td>\n",
       "      <td>4</td>\n",
       "      <td>5</td>\n",
       "      <td>INDL</td>\n",
       "      <td>C</td>\n",
       "      <td>D</td>\n",
       "      <td>STD</td>\n",
       "      <td>0015B</td>\n",
       "      <td>...</td>\n",
       "      <td>I</td>\n",
       "      <td>NaN</td>\n",
       "      <td>16.875000</td>\n",
       "      <td>783.000000</td>\n",
       "      <td>626.400000</td>\n",
       "      <td>939.600000</td>\n",
       "      <td>0</td>\n",
       "      <td>1</td>\n",
       "      <td>0</td>\n",
       "      <td>NaT</td>\n",
       "    </tr>\n",
       "    <tr>\n",
       "      <th>62</th>\n",
       "      <td>2484</td>\n",
       "      <td>1999-08-31</td>\n",
       "      <td>1999</td>\n",
       "      <td>1</td>\n",
       "      <td>5</td>\n",
       "      <td>INDL</td>\n",
       "      <td>C</td>\n",
       "      <td>D</td>\n",
       "      <td>STD</td>\n",
       "      <td>0015B</td>\n",
       "      <td>...</td>\n",
       "      <td>I</td>\n",
       "      <td>NaN</td>\n",
       "      <td>16.500000</td>\n",
       "      <td>765.699000</td>\n",
       "      <td>612.559200</td>\n",
       "      <td>918.838800</td>\n",
       "      <td>1</td>\n",
       "      <td>0</td>\n",
       "      <td>0</td>\n",
       "      <td>NaT</td>\n",
       "    </tr>\n",
       "    <tr>\n",
       "      <th>63</th>\n",
       "      <td>2484</td>\n",
       "      <td>1999-11-30</td>\n",
       "      <td>1999</td>\n",
       "      <td>2</td>\n",
       "      <td>5</td>\n",
       "      <td>INDL</td>\n",
       "      <td>C</td>\n",
       "      <td>D</td>\n",
       "      <td>STD</td>\n",
       "      <td>0015B</td>\n",
       "      <td>...</td>\n",
       "      <td>I</td>\n",
       "      <td>NaN</td>\n",
       "      <td>12.812500</td>\n",
       "      <td>594.346250</td>\n",
       "      <td>475.477000</td>\n",
       "      <td>713.215500</td>\n",
       "      <td>1</td>\n",
       "      <td>0</td>\n",
       "      <td>0</td>\n",
       "      <td>91 days</td>\n",
       "    </tr>\n",
       "    <tr>\n",
       "      <th>64</th>\n",
       "      <td>2484</td>\n",
       "      <td>2000-02-29</td>\n",
       "      <td>1999</td>\n",
       "      <td>3</td>\n",
       "      <td>5</td>\n",
       "      <td>INDL</td>\n",
       "      <td>C</td>\n",
       "      <td>D</td>\n",
       "      <td>STD</td>\n",
       "      <td>0015B</td>\n",
       "      <td>...</td>\n",
       "      <td>I</td>\n",
       "      <td>NaN</td>\n",
       "      <td>11.437500</td>\n",
       "      <td>508.820063</td>\n",
       "      <td>407.056050</td>\n",
       "      <td>610.584075</td>\n",
       "      <td>1</td>\n",
       "      <td>0</td>\n",
       "      <td>0</td>\n",
       "      <td>91 days</td>\n",
       "    </tr>\n",
       "    <tr>\n",
       "      <th>65</th>\n",
       "      <td>2484</td>\n",
       "      <td>2000-05-31</td>\n",
       "      <td>1999</td>\n",
       "      <td>4</td>\n",
       "      <td>5</td>\n",
       "      <td>INDL</td>\n",
       "      <td>C</td>\n",
       "      <td>D</td>\n",
       "      <td>STD</td>\n",
       "      <td>0015B</td>\n",
       "      <td>...</td>\n",
       "      <td>I</td>\n",
       "      <td>NaN</td>\n",
       "      <td>12.500000</td>\n",
       "      <td>557.087500</td>\n",
       "      <td>445.670000</td>\n",
       "      <td>668.505000</td>\n",
       "      <td>0</td>\n",
       "      <td>1</td>\n",
       "      <td>0</td>\n",
       "      <td>133 days</td>\n",
       "    </tr>\n",
       "  </tbody>\n",
       "</table>\n",
       "<p>11 rows × 36 columns</p>\n",
       "</div>"
      ],
      "text/plain": [
       "    GVKEY    datadate  fyearq  fqtr  fyr indfmt consol popsrc datafmt    tic  \\\n",
       "55   2484  1996-12-31    1997     2    6   INDL      C      D     STD  0015B   \n",
       "56   2484  1997-03-31    1997     3    6   INDL      C      D     STD  0015B   \n",
       "57   2484  1997-06-30    1997     4    6   INDL      C      D     STD  0015B   \n",
       "58   2484  1998-08-31    1998     1    5   INDL      C      D     STD  0015B   \n",
       "59   2484  1998-11-30    1998     2    5   INDL      C      D     STD  0015B   \n",
       "60   2484  1999-02-28    1998     3    5   INDL      C      D     STD  0015B   \n",
       "61   2484  1999-05-31    1998     4    5   INDL      C      D     STD  0015B   \n",
       "62   2484  1999-08-31    1999     1    5   INDL      C      D     STD  0015B   \n",
       "63   2484  1999-11-30    1999     2    5   INDL      C      D     STD  0015B   \n",
       "64   2484  2000-02-29    1999     3    5   INDL      C      D     STD  0015B   \n",
       "65   2484  2000-05-31    1999     4    5   INDL      C      D     STD  0015B   \n",
       "\n",
       "    ...  costat mkvaltq      prccq  market_cap lower_bound  upper_bound  \\\n",
       "55  ...       I     NaN  12.999999  446.138359  356.910687   535.366031   \n",
       "56  ...       I     NaN  17.999998  618.480039  494.784031   742.176046   \n",
       "57  ...       I     NaN  19.499997  648.894999  519.116000   778.673999   \n",
       "58  ...       I     NaN  21.062500  991.896313  793.517050  1190.275575   \n",
       "59  ...       I     NaN  14.500000  719.272500  575.418000   863.127000   \n",
       "60  ...       I     NaN  12.875000  598.121000  478.496800   717.745200   \n",
       "61  ...       I     NaN  16.875000  783.000000  626.400000   939.600000   \n",
       "62  ...       I     NaN  16.500000  765.699000  612.559200   918.838800   \n",
       "63  ...       I     NaN  12.812500  594.346250  475.477000   713.215500   \n",
       "64  ...       I     NaN  11.437500  508.820063  407.056050   610.584075   \n",
       "65  ...       I     NaN  12.500000  557.087500  445.670000   668.505000   \n",
       "\n",
       "    quarterly_report  annual_report  fyr_change_dummy     diff  \n",
       "55                 1              0                 0  86 days  \n",
       "56                 1              0                 0  90 days  \n",
       "57                 0              1                 0 125 days  \n",
       "58                 1              0                 1      NaT  \n",
       "59                 1              0                 0  91 days  \n",
       "60                 1              0                 0  84 days  \n",
       "61                 0              1                 0      NaT  \n",
       "62                 1              0                 0      NaT  \n",
       "63                 1              0                 0  91 days  \n",
       "64                 1              0                 0  91 days  \n",
       "65                 0              1                 0 133 days  \n",
       "\n",
       "[11 rows x 36 columns]"
      ]
     },
     "execution_count": 14,
     "metadata": {},
     "output_type": "execute_result"
    }
   ],
   "source": [
    "df.loc[55:65]"
   ]
  },
  {
   "cell_type": "markdown",
   "id": "5d278333-a352-4d67-aeb1-72a769395c97",
   "metadata": {},
   "source": [
    "#### Let's split the distance for quarterly and annual reports"
   ]
  },
  {
   "cell_type": "code",
   "execution_count": 15,
   "id": "d7ec9ae8-3d3d-4788-852d-9bda850b1e1b",
   "metadata": {},
   "outputs": [
    {
     "name": "stdout",
     "output_type": "stream",
     "text": [
      "     tic        rdq  fyr  fyearq  fqtr  fyr_change_dummy annual_distance  \\\n",
      "0  0015B        NaT   10    1983     3                 0             NaT   \n",
      "1  0015B 1984-01-16   10    1983     4                 0             NaT   \n",
      "2  0015B 1984-03-15   10    1984     1                 0             NaT   \n",
      "3  0015B 1984-05-25   10    1984     2                 0             NaT   \n",
      "4  0015B 1984-08-27   10    1984     3                 0             NaT   \n",
      "\n",
      "  quarter_distance    diff  \n",
      "0              NaT     NaT  \n",
      "1              NaT     NaT  \n",
      "2          59 days 59 days  \n",
      "3          71 days 71 days  \n",
      "4          94 days 94 days  \n"
     ]
    }
   ],
   "source": [
    "df['quarter_distance'] = df['diff'].where(df['quarterly_report'] == 1, pd.NaT)\n",
    "df['annual_distance'] = df['diff'].where(df['annual_report'] == 1, pd.NaT)\n",
    "print(df[['tic', 'rdq', 'fyr', 'fyearq', 'fqtr', 'fyr_change_dummy', 'annual_distance', 'quarter_distance', 'diff']].head())\n"
   ]
  },
  {
   "cell_type": "code",
   "execution_count": 16,
   "id": "46807b66-e008-42b6-914f-000a9668592d",
   "metadata": {},
   "outputs": [
    {
     "data": {
      "text/plain": [
       "<Axes: xlabel='fyearq'>"
      ]
     },
     "execution_count": 16,
     "metadata": {},
     "output_type": "execute_result"
    },
    {
     "data": {
      "image/png": "[encoded data removed]",
      "text/plain": [
       "<Figure size 640x480 with 1 Axes>"
      ]
     },
     "metadata": {},
     "output_type": "display_data"
    }
   ],
   "source": [
    "df.groupby('fyearq')['market_cap'].median().plot()"
   ]
  },
  {
   "cell_type": "code",
   "execution_count": 18,
   "id": "f31ea6f2-c713-4540-8268-29056e51cf7e",
   "metadata": {},
   "outputs": [
    {
     "name": "stdout",
     "output_type": "stream",
     "text": [
      "Number of instances with all empty distances: 413\n",
      "Number of instances with non-empty distances: 1775\n",
      "Number of unique tickers with non-empty distances: 1568\n",
      "Number of unique tickers with all empty distances: 363\n",
      "Number of unique tickers with mixed distances: 47\n",
      "Total number of unique tickers with fiscal year changes: 1978\n"
     ]
    }
   ],
   "source": [
    "import numpy as np\n",
    "import pandas as pd\n",
    "\n",
    "# Assuming df is already defined\n",
    "\n",
    "# Initialize the 'median_distance' column with NaN values\n",
    "df['median_distance'] = np.nan\n",
    "\n",
    "# Ensure the 'median_distance' column is updated for fiscal year change rows\n",
    "df['median_distance'] = np.where(df['fyr_change_dummy'] == 0, np.nan, df['median_distance'])\n",
    "\n",
    "# Initialize variables to count instances with all empty and non-empty distances\n",
    "num_instances_all_empty = 0\n",
    "num_instances_non_empty = 0\n",
    "\n",
    "# Initialize sets to store tickers with non-empty, empty, and mixed distances\n",
    "non_empty_distances_tickers = set()\n",
    "empty_distances_tickers = set()\n",
    "mixed_distances_tickers = set()\n",
    "\n",
    "# Filter rows where fiscal year change occurred\n",
    "fyr_change_rows = df[df['fyr_change_dummy'] == 1]\n",
    "\n",
    "# Iterate over rows where fiscal year change occurred\n",
    "for index, fyr_change_row in fyr_change_rows.iterrows():\n",
    "    # Determine if it's a quarterly or annual report\n",
    "    is_quarterly_report = fyr_change_row['quarterly_report'] == 1\n",
    "\n",
    "    # Filter similar market cap tickers excluding own ticker\n",
    "    similar_cap_tickers = df[(df['market_cap'] >= fyr_change_row['lower_bound']) &\n",
    "                             (df['market_cap'] <= fyr_change_row['upper_bound']) &\n",
    "                             (df['tic'] != fyr_change_row['tic'])]\n",
    "\n",
    "    # Determine relevant distance column and filter criteria\n",
    "    distance_col = 'quarter_distance' if is_quarterly_report else 'annual_distance'\n",
    "    year_col = 'fyearq'\n",
    "    years = [fyr_change_row['fyearq'], fyr_change_row['fyearq'] + 1, fyr_change_row['fyearq'] - 1]\n",
    "\n",
    "    # Extract distances\n",
    "    distances = similar_cap_tickers[similar_cap_tickers[year_col].isin(years)][distance_col].dropna().apply(lambda x: pd.Timedelta(x).days)\n",
    "\n",
    "    # Check if distances list is empty\n",
    "    if distances.empty:\n",
    "        num_instances_all_empty += 1\n",
    "        if fyr_change_row['tic'] in non_empty_distances_tickers:\n",
    "            mixed_distances_tickers.add(fyr_change_row['tic'])\n",
    "        else:\n",
    "            empty_distances_tickers.add(fyr_change_row['tic'])\n",
    "    else:\n",
    "        median_distance = distances.median()\n",
    "        df.loc[index, 'median_distance'] = median_distance\n",
    "        num_instances_non_empty += 1\n",
    "        if fyr_change_row['tic'] in empty_distances_tickers:\n",
    "            mixed_distances_tickers.add(fyr_change_row['tic'])\n",
    "        else:\n",
    "            non_empty_distances_tickers.add(fyr_change_row['tic'])\n",
    "\n",
    "# Calculate counts for unique tickers\n",
    "num_non_empty_distances_tickers = len(non_empty_distances_tickers - mixed_distances_tickers)\n",
    "num_empty_distances_tickers = len(empty_distances_tickers - mixed_distances_tickers)\n",
    "num_mixed_distances_tickers = len(mixed_distances_tickers)\n",
    "num_unique_fyr_change_tickers = fyr_change_rows['tic'].nunique()\n",
    "\n",
    "# Display the results\n",
    "print(f\"Number of instances with all empty distances: {num_instances_all_empty}\")\n",
    "print(f\"Number of instances with non-empty distances: {num_instances_non_empty}\")\n",
    "print(f\"Number of unique tickers with non-empty distances: {num_non_empty_distances_tickers}\")\n",
    "print(f\"Number of unique tickers with all empty distances: {num_empty_distances_tickers}\")\n",
    "print(f\"Number of unique tickers with mixed distances: {num_mixed_distances_tickers}\")\n",
    "print(f\"Total number of unique tickers with fiscal year changes: {num_unique_fyr_change_tickers}\")\n"
   ]
  },
  {
   "cell_type": "code",
   "execution_count": 19,
   "id": "e3dd840f-8260-4da5-bdcc-9a4a3506dabc",
   "metadata": {
    "scrolled": true
   },
   "outputs": [
    {
     "name": "stdout",
     "output_type": "stream",
     "text": [
      "Number of changes: 2188\n"
     ]
    }
   ],
   "source": [
    "num_changes = (df['fyr_change_dummy'] == 1).sum()\n",
    "\n",
    "print(\"Number of changes:\", num_changes)"
   ]
  },
  {
   "cell_type": "markdown",
   "id": "9580e95f-3bd8-4a44-98fa-037f7ee86317",
   "metadata": {
    "jp-MarkdownHeadingCollapsed": true
   },
   "source": [
    "#### Number of cases where 'fyr' change occured was 2188 in total. It includes the cases where one ticker might have several fyr changes throughout the period. "
   ]
  },
  {
   "cell_type": "markdown",
   "id": "332d92b2-8b39-4244-b985-1143481a3df6",
   "metadata": {},
   "source": [
    "#### Number of successfully calculated median distances was 1775, and 413 cases had empty distances "
   ]
  },
  {
   "cell_type": "code",
   "execution_count": 20,
   "id": "18ac5026-0367-4725-8ef0-c5928853297f",
   "metadata": {},
   "outputs": [
    {
     "data": {
      "text/plain": [
       "2188"
      ]
     },
     "execution_count": 20,
     "metadata": {},
     "output_type": "execute_result"
    }
   ],
   "source": [
    "1775 + 413"
   ]
  },
  {
   "cell_type": "markdown",
   "id": "feb2c239-6440-418d-8b7a-535b34480ac2",
   "metadata": {},
   "source": [
    "#### In total, they match with the number of fyr changes"
   ]
  },
  {
   "cell_type": "code",
   "execution_count": 21,
   "id": "7e67400d-b349-47fd-a34e-e3647ba5096e",
   "metadata": {},
   "outputs": [
    {
     "name": "stdout",
     "output_type": "stream",
     "text": [
      "Number of tickers with fyr_change_dummy equal to 1: 1978\n"
     ]
    }
   ],
   "source": [
    "num_tickers_with_fyr_change = df[df['fyr_change_dummy'] == 1]['tic'].nunique()\n",
    "\n",
    "print(f\"Number of tickers with fyr_change_dummy equal to 1: {num_tickers_with_fyr_change}\")\n"
   ]
  },
  {
   "cell_type": "code",
   "execution_count": 22,
   "id": "b9f21ab3-6cb3-40d3-98a4-0fff3caec36c",
   "metadata": {},
   "outputs": [
    {
     "name": "stdout",
     "output_type": "stream",
     "text": [
      "count    1775.00\n",
      "mean       90.70\n",
      "std         4.69\n",
      "min        68.00\n",
      "25%        90.00\n",
      "50%        90.00\n",
      "75%        91.00\n",
      "max       132.00\n",
      "Name: median_distance, dtype: object\n"
     ]
    }
   ],
   "source": [
    "summary_stats = df['median_distance'].describe()\n",
    "formatted_stats = summary_stats.apply(lambda x: f'{x:.2f}')\n",
    "\n",
    "print(formatted_stats)"
   ]
  },
  {
   "cell_type": "code",
   "execution_count": 23,
   "id": "12fb4702-6d16-4ded-b1b9-ab6501efcbda",
   "metadata": {},
   "outputs": [
    {
     "name": "stdout",
     "output_type": "stream",
     "text": [
      "        tic        rdq  fyr  fyearq  fqtr  fyr_change_dummy diff  \\\n",
      "22    0015B 1989-03-10    6    1989     1                 1  NaT   \n",
      "58    0015B 1998-09-23    5    1998     1                 1  NaT   \n",
      "646   0097A        NaT    3    1992     1                 1  NaT   \n",
      "658   0097A        NaT   12    1995     1                 1  NaT   \n",
      "1078  0147A        NaT    9    1997     1                 1  NaT   \n",
      "\n",
      "      median_distance  \n",
      "22                NaN  \n",
      "58               91.0  \n",
      "646              90.0  \n",
      "658              90.0  \n",
      "1078              NaN  \n"
     ]
    }
   ],
   "source": [
    "filtered_df = df[df['fyr_change_dummy'] == 1]\n",
    "print(filtered_df[['tic', 'rdq', 'fyr', 'fyearq', 'fqtr', 'fyr_change_dummy', 'diff', 'median_distance' ]].head())\n",
    "\n"
   ]
  },
  {
   "cell_type": "code",
   "execution_count": 24,
   "id": "192db123-5fdf-40ff-af6b-ee357cc49a64",
   "metadata": {},
   "outputs": [],
   "source": [
    "# Filter rows where fiscal year change occurred\n",
    "fyr_change_rows = df[df['fyr_change_dummy'] == 1]\n",
    "\n",
    "# Iterate over rows where fiscal year change occurred\n",
    "for index, fyr_change_row in fyr_change_rows.iterrows():\n",
    "    # Check if fiscal year change happened in quarterly or annual report\n",
    "    is_quarterly_report = fyr_change_row['quarterly_report'] == 1\n",
    "\n",
    "    # Determine which column to assign median distance\n",
    "    median_distance_column = 'annual_median' if not is_quarterly_report else 'quarterly_median'\n",
    "\n",
    "    # Update the median_distance column accordingly\n",
    "    df.loc[index, median_distance_column] = fyr_change_row['median_distance']\n",
    "\n",
    "# Set NaN for rows where fyr_change_dummy is 0\n",
    "df.loc[df['fyr_change_dummy'] == 0, ['annual_median', 'quarterly_median']] = np.nan\n"
   ]
  },
  {
   "cell_type": "code",
   "execution_count": 25,
   "id": "23dddac3-46ae-4a93-9e5e-eaaea7ed06f1",
   "metadata": {},
   "outputs": [
    {
     "name": "stdout",
     "output_type": "stream",
     "text": [
      "Summary statistics for Annual Median:\n",
      "count     55.000000\n",
      "mean     115.045455\n",
      "std        6.437213\n",
      "min      101.000000\n",
      "25%      112.000000\n",
      "50%      116.000000\n",
      "75%      119.000000\n",
      "max      132.000000\n",
      "Name: annual_median, dtype: float64\n",
      "\n",
      "Summary statistics for Quarterly Median:\n",
      "count    1720.000000\n",
      "mean       89.922965\n",
      "std         1.337046\n",
      "min        68.000000\n",
      "25%        90.000000\n",
      "50%        90.000000\n",
      "75%        91.000000\n",
      "max        91.000000\n",
      "Name: quarterly_median, dtype: float64\n"
     ]
    }
   ],
   "source": [
    "annual_median_summary = df['annual_median'].describe()\n",
    "print(\"Summary statistics for Annual Median:\")\n",
    "print(annual_median_summary)\n",
    "\n",
    "quarterly_median_summary = df['quarterly_median'].describe()\n",
    "print(\"\\nSummary statistics for Quarterly Median:\")\n",
    "print(quarterly_median_summary)\n"
   ]
  },
  {
   "cell_type": "code",
   "execution_count": 28,
   "id": "aea48729-bb3f-42a2-a6ec-f77dcb8135f9",
   "metadata": {},
   "outputs": [],
   "source": [
    "#df = pd.DataFrame(df)\n",
    "#df.to_csv('output.csv', index=False)\n",
    "\n",
    "#print(\"DataFrame saved to 'qqqq*.csv'\")\n"
   ]
  },
  {
   "cell_type": "code",
   "execution_count": 29,
   "id": "a9905736-5d79-4752-8b0f-607ebfde13e4",
   "metadata": {},
   "outputs": [
    {
     "name": "stdout",
     "output_type": "stream",
     "text": [
      "Number of entries where fyr_change_dummy == 1 and market_cap is empty: 411\n"
     ]
    }
   ],
   "source": [
    "filtered_df = df[(df['fyr_change_dummy'] == 1) & (df['market_cap'].isna())]\n",
    "num_entries = len(filtered_df)\n",
    "\n",
    "print(f'Number of entries where fyr_change_dummy == 1 and market_cap is empty: {num_entries}')"
   ]
  },
  {
   "cell_type": "code",
   "execution_count": 31,
   "id": "2d153f6a-1c76-48b0-8eed-1196f493ba4e",
   "metadata": {},
   "outputs": [
    {
     "name": "stdout",
     "output_type": "stream",
     "text": [
      "        tic        rdq  fyr  fyearq  fqtr  fyr_change_dummy diff  market_cap  \\\n",
      "22    0015B 1989-03-10    6    1989     1                 1  NaT         NaN   \n",
      "1078  0147A        NaT    9    1997     1                 1  NaT         NaN   \n",
      "2993  2788A 1980-04-26    9    1980     1                 1  NaT         NaN   \n",
      "3289  2919B        NaT    6    1981     1                 1  NaT         NaN   \n",
      "3821  3213B 1990-05-11   12    1990     1                 1  NaT         NaN   \n",
      "\n",
      "      median_distance  \n",
      "22                NaN  \n",
      "1078              NaN  \n",
      "2993              NaN  \n",
      "3289              NaN  \n",
      "3821              NaN  \n"
     ]
    }
   ],
   "source": [
    "print(filtered_df[['tic', 'rdq', 'fyr', 'fyearq', 'fqtr', 'fyr_change_dummy', 'diff', 'market_cap', 'median_distance' ]].head())"
   ]
  },
  {
   "cell_type": "code",
   "execution_count": 35,
   "id": "4c1d7708-e0c3-4340-95e2-76a2c81c4d63",
   "metadata": {},
   "outputs": [
    {
     "name": "stdout",
     "output_type": "stream",
     "text": [
      "      tic  fyr  fyr_change_dummy  market_cap      prccq     ajexq   cshoq\n",
      "0   0015B   10                 0   98.222171  33.999977  4.049999  11.700\n",
      "1   0015B   10                 0   85.222168  29.499977  4.049999  11.700\n",
      "2   0015B   10                 0   57.055538  19.749991  4.049999  11.700\n",
      "3   0015B   10                 0   53.444423  18.499990  4.049999  11.700\n",
      "4   0015B   10                 0   49.111097  16.999992  4.049999  11.700\n",
      "5   0015B   10                 0   49.833320  17.249993  4.049999  11.700\n",
      "6   0015B   10                 0   41.166644  14.249990  4.049999  11.700\n",
      "7   0015B   10                 0   53.805541  18.624992  4.049999  11.700\n",
      "8   0015B   10                 0   49.833320  17.249993  4.049999  11.700\n",
      "9   0015B   10                 0   46.583311  16.124990  4.049999  11.700\n",
      "10  0015B   10                 0   60.305536  20.874990  4.049999  11.700\n",
      "11  0015B   10                 0   75.297241  25.999981  4.049999  11.729\n",
      "12  0015B   10                 0   56.482575  19.499991  4.049999  11.731\n",
      "13  0015B   10                 0   57.568785  19.874993  4.049999  11.731\n",
      "14  0015B   10                 0   74.293480  25.624983  4.049999  11.742\n",
      "15  0015B   10                 0   88.540342  30.499985  4.049999  11.757\n",
      "16  0015B   10                 0   72.592536  24.999976  4.049999  11.760\n",
      "17  0015B   10                 0   45.737204  15.749991  4.049999  11.761\n",
      "18  0015B   10                 0   43.559239  14.999990  4.049999  11.761\n",
      "19  0015B   10                 0   49.004146  16.874990  4.049999  11.761\n",
      "20  0015B   10                 0   56.994853  19.624989  4.049999  11.762\n",
      "21  0015B   10                 0   55.542753  19.124988  4.049999  11.762\n",
      "22  0015B    6                 1         NaN  20.624990  4.049999     NaN\n",
      "23  0015B    6                 0         NaN  17.124990  4.049999     NaN\n",
      "24  0015B    6                 0         NaN  20.499992  4.049999     NaN\n"
     ]
    }
   ],
   "source": [
    "print(df[['tic', 'fyr', 'fyr_change_dummy', 'market_cap', 'prccq', 'ajexq', 'cshoq' ]].head(25))"
   ]
  },
  {
   "cell_type": "markdown",
   "id": "3926bb29-cf9a-4176-a48a-f7ae9da64829",
   "metadata": {},
   "source": [
    "#### As we see instances which had fyr change, 441 cases had empty market_caps. It means 411 out of 413 median distances that \n",
    "#### are uncalculated was due to **missing market_cap**."
   ]
  },
  {
   "cell_type": "code",
   "execution_count": 38,
   "id": "6cfa31b5-fc6e-47cc-81d6-6d8a32a280fb",
   "metadata": {},
   "outputs": [
    {
     "name": "stdout",
     "output_type": "stream",
     "text": [
      "           tic  fyr  fyr_change_dummy  market_cap      prccq     ajexq   cshoq\n",
      "22       0015B    6                 1         NaN  20.624990  4.049999     NaN\n",
      "1078     0147A    9                 1         NaN  12.875000  1.000000     NaN\n",
      "2993     2788A    9                 1         NaN  38.000000  1.000000     NaN\n",
      "3289     2919B    6                 1         NaN   3.000000  1.000000     NaN\n",
      "3821     3213B   12                 1         NaN  18.500000  1.000000     NaN\n",
      "4765     3ACDX   12                 1         NaN   0.250000  0.050000     NaN\n",
      "5438    3AEGSY    6                 1         NaN   8.750000  1.000000     NaN\n",
      "5441    3AEGSY   12                 1         NaN   8.000000  1.000000     NaN\n",
      "6755     3ANDA   10                 1         NaN   2.000000  1.000000     NaN\n",
      "6944    3AOGAE    6                 1         NaN   0.750000  0.100000     NaN\n",
      "7068     3APGC    9                 1         NaN   3.750000  1.000000     NaN\n",
      "7379    3ARYTE   12                 1         NaN   1.500000  1.000000     NaN\n",
      "9196    3BGNCE   12                 1         NaN   1.625000  1.000000     NaN\n",
      "9419    3BIOT.    6                 1         NaN   2.000000  1.000000     NaN\n",
      "11932    3CLCP   12                 1         NaN   3.000000  1.000000     NaN\n",
      "12448  3CNPIE.   12                 1         NaN        NaN  1.000000  49.156\n",
      "13697    3CTIA   12                 1         NaN   1.125000  1.000000     NaN\n",
      "14064   3CWTVE    6                 1         NaN        NaN  0.100000     NaN\n",
      "14303    3DALY   12                 1         NaN   9.625000  1.000000     NaN\n",
      "16138    3EDCO    1                 1         NaN   5.000000  1.000000     NaN\n",
      "16740   3ENCC.   12                 1         NaN   3.500000  1.000000     NaN\n",
      "17129    3ERCI   12                 1         NaN   0.562000  1.000000     NaN\n",
      "18347  3FMACQ.   12                 1         NaN  12.000000  1.000000     NaN\n",
      "19840   3GKRVF   12                 1         NaN   6.499999  1.000000     NaN\n",
      "20050   3GMHC.   12                 1         NaN   0.281000  0.033300     NaN\n",
      "20279    3GOXC   12                 1         NaN  12.375000  1.000000     NaN\n",
      "21506   3HIWDF   12                 1         NaN   1.750000  1.000000     NaN\n",
      "21704    3HOGL    9                 1         NaN  16.625000  1.000000     NaN\n",
      "22099   3HTDLY   12                 1         NaN   6.125000  0.200000     NaN\n",
      "23507   3ISTVE    6                 1         NaN  11.249995  0.466600     NaN\n"
     ]
    }
   ],
   "source": [
    "print(filtered_df[['tic', 'fyr', 'fyr_change_dummy', 'market_cap', 'prccq', 'ajexq', 'cshoq' ]]. head(30))"
   ]
  },
  {
   "cell_type": "code",
   "execution_count": 39,
   "id": "13c142c3-1914-4a05-b07d-e72ad5e3b7d6",
   "metadata": {},
   "outputs": [
    {
     "name": "stdout",
     "output_type": "stream",
     "text": [
      "      tic  fyr  fyr_change_dummy  market_cap      prccq     ajexq   cshoq\n",
      "0   0015B   10                 0   98.222171  33.999977  4.049999  11.700\n",
      "1   0015B   10                 0   85.222168  29.499977  4.049999  11.700\n",
      "2   0015B   10                 0   57.055538  19.749991  4.049999  11.700\n",
      "3   0015B   10                 0   53.444423  18.499990  4.049999  11.700\n",
      "4   0015B   10                 0   49.111097  16.999992  4.049999  11.700\n",
      "5   0015B   10                 0   49.833320  17.249993  4.049999  11.700\n",
      "6   0015B   10                 0   41.166644  14.249990  4.049999  11.700\n",
      "7   0015B   10                 0   53.805541  18.624992  4.049999  11.700\n",
      "8   0015B   10                 0   49.833320  17.249993  4.049999  11.700\n",
      "9   0015B   10                 0   46.583311  16.124990  4.049999  11.700\n",
      "10  0015B   10                 0   60.305536  20.874990  4.049999  11.700\n",
      "11  0015B   10                 0   75.297241  25.999981  4.049999  11.729\n",
      "12  0015B   10                 0   56.482575  19.499991  4.049999  11.731\n",
      "13  0015B   10                 0   57.568785  19.874993  4.049999  11.731\n",
      "14  0015B   10                 0   74.293480  25.624983  4.049999  11.742\n",
      "15  0015B   10                 0   88.540342  30.499985  4.049999  11.757\n",
      "16  0015B   10                 0   72.592536  24.999976  4.049999  11.760\n",
      "17  0015B   10                 0   45.737204  15.749991  4.049999  11.761\n",
      "18  0015B   10                 0   43.559239  14.999990  4.049999  11.761\n",
      "19  0015B   10                 0   49.004146  16.874990  4.049999  11.761\n",
      "20  0015B   10                 0   56.994853  19.624989  4.049999  11.762\n",
      "21  0015B   10                 0   55.542753  19.124988  4.049999  11.762\n",
      "22  0015B    6                 1         NaN  20.624990  4.049999     NaN\n",
      "23  0015B    6                 0         NaN  17.124990  4.049999     NaN\n",
      "24  0015B    6                 0         NaN  20.499992  4.049999     NaN\n",
      "25  0015B    6                 0   67.422199  23.124988  4.049999  11.808\n",
      "26  0015B    6                 0   66.407512  22.749990  4.049999  11.822\n",
      "27  0015B    6                 0   71.904936  24.624974  4.049999  11.826\n",
      "28  0015B    6                 0  107.057395  16.249996  2.700000  17.788\n",
      "29  0015B    6                 0   85.689249  12.999996  2.700000  17.797\n"
     ]
    }
   ],
   "source": [
    "print(df[['tic', 'fyr', 'fyr_change_dummy', 'market_cap', 'prccq', 'ajexq', 'cshoq' ]]. head(30))"
   ]
  },
  {
   "cell_type": "markdown",
   "id": "811af75e-6895-437a-a07c-ce5c07123fe1",
   "metadata": {},
   "source": [
    "####  What is interesting firms were mostly consistently reporting their cshoq before and after fyr change happened!\n",
    "#### *As we can see here* "
   ]
  },
  {
   "cell_type": "code",
   "execution_count": 43,
   "id": "f71e8e3e-df92-4ef3-acda-b0f750eebab9",
   "metadata": {},
   "outputs": [
    {
     "name": "stdout",
     "output_type": "stream",
     "text": [
      "          tic  fyr  fyr_change_dummy    market_cap     ajexq   cshoq\n",
      "17      0015B   10                 0     45.737204  4.049999  11.761\n",
      "18      0015B   10                 0     43.559239  4.049999  11.761\n",
      "19      0015B   10                 0     49.004146  4.049999  11.761\n",
      "20      0015B   10                 0     56.994853  4.049999  11.762\n",
      "21      0015B   10                 0     55.542753  4.049999  11.762\n",
      "22      0015B    6                 1           NaN  4.049999     NaN\n",
      "23      0015B    6                 0           NaN  4.049999     NaN\n",
      "24      0015B    6                 0           NaN  4.049999     NaN\n",
      "25      0015B    6                 0     67.422199  4.049999  11.808\n",
      "1075    0147A   12                 0    114.502500  1.000000   6.543\n",
      "1076    0147A   12                 0     76.939000  1.000000   6.548\n",
      "1077    0147A   12                 0     84.305500  1.000000   6.548\n",
      "1078    0147A    9                 1           NaN  1.000000     NaN\n",
      "1079    0147A    9                 0     91.770000  1.000000   6.555\n",
      "1080    0147A    9                 0     20.613750  1.000000   1.434\n",
      "1081    0154A   12                 0    119.340000  1.000000   6.120\n",
      "2990    2788A   12                 0    295.923750  1.000000   8.395\n",
      "2991    2788A   12                 0    284.681250  1.000000   8.435\n",
      "2992    2788A   12                 0    320.568000  1.000000   8.436\n",
      "2993    2788A    9                 1           NaN  1.000000     NaN\n",
      "2994    2788A    9                 0    300.259000  1.000000   8.458\n",
      "2995    2788A    9                 0    586.092000  1.000000   8.619\n",
      "2996    2793A   12                 0      4.317465  1.102498   1.190\n",
      "3286    2919B   12                 0     10.941000  1.000000   3.126\n",
      "3287    2919B   12                 0      9.378000  1.000000   3.126\n",
      "3288    2919B   12                 0      8.596500  1.000000   3.126\n",
      "3289    2919B    6                 1           NaN  1.000000     NaN\n",
      "3290    2919B    6                 0           NaN  1.000000     NaN\n",
      "3291    2919B    6                 0      9.378000  1.000000   3.126\n",
      "3292    2919B    6                 0     11.730000  1.000000   3.128\n",
      "4762    3ACDX    3                 0      7.853997  0.050000   2.100\n",
      "4763    3ACDX    3                 0     10.500000  0.050000   2.100\n",
      "4764    3ACDX    3                 0     10.500000  0.050000   2.100\n",
      "4765    3ACDX   12                 1           NaN  0.050000     NaN\n",
      "4766    3ACEC    6                 0     93.204000  1.000000   7.767\n",
      "4767    3ACEC    6                 0    118.470000  1.000000   7.898\n",
      "4768    3ACEC    6                 0     67.963500  1.000000   8.238\n",
      "5435  3AEGP.1   12                 0  87215.346535  0.000040   7.047\n",
      "5436   3AEGSY    4                 0           NaN  1.000000     NaN\n",
      "5437   3AEGSY    4                 0    221.286000  1.000000  22.696\n",
      "5438   3AEGSY    6                 1           NaN  1.000000     NaN\n",
      "5439   3AEGSY    6                 0           NaN  1.000000     NaN\n",
      "5440   3AEGSY    6                 0           NaN  1.000000     NaN\n",
      "5441   3AEGSY   12                 1           NaN  1.000000     NaN\n",
      "5442   3AEGSY   12                 0           NaN  1.000000     NaN\n",
      "5443   3AEGSY   12                 0           NaN  1.000000     NaN\n",
      "5444   3AEGSY   12                 0    310.301625  1.000000  35.977\n",
      "5445   3AEGSY   12                 0           NaN  1.000000     NaN\n"
     ]
    }
   ],
   "source": [
    "rows = [17, 18, 19, 20, 21, 22, 23, 24, 25, 1075, 1076, 1077, 1078, 1079, 1080, 1081, 2990, 2991, 2992, 2993, 2994, 2995, 2996, 3286, 3287, 3288, 3289, 3290, 3291, 3292, 4762, 4763, 4764, 4765, 4766, 4767, 4768, 5435, 5436, 5437, 5438, 5439, 5440, 5441, 5442, 5443, 5444, 5445]\n",
    "columns = ['tic', 'fyr', 'fyr_change_dummy', 'market_cap', 'ajexq', 'cshoq']\n",
    "selected_df = df.loc[rows, columns]\n",
    "print(selected_df)"
   ]
  },
  {
   "cell_type": "markdown",
   "id": "8d492cc5-0a86-4cf1-88fe-731c7ea1beab",
   "metadata": {},
   "source": [
    "#### What I suggest is that we can find cshoq to be proportional value between its last and next reported values, otherwise it is reasonable that we can't calculate median distances. "
   ]
  },
  {
   "cell_type": "code",
   "execution_count": null,
   "id": "11a61c0c-8e45-46f8-9034-7d74d7ecdd90",
   "metadata": {},
   "outputs": [],
   "source": []
  }
 ],
 "metadata": {
  "kernelspec": {
   "display_name": "Python 3 (ipykernel)",
   "language": "python",
   "name": "python3"
  },
  "language_info": {
   "codemirror_mode": {
    "name": "ipython",
    "version": 3
   },
   "file_extension": ".py",
   "mimetype": "text/x-python",
   "name": "python",
   "nbconvert_exporter": "python",
   "pygments_lexer": "ipython3",
   "version": "3.12.3"
  }
 },
 "nbformat": 4,
 "nbformat_minor": 5
}
