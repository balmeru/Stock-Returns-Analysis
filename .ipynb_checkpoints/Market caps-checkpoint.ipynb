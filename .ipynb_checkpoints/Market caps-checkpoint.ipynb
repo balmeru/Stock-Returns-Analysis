{
 "cells": [
  {
   "cell_type": "markdown",
   "id": "4c816de6-67d3-4853-a113-255ff68f4ac4",
   "metadata": {},
   "source": [
    "\n",
    "<p style=\"font-size:21px; font-family:'Times New Roman';\">\n",
    "Read report dates data \n",
    "</p>"
   ]
  },
  {
   "cell_type": "code",
   "execution_count": 1,
   "id": "afee8605-6296-4589-abee-6cb79cadc57f",
   "metadata": {},
   "outputs": [],
   "source": [
    "import pandas as pd\n",
    "import numpy as np\n",
    "csv_file_path = '/Users/balmeru/Downloads/QQQQ.csv'\n",
    "df = pd.read_csv(csv_file_path)\n"
   ]
  },
  {
   "cell_type": "code",
   "execution_count": 2,
   "id": "a3b26c71-c0ee-4196-8c92-63609b9d3f13",
   "metadata": {},
   "outputs": [
    {
     "data": {
      "text/html": [
       "<div>\n",
       "<style scoped>\n",
       "    .dataframe tbody tr th:only-of-type {\n",
       "        vertical-align: middle;\n",
       "    }\n",
       "\n",
       "    .dataframe tbody tr th {\n",
       "        vertical-align: top;\n",
       "    }\n",
       "\n",
       "    .dataframe thead th {\n",
       "        text-align: right;\n",
       "    }\n",
       "</style>\n",
       "<table border=\"1\" class=\"dataframe\">\n",
       "  <thead>\n",
       "    <tr style=\"text-align: right;\">\n",
       "      <th></th>\n",
       "      <th>GVKEY</th>\n",
       "      <th>datadate</th>\n",
       "      <th>fyearq</th>\n",
       "      <th>fqtr</th>\n",
       "      <th>fyr</th>\n",
       "      <th>indfmt</th>\n",
       "      <th>consol</th>\n",
       "      <th>popsrc</th>\n",
       "      <th>datafmt</th>\n",
       "      <th>tic</th>\n",
       "      <th>...</th>\n",
       "      <th>ibq</th>\n",
       "      <th>lseq</th>\n",
       "      <th>ltq</th>\n",
       "      <th>pstkq</th>\n",
       "      <th>teqq</th>\n",
       "      <th>txdbq</th>\n",
       "      <th>dvpy</th>\n",
       "      <th>costat</th>\n",
       "      <th>mkvaltq</th>\n",
       "      <th>prccq</th>\n",
       "    </tr>\n",
       "  </thead>\n",
       "  <tbody>\n",
       "    <tr>\n",
       "      <th>0</th>\n",
       "      <td>1000</td>\n",
       "      <td>1975-06-30</td>\n",
       "      <td>1975</td>\n",
       "      <td>2</td>\n",
       "      <td>12</td>\n",
       "      <td>INDL</td>\n",
       "      <td>C</td>\n",
       "      <td>D</td>\n",
       "      <td>STD</td>\n",
       "      <td>AE.2</td>\n",
       "      <td>...</td>\n",
       "      <td>0.875</td>\n",
       "      <td>NaN</td>\n",
       "      <td>NaN</td>\n",
       "      <td>0.414</td>\n",
       "      <td>NaN</td>\n",
       "      <td>NaN</td>\n",
       "      <td>NaN</td>\n",
       "      <td>I</td>\n",
       "      <td>NaN</td>\n",
       "      <td>2.875</td>\n",
       "    </tr>\n",
       "    <tr>\n",
       "      <th>1</th>\n",
       "      <td>1000</td>\n",
       "      <td>1975-09-30</td>\n",
       "      <td>1975</td>\n",
       "      <td>3</td>\n",
       "      <td>12</td>\n",
       "      <td>INDL</td>\n",
       "      <td>C</td>\n",
       "      <td>D</td>\n",
       "      <td>STD</td>\n",
       "      <td>AE.2</td>\n",
       "      <td>...</td>\n",
       "      <td>0.613</td>\n",
       "      <td>NaN</td>\n",
       "      <td>NaN</td>\n",
       "      <td>0.414</td>\n",
       "      <td>NaN</td>\n",
       "      <td>NaN</td>\n",
       "      <td>NaN</td>\n",
       "      <td>I</td>\n",
       "      <td>NaN</td>\n",
       "      <td>4.000</td>\n",
       "    </tr>\n",
       "    <tr>\n",
       "      <th>2</th>\n",
       "      <td>1000</td>\n",
       "      <td>1975-12-31</td>\n",
       "      <td>1975</td>\n",
       "      <td>4</td>\n",
       "      <td>12</td>\n",
       "      <td>INDL</td>\n",
       "      <td>C</td>\n",
       "      <td>D</td>\n",
       "      <td>STD</td>\n",
       "      <td>AE.2</td>\n",
       "      <td>...</td>\n",
       "      <td>0.606</td>\n",
       "      <td>23.905</td>\n",
       "      <td>11.596</td>\n",
       "      <td>2.069</td>\n",
       "      <td>NaN</td>\n",
       "      <td>NaN</td>\n",
       "      <td>NaN</td>\n",
       "      <td>I</td>\n",
       "      <td>NaN</td>\n",
       "      <td>4.375</td>\n",
       "    </tr>\n",
       "    <tr>\n",
       "      <th>3</th>\n",
       "      <td>1000</td>\n",
       "      <td>1976-03-31</td>\n",
       "      <td>1976</td>\n",
       "      <td>1</td>\n",
       "      <td>12</td>\n",
       "      <td>INDL</td>\n",
       "      <td>C</td>\n",
       "      <td>D</td>\n",
       "      <td>STD</td>\n",
       "      <td>AE.2</td>\n",
       "      <td>...</td>\n",
       "      <td>0.726</td>\n",
       "      <td>32.531</td>\n",
       "      <td>19.469</td>\n",
       "      <td>2.069</td>\n",
       "      <td>NaN</td>\n",
       "      <td>NaN</td>\n",
       "      <td>0.031</td>\n",
       "      <td>I</td>\n",
       "      <td>NaN</td>\n",
       "      <td>6.750</td>\n",
       "    </tr>\n",
       "    <tr>\n",
       "      <th>4</th>\n",
       "      <td>1000</td>\n",
       "      <td>1976-06-30</td>\n",
       "      <td>1976</td>\n",
       "      <td>2</td>\n",
       "      <td>12</td>\n",
       "      <td>INDL</td>\n",
       "      <td>C</td>\n",
       "      <td>D</td>\n",
       "      <td>STD</td>\n",
       "      <td>AE.2</td>\n",
       "      <td>...</td>\n",
       "      <td>1.603</td>\n",
       "      <td>35.157</td>\n",
       "      <td>20.287</td>\n",
       "      <td>2.069</td>\n",
       "      <td>NaN</td>\n",
       "      <td>NaN</td>\n",
       "      <td>NaN</td>\n",
       "      <td>I</td>\n",
       "      <td>NaN</td>\n",
       "      <td>7.250</td>\n",
       "    </tr>\n",
       "  </tbody>\n",
       "</table>\n",
       "<p>5 rows × 29 columns</p>\n",
       "</div>"
      ],
      "text/plain": [
       "   GVKEY    datadate  fyearq  fqtr  fyr indfmt consol popsrc datafmt   tic  \\\n",
       "0   1000  1975-06-30    1975     2   12   INDL      C      D     STD  AE.2   \n",
       "1   1000  1975-09-30    1975     3   12   INDL      C      D     STD  AE.2   \n",
       "2   1000  1975-12-31    1975     4   12   INDL      C      D     STD  AE.2   \n",
       "3   1000  1976-03-31    1976     1   12   INDL      C      D     STD  AE.2   \n",
       "4   1000  1976-06-30    1976     2   12   INDL      C      D     STD  AE.2   \n",
       "\n",
       "   ...    ibq    lseq     ltq  pstkq teqq  txdbq   dvpy  costat  mkvaltq  \\\n",
       "0  ...  0.875     NaN     NaN  0.414  NaN    NaN    NaN       I      NaN   \n",
       "1  ...  0.613     NaN     NaN  0.414  NaN    NaN    NaN       I      NaN   \n",
       "2  ...  0.606  23.905  11.596  2.069  NaN    NaN    NaN       I      NaN   \n",
       "3  ...  0.726  32.531  19.469  2.069  NaN    NaN  0.031       I      NaN   \n",
       "4  ...  1.603  35.157  20.287  2.069  NaN    NaN    NaN       I      NaN   \n",
       "\n",
       "   prccq  \n",
       "0  2.875  \n",
       "1  4.000  \n",
       "2  4.375  \n",
       "3  6.750  \n",
       "4  7.250  \n",
       "\n",
       "[5 rows x 29 columns]"
      ]
     },
     "execution_count": 2,
     "metadata": {},
     "output_type": "execute_result"
    }
   ],
   "source": [
    "df.head()"
   ]
  },
  {
   "cell_type": "code",
   "execution_count": 3,
   "id": "c6af95d8-4487-407d-84fb-0077d34854c3",
   "metadata": {},
   "outputs": [],
   "source": [
    "df['market_cap'] = df['prccq'] / df['ajexq'] * df['cshoq']\n"
   ]
  },
  {
   "cell_type": "code",
   "execution_count": 4,
   "id": "d69a9f77-4cc8-45c8-bd14-5eb734113460",
   "metadata": {},
   "outputs": [
    {
     "name": "stdout",
     "output_type": "stream",
     "text": [
      "   prccq  ajexq  cshoq  market_cap\n",
      "0  2.875    1.0  2.092     6.01450\n",
      "1  4.000    1.0  2.094     8.37600\n",
      "2  4.375    1.0  2.098     9.17875\n",
      "3  6.750    1.0  2.096    14.14800\n",
      "4  7.250    1.0  2.163    15.68175\n"
     ]
    }
   ],
   "source": [
    "print(df[['prccq', 'ajexq', 'cshoq', 'market_cap']].head())\n"
   ]
  },
  {
   "cell_type": "code",
   "execution_count": 7,
   "id": "ad2f33a5-8259-4b57-9929-999f2f5e84a2",
   "metadata": {},
   "outputs": [
    {
     "name": "stdout",
     "output_type": "stream",
     "text": [
      "            market_cap    lower_bound    upper_bound\n",
      "0             6.014500       4.811600       7.217400\n",
      "1             8.376000       6.700800      10.051200\n",
      "2             9.178750       7.343000      11.014500\n",
      "3            14.148000      11.318400      16.977600\n",
      "4            15.681750      12.545400      18.818100\n",
      "...                ...            ...            ...\n",
      "1085910      98.553000      78.842400     118.263600\n",
      "1085911    1761.430000    1409.144000    2113.716000\n",
      "1085912    2049.070400    1639.256320    2458.884480\n",
      "1085913  321206.432121  256965.145697  385447.718545\n",
      "1085914  292932.029293  234345.623435  351518.435152\n",
      "\n",
      "[1085915 rows x 3 columns]\n"
     ]
    }
   ],
   "source": [
    "# Calculate upper and lower bounds\n",
    "df['lower_bound'] = 0.8 * df['market_cap']\n",
    "df['upper_bound'] = 1.2 * df['market_cap']\n",
    "print(df[['market_cap', 'lower_bound', 'upper_bound']])\n"
   ]
  },
  {
   "cell_type": "code",
   "execution_count": 8,
   "id": "572d65b0-aec9-42f4-a7cf-61af9bdcf020",
   "metadata": {},
   "outputs": [
    {
     "name": "stdout",
     "output_type": "stream",
     "text": [
      "         fqtr  quarterly_report  annual_report\n",
      "0           2                 1              0\n",
      "1           3                 1              0\n",
      "2           4                 0              1\n",
      "3           1                 1              0\n",
      "4           2                 1              0\n",
      "...       ...               ...            ...\n",
      "1085910     1                 1              0\n",
      "1085911     4                 0              1\n",
      "1085912     1                 1              0\n",
      "1085913     4                 0              1\n",
      "1085914     1                 1              0\n",
      "\n",
      "[1085915 rows x 3 columns]\n"
     ]
    }
   ],
   "source": [
    "df['quarterly_report'] = (df['fqtr'].isin([1, 2, 3])).astype(int)\n",
    "df['annual_report'] = (df['fqtr'] == 4).astype(int)\n",
    "print(df[['fqtr', 'quarterly_report', 'annual_report']])\n",
    "\n"
   ]
  },
  {
   "cell_type": "code",
   "execution_count": 9,
   "id": "2ab8791d-1ca9-4297-b6dd-68658ab24e8d",
   "metadata": {},
   "outputs": [],
   "source": [
    "df['fyr'] = pd.to_numeric(df['fyr'], errors='coerce')\n",
    "df = df.sort_values(by=['tic', 'fyearq', 'fqtr'])\n",
    "ticker_change = df['tic'] != df['tic'].shift(1)\n",
    "df['fyr_change_dummy'] = ((df['fyr'] != df['fyr'].shift(1)) & (~ticker_change)).astype(int)\n",
    "\n",
    "# Fill the first occurrence of each ticker group with 0\n",
    "df.loc[df.groupby('tic').head(1).index, 'fyr_change_dummy'] = 0\n"
   ]
  },
  {
   "cell_type": "code",
   "execution_count": 10,
   "id": "6e977998-0191-452d-885b-c581197d7c8e",
   "metadata": {},
   "outputs": [
    {
     "name": "stdout",
     "output_type": "stream",
     "text": [
      "         tic         rdq  fyearq  fqtr  fyr  fyr_change_dummy\n",
      "60380  0015B         NaN    1983     3   10                 0\n",
      "60381  0015B  1984-01-16    1983     4   10                 0\n",
      "60382  0015B  1984-03-15    1984     1   10                 0\n",
      "60383  0015B  1984-05-25    1984     2   10                 0\n",
      "60384  0015B  1984-08-27    1984     3   10                 0\n",
      "60385  0015B  1985-01-01    1984     4   10                 0\n",
      "60386  0015B  1985-03-05    1985     1   10                 0\n",
      "60387  0015B  1985-06-17    1985     2   10                 0\n",
      "60388  0015B  1985-09-09    1985     3   10                 0\n",
      "60389  0015B  1986-01-06    1985     4   10                 0\n",
      "60390  0015B  1986-03-06    1986     1   10                 0\n",
      "60391  0015B  1986-06-03    1986     2   10                 0\n",
      "60392  0015B  1986-09-11    1986     3   10                 0\n",
      "60393  0015B  1987-01-12    1986     4   10                 0\n",
      "60394  0015B  1987-03-04    1987     1   10                 0\n",
      "60395  0015B  1987-06-03    1987     2   10                 0\n",
      "60396  0015B  1987-09-08    1987     3   10                 0\n",
      "60397  0015B  1988-01-19    1987     4   10                 0\n",
      "60398  0015B  1988-03-11    1988     1   10                 0\n",
      "60399  0015B  1988-06-08    1988     2   10                 0\n",
      "60400  0015B  1988-09-07    1988     3   10                 0\n",
      "60402  0015B  1989-01-26    1988     4   10                 0\n",
      "60401  0015B  1989-03-10    1989     1    6                 1\n",
      "60403  0015B  1989-06-07    1989     2    6                 0\n",
      "60404  0015B         NaN    1989     3    6                 0\n",
      "60405  0015B         NaN    1989     4    6                 0\n",
      "60406  0015B  1989-11-08    1990     1    6                 0\n",
      "60407  0015B  1990-02-02    1990     2    6                 0\n",
      "60408  0015B  1990-05-11    1990     3    6                 0\n",
      "60409  0015B  1990-09-10    1990     4    6                 0\n",
      "60410  0015B  1990-11-12    1991     1    6                 0\n",
      "60411  0015B  1991-02-07    1991     2    6                 0\n",
      "60412  0015B  1991-05-02    1991     3    6                 0\n",
      "60413  0015B  1991-09-26    1991     4    6                 0\n",
      "60414  0015B         NaN    1992     1    6                 0\n",
      "60415  0015B  1992-02-05    1992     2    6                 0\n",
      "60416  0015B  1992-05-06    1992     3    6                 0\n",
      "60417  0015B  1992-09-08    1992     4    6                 0\n",
      "60418  0015B  1992-11-05    1993     1    6                 0\n",
      "60419  0015B  1993-02-02    1993     2    6                 0\n",
      "60420  0015B  1993-05-06    1993     3    6                 0\n",
      "60421  0015B  1993-08-31    1993     4    6                 0\n",
      "60422  0015B  1993-11-08    1994     1    6                 0\n",
      "60423  0015B  1994-02-08    1994     2    6                 0\n",
      "60424  0015B  1994-05-11    1994     3    6                 0\n",
      "60425  0015B  1994-09-20    1994     4    6                 0\n",
      "60426  0015B  1994-11-09    1995     1    6                 0\n",
      "60427  0015B  1995-02-10    1995     2    6                 0\n",
      "60428  0015B  1995-05-16    1995     3    6                 0\n",
      "60429  0015B  1995-09-21    1995     4    6                 0\n",
      "60430  0015B  1995-11-09    1996     1    6                 0\n",
      "60431  0015B  1996-02-07    1996     2    6                 0\n",
      "60432  0015B  1996-05-07    1996     3    6                 0\n",
      "60433  0015B  1996-09-16    1996     4    6                 0\n",
      "60434  0015B  1996-11-13    1997     1    6                 0\n",
      "60435  0015B  1997-02-07    1997     2    6                 0\n",
      "60436  0015B  1997-05-08    1997     3    6                 0\n",
      "60437  0015B  1997-09-10    1997     4    6                 0\n",
      "60438  0015B  1998-09-23    1998     1    5                 1\n",
      "60439  0015B  1998-12-23    1998     2    5                 0\n"
     ]
    }
   ],
   "source": [
    "print(df[['tic', 'rdq', 'fyearq', 'fqtr', 'fyr', 'fyr_change_dummy']].head(60))\n"
   ]
  },
  {
   "cell_type": "code",
   "execution_count": 11,
   "id": "a9905736-5d79-4752-8b0f-607ebfde13e4",
   "metadata": {},
   "outputs": [
    {
     "name": "stdout",
     "output_type": "stream",
     "text": [
      "Number of entries where fyr_change_dummy == 1 and market_cap is empty: 411\n"
     ]
    }
   ],
   "source": [
    "filtered_df = df[(df['fyr_change_dummy'] == 1) & (df['market_cap'].isna())]\n",
    "num_entries = len(filtered_df)\n",
    "\n",
    "print(f'Number of entries where fyr_change_dummy == 1 and market_cap is empty: {num_entries}')"
   ]
  },
  {
   "cell_type": "markdown",
   "id": "3926bb29-cf9a-4176-a48a-f7ae9da64829",
   "metadata": {},
   "source": [
    "#### As we see instances which had fyr change, 411 cases had empty market_caps. It means 411 out of 413 median distances that \n",
    "#### are uncalculated was due to **missing market_cap**."
   ]
  },
  {
   "cell_type": "code",
   "execution_count": 12,
   "id": "11a61c0c-8e45-46f8-9034-7d74d7ecdd90",
   "metadata": {},
   "outputs": [
    {
     "name": "stdout",
     "output_type": "stream",
     "text": [
      "Number of entries where fyr_change_dummy == 1 and cshoq is empty: 393\n"
     ]
    }
   ],
   "source": [
    "filtered_df = df[(df['fyr_change_dummy'] == 1) & (df['cshoq'].isna())]\n",
    "num_entries = len(filtered_df)\n",
    "\n",
    "print(f'Number of entries where fyr_change_dummy == 1 and cshoq is empty: {num_entries}')"
   ]
  },
  {
   "cell_type": "code",
   "execution_count": 13,
   "id": "3c83aeab-248f-4067-b2a3-2a28f091a09d",
   "metadata": {},
   "outputs": [
    {
     "name": "stdout",
     "output_type": "stream",
     "text": [
      "Number of rows with fiscal year change, 'cshoq' present, and 'prccq' missing: 18\n"
     ]
    }
   ],
   "source": [
    "filtered_rows = df[(df['fyr_change_dummy'] == 1) & df['cshoq'].notna() & df['prccq'].isna()]\n",
    "print(f\"Number of rows with fiscal year change, 'cshoq' present, and 'prccq' missing: {len(filtered_rows)}\")\n"
   ]
  },
  {
   "cell_type": "markdown",
   "id": "e9a42c20-9f5c-491d-8023-bc946609a331",
   "metadata": {},
   "source": [
    "#### For now we will relieve this 18 missing price cases"
   ]
  },
  {
   "cell_type": "markdown",
   "id": "b84ed3a2-ef2c-4f2c-ad51-ca177ebe6de0",
   "metadata": {},
   "source": [
    "#### Now we will look for one above and below non-empty 'cshoq'. Determining which year and quarter found cshoqs belong to, we calculate the proportionate cshoq where it's missing\n",
    "#### Example: Missing cshoq is 2024 Q1, above non-empty cshoq 2023 Q4 = 7, below 2024 Q2 =8, then we fill in with 7.5\n",
    "#### Missing cshoq is 2024 Q2, above non-empty cshoq 2024 Q2 = 1, below 2024 Q4 =2, then we fill in with 1.33. \n",
    "#### If above and below non-empty cshoqs are the same, then our cshoq is equal to that value. "
   ]
  },
  {
   "cell_type": "code",
   "execution_count": 14,
   "id": "aecd4b19-abfc-4232-afb5-a179672506c5",
   "metadata": {},
   "outputs": [
    {
     "name": "stderr",
     "output_type": "stream",
     "text": [
      "/var/folders/ds/rfyxvvb945vdt8znlkx31w1m00cj2y/T/ipykernel_14441/4092613696.py:20: FutureWarning: Setting an item of incompatible dtype is deprecated and will raise an error in a future version of pandas. Value '1988Q4' has dtype incompatible with float64, please explicitly cast to a compatible dtype first.\n",
      "  df.at[index, 'above_datafqtr'] = above_row['datafqtr']\n",
      "/var/folders/ds/rfyxvvb945vdt8znlkx31w1m00cj2y/T/ipykernel_14441/4092613696.py:28: FutureWarning: Setting an item of incompatible dtype is deprecated and will raise an error in a future version of pandas. Value '1989Q4' has dtype incompatible with float64, please explicitly cast to a compatible dtype first.\n",
      "  df.at[index, 'below_datafqtr'] = below_row['datafqtr']\n"
     ]
    },
    {
     "name": "stdout",
     "output_type": "stream",
     "text": [
      "         GVKEY    datadate  fyearq  fqtr  fyr indfmt consol popsrc datafmt  \\\n",
      "60401     2484  1988-09-30    1989     1    6   INDL      C      D     STD   \n",
      "660313   23929  1996-12-31    1997     1    9   INDL      C      D     STD   \n",
      "231881    6726  1979-12-31    1980     1    9   INDL      C      D     STD   \n",
      "108041    3688  1980-09-30    1981     1    6   INDL      C      D     STD   \n",
      "518434   14287  1990-03-31    1990     1   12   INDL      C      D     STD   \n",
      "...        ...         ...     ...   ...  ...    ...    ...    ...     ...   \n",
      "607619   18484  1994-11-30    1995     1    8   INDL      C      D     STD   \n",
      "667704   24318  1999-03-31    1999     1   12   INDL      C      D     STD   \n",
      "909337  100598  2000-03-31    2000     1   12   INDL      C      D     STD   \n",
      "793958   30751  1997-03-31    1997     1   12   INDL      C      D     STD   \n",
      "433183   11656  1991-05-31    1991     1    2   INDL      C      D     STD   \n",
      "\n",
      "           tic  ...  market_cap lower_bound upper_bound quarterly_report  \\\n",
      "60401    0015B  ...         NaN         NaN         NaN                1   \n",
      "660313   0147A  ...         NaN         NaN         NaN                1   \n",
      "231881   2788A  ...         NaN         NaN         NaN                1   \n",
      "108041   2919B  ...         NaN         NaN         NaN                1   \n",
      "518434   3213B  ...         NaN         NaN         NaN                1   \n",
      "...        ...  ...         ...         ...         ...              ...   \n",
      "607619  WWWW.1  ...         NaN         NaN         NaN                1   \n",
      "667704    XL.1  ...         NaN         NaN         NaN                1   \n",
      "909337     XLL  ...         NaN         NaN         NaN                1   \n",
      "793958   XPRSA  ...         NaN         NaN         NaN                1   \n",
      "433183    YORK  ...         NaN         NaN         NaN                1   \n",
      "\n",
      "       annual_report  fyr_change_dummy  above_cshoq  below_cshoq  \\\n",
      "60401              0                 1       11.762       11.808   \n",
      "660313             0                 1        6.548        6.555   \n",
      "231881             0                 1        8.436        8.458   \n",
      "108041             0                 1        3.126        3.126   \n",
      "518434             0                 1       71.085       71.345   \n",
      "...              ...               ...          ...          ...   \n",
      "607619             0                 1        8.804       91.422   \n",
      "667704             0                 1      111.804      127.580   \n",
      "909337             0                 1      104.860          NaN   \n",
      "793958             0                 1       12.086       12.117   \n",
      "433183             0                 1        8.477        9.148   \n",
      "\n",
      "        above_datafqtr  below_datafqtr  \n",
      "60401           1988Q4          1989Q4  \n",
      "660313          1996Q4          1997Q2  \n",
      "231881          1979Q4          1980Q2  \n",
      "108041          1980Q4          1981Q3  \n",
      "518434          1989Q4          1990Q4  \n",
      "...                ...             ...  \n",
      "607619          1994Q4          1995Q3  \n",
      "667704          1998Q4          1999Q3  \n",
      "909337          1999Q4             NaN  \n",
      "793958          1996Q4          1997Q2  \n",
      "433183          1990Q4          1991Q3  \n",
      "\n",
      "[393 rows x 39 columns]\n"
     ]
    }
   ],
   "source": [
    "# Initialize above_cshoq, below_cshoq, above_datafqtr, and below_datafqtr as NaN\n",
    "df['above_cshoq'] = np.nan\n",
    "df['below_cshoq'] = np.nan\n",
    "df['above_datafqtr'] = np.nan\n",
    "df['below_datafqtr'] = np.nan\n",
    "\n",
    "# Find rows where fyr_change_dummy is 1 and cshoq is NaN\n",
    "missing_cshoq_indices = df[(df['fyr_change_dummy'] == 1) & df['cshoq'].isna()].index\n",
    "\n",
    "# Iterate over the missing cshoq indices to find above_cshoq, below_cshoq, above_datafqtr, and below_datafqtr\n",
    "for index in missing_cshoq_indices:\n",
    "    tic = df.at[index, 'tic']\n",
    "    current_datafqtr = df.at[index, 'datafqtr']\n",
    "    \n",
    "    # Find the row above with a non-missing cshoq value\n",
    "    above_rows = df[(df['tic'] == tic) & (df['datafqtr'] < current_datafqtr)].sort_values(by='datafqtr', ascending=False)\n",
    "    for _, above_row in above_rows.iterrows():\n",
    "        if not pd.isna(above_row['cshoq']):\n",
    "            df.at[index, 'above_cshoq'] = above_row['cshoq']\n",
    "            df.at[index, 'above_datafqtr'] = above_row['datafqtr']\n",
    "            break\n",
    "    \n",
    "    # Find the row below with a non-missing cshoq value\n",
    "    below_rows = df[(df['tic'] == tic) & (df['datafqtr'] > current_datafqtr)].sort_values(by='datafqtr', ascending=True)\n",
    "    for _, below_row in below_rows.iterrows():\n",
    "        if not pd.isna(below_row['cshoq']):\n",
    "            df.at[index, 'below_cshoq'] = below_row['cshoq']\n",
    "            df.at[index, 'below_datafqtr'] = below_row['datafqtr']\n",
    "            break\n",
    "\n",
    "# Print rows where fyr_change_dummy is 1 and cshoq is NaN\n",
    "print(df[(df['fyr_change_dummy'] == 1) & df['cshoq'].isna()])"
   ]
  },
  {
   "cell_type": "code",
   "execution_count": 30,
   "id": "8207186e-a5be-4a69-9365-faec3245b8c2",
   "metadata": {
    "scrolled": true
   },
   "outputs": [
    {
     "name": "stdout",
     "output_type": "stream",
     "text": [
      "Number of rows where both above_cshoq and below_cshoq are NaN: 1\n"
     ]
    }
   ],
   "source": [
    "count_both_na = df[(df['fyr_change_dummy'] == 1) & (df['cshoq'].isna()) & \n",
    "                   (df['above_cshoq'].isna()) & (df['below_cshoq'].isna())].shape[0]\n",
    "print(\"Number of rows where both above_cshoq and below_cshoq are NaN:\", count_both_na)\n"
   ]
  },
  {
   "cell_type": "code",
   "execution_count": 20,
   "id": "53fe3b38-e4eb-4872-8ef8-8bd6e28f79cf",
   "metadata": {},
   "outputs": [
    {
     "name": "stdout",
     "output_type": "stream",
     "text": [
      "         tic  fyr  fyr_change_dummy  market_cap     prccq     ajexq  cshoq\n",
      "76634  CHAM.    3                 1         NaN  8.999999  1.049999    NaN\n"
     ]
    }
   ],
   "source": [
    "filtered_df = df[(df['fyr_change_dummy'] == 1) & \n",
    "                 df['cshoq'].isna() & \n",
    "                 df['above_cshoq'].isna() & \n",
    "                 df['below_cshoq'].isna()]\n",
    "\n",
    "print(filtered_df[['tic', 'fyr', 'fyr_change_dummy', 'market_cap', 'prccq', 'ajexq', 'cshoq' ]]. head())\n"
   ]
  },
  {
   "cell_type": "code",
   "execution_count": 39,
   "id": "720f4a09-a598-4372-888c-8d484406bb36",
   "metadata": {},
   "outputs": [
    {
     "name": "stdout",
     "output_type": "stream",
     "text": [
      "          tic  fyr      prccq     ajexq   cshoq\n",
      "76626  CHLN.1   12   7.860000  1.000000  12.076\n",
      "76627  CHLN.1   12   7.700000  1.000000  12.076\n",
      "76628  CHLN.1   12   7.841000  1.000000  12.078\n",
      "76629  CHLN.1   12   8.800000  1.000000  12.076\n",
      "76630  CHLN.1   12   9.000000  1.000000  12.083\n",
      "76631  CHLN.1   12  10.880000  1.000000  12.096\n",
      "76632  CHLN.1   12  10.500000  1.000000  13.478\n",
      "76633   CHAM.    6   6.250000  1.049999     NaN\n",
      "76634   CHAM.    3   8.999999  1.049999     NaN\n",
      "76635   CHAM.    3   9.249999  1.049999     NaN\n",
      "76636   CHAM.    3  10.624999  1.049999     NaN\n",
      "76637   CJHBQ    2   3.750000  0.800000  34.907\n",
      "76638   CJHBQ    2   3.500000  0.800000  34.903\n",
      "76639   CJHBQ    2   5.875000  0.800000  35.003\n",
      "76640   CJHBQ    2   4.125000  0.800000  35.003\n"
     ]
    }
   ],
   "source": [
    "df_original = pd.read_csv('/Users/balmeru/Downloads/QQQQ.csv')\n",
    "df_subset = df_original.iloc[76626:76641][['tic', 'fyr',  'prccq', 'ajexq', 'cshoq']]\n",
    "print(df_subset)\n"
   ]
  },
  {
   "cell_type": "code",
   "execution_count": 58,
   "id": "c960127d-c392-49b7-b50a-45889935747e",
   "metadata": {},
   "outputs": [
    {
     "name": "stdout",
     "output_type": "stream",
     "text": [
      "         tic  fyr  fyr_change_dummy  market_cap     prccq     ajexq  cshoq\n",
      "76634  CHAM.    3                 1         NaN  8.999999  1.049999    NaN\n"
     ]
    }
   ],
   "source": [
    "filtered_df = df[(df['fyr_change_dummy'] == 1) & \n",
    "                 df['cshoq'].isna() & \n",
    "                 df['above_datafqtr'].isna() & \n",
    "                 df['below_datafqtr'].isna()]\n",
    "\n",
    "print(filtered_df[['tic', 'fyr', 'fyr_change_dummy', 'market_cap', 'prccq', 'ajexq', 'cshoq' ]]. head())\n"
   ]
  },
  {
   "cell_type": "code",
   "execution_count": 57,
   "id": "7534992f-d9ac-433a-8ac5-bf998b90cce3",
   "metadata": {},
   "outputs": [
    {
     "name": "stdout",
     "output_type": "stream",
     "text": [
      "            tic  fyr  fyr_change_dummy  market_cap      prccq     ajexq  cshoq\n",
      "529104    3ACDX   12                 1         NaN   0.250000  0.050000    NaN\n",
      "675936   3STPHF    9                 1         NaN   0.500000  1.000000    NaN\n",
      "310279    5841A    9                 1         NaN  65.875000  1.000000    NaN\n",
      "324940    5853B    6                 1         NaN   1.375000  1.000000    NaN\n",
      "450186    6103B   12                 1         NaN   0.250000  1.000000    NaN\n",
      "49561     6733B    1                 1         NaN  37.875000  1.000000    NaN\n",
      "137050    7556A    6                 1         NaN  12.750000  1.000000    NaN\n",
      "1025390   8550B   12                 1         NaN  11.490000  1.000000    NaN\n",
      "225521    9901B    8                 1         NaN   9.000000  1.000000    NaN\n",
      "548513    CGA.1   12                 1         NaN  16.750000  1.000000    NaN\n",
      "455839     CGNE   12                 1         NaN   7.561999  1.000000    NaN\n",
      "76634     CHAM.    3                 1         NaN   8.999999  1.049999    NaN\n",
      "330491      FA1    6                 1         NaN  18.750000  1.000000    NaN\n",
      "194139      HFO    9                 1         NaN  24.375000  1.000000    NaN\n",
      "440944    LCNAF    9                 1         NaN   9.625000  1.000000    NaN\n",
      "227647    LCOR.    9                 1         NaN   5.000000  1.000000    NaN\n",
      "463729     LXUH    6                 1         NaN   0.875000  1.000000    NaN\n",
      "628548     MDCA   12                 1         NaN   2.000000  0.250050    NaN\n",
      "876111     NAB1    9                 1         NaN  27.561996  1.000000    NaN\n",
      "816513     SKIL    1                 1         NaN   9.970000  0.050000    NaN\n",
      "398142    UDS.2    5                 1         NaN   2.125000  1.000000    NaN\n",
      "909337      XLL   12                 1         NaN  26.375000  1.000000    NaN\n"
     ]
    }
   ],
   "source": [
    "filtered_df = df[(df['fyr_change_dummy'] == 1) & \n",
    "                 df['cshoq'].isna() & \n",
    "                ( df['below_datafqtr'].isna() | df['above_datafqtr'].isna())]\n",
    "\n",
    "print(filtered_df[['tic', 'fyr', 'fyr_change_dummy', 'market_cap', 'prccq', 'ajexq', 'cshoq' ]])\n"
   ]
  },
  {
   "cell_type": "code",
   "execution_count": null,
   "id": "387bfda6-6f13-4f6e-99bb-c9798f2937f1",
   "metadata": {},
   "outputs": [],
   "source": []
  },
  {
   "cell_type": "code",
   "execution_count": 40,
   "id": "c2f5c220-dde8-4f38-ba77-abf023e47f29",
   "metadata": {},
   "outputs": [],
   "source": [
    "def calculate_quarter_difference(above_datafqtr, below_datafqtr):\n",
    "    if pd.isna(above_datafqtr) or pd.isna(below_datafqtr):\n",
    "        return np.nan\n",
    "    else:\n",
    "        try:\n",
    "            above_year, above_quarter = above_datafqtr.split(\"Q\")\n",
    "            below_year, below_quarter = below_datafqtr.split(\"Q\")\n",
    "\n",
    "            above_year = int(above_year)\n",
    "            above_quarter = int(above_quarter)\n",
    "            below_year = int(below_year)\n",
    "            below_quarter = int(below_quarter)\n",
    "\n",
    "            num_quarters = (below_year - above_year) * 4 + (below_quarter - above_quarter)\n",
    "            return num_quarters\n",
    "        except:\n",
    "            return np.nan\n",
    "\n",
    "# Apply the function to the DataFrame\n",
    "df['diff_fqtr'] = df.apply(lambda row: calculate_quarter_difference(row['above_datafqtr'], row['below_datafqtr']), axis=1)\n"
   ]
  },
  {
   "cell_type": "code",
   "execution_count": 59,
   "id": "facfb4f3-27f8-451d-8a92-5a283d8e65f0",
   "metadata": {},
   "outputs": [
    {
     "name": "stdout",
     "output_type": "stream",
     "text": [
      "            tic  fyr  fyr_change_dummy  market_cap      prccq     ajexq  cshoq\n",
      "529104    3ACDX   12                 1         NaN   0.250000  0.050000    NaN\n",
      "675936   3STPHF    9                 1         NaN   0.500000  1.000000    NaN\n",
      "310279    5841A    9                 1         NaN  65.875000  1.000000    NaN\n",
      "324940    5853B    6                 1         NaN   1.375000  1.000000    NaN\n",
      "450186    6103B   12                 1         NaN   0.250000  1.000000    NaN\n",
      "49561     6733B    1                 1         NaN  37.875000  1.000000    NaN\n",
      "137050    7556A    6                 1         NaN  12.750000  1.000000    NaN\n",
      "1025390   8550B   12                 1         NaN  11.490000  1.000000    NaN\n",
      "225521    9901B    8                 1         NaN   9.000000  1.000000    NaN\n",
      "548513    CGA.1   12                 1         NaN  16.750000  1.000000    NaN\n",
      "455839     CGNE   12                 1         NaN   7.561999  1.000000    NaN\n",
      "76634     CHAM.    3                 1         NaN   8.999999  1.049999    NaN\n",
      "330491      FA1    6                 1         NaN  18.750000  1.000000    NaN\n",
      "194139      HFO    9                 1         NaN  24.375000  1.000000    NaN\n",
      "440944    LCNAF    9                 1         NaN   9.625000  1.000000    NaN\n",
      "227647    LCOR.    9                 1         NaN   5.000000  1.000000    NaN\n",
      "463729     LXUH    6                 1         NaN   0.875000  1.000000    NaN\n",
      "628548     MDCA   12                 1         NaN   2.000000  0.250050    NaN\n",
      "876111     NAB1    9                 1         NaN  27.561996  1.000000    NaN\n",
      "816513     SKIL    1                 1         NaN   9.970000  0.050000    NaN\n",
      "398142    UDS.2    5                 1         NaN   2.125000  1.000000    NaN\n",
      "909337      XLL   12                 1         NaN  26.375000  1.000000    NaN\n"
     ]
    }
   ],
   "source": [
    "filtered_df = df[(df['fyr_change_dummy'] == 1) & \n",
    "                 df['cshoq'].isna() & \n",
    "                 df['diff_fqtr'].isna()]\n",
    "\n",
    "print(filtered_df[['tic', 'fyr', 'fyr_change_dummy', 'market_cap', 'prccq', 'ajexq', 'cshoq' ]])\n"
   ]
  },
  {
   "cell_type": "code",
   "execution_count": 60,
   "id": "d99f5cd7-af1b-4047-a2a8-0804a8d20876",
   "metadata": {},
   "outputs": [],
   "source": [
    "df['diff_cshoq'] = df.apply(lambda row: row['below_cshoq'] - row['above_cshoq'] if pd.notna(row['above_cshoq']) and pd.notna(row['below_cshoq']) else np.nan, axis=1)\n",
    "\n",
    "\n"
   ]
  },
  {
   "cell_type": "code",
   "execution_count": 61,
   "id": "46dd4958-4a1f-4864-b7d9-1cb88e835656",
   "metadata": {},
   "outputs": [
    {
     "name": "stdout",
     "output_type": "stream",
     "text": [
      "            tic  fyr  fyr_change_dummy  market_cap      prccq     ajexq  cshoq\n",
      "529104    3ACDX   12                 1         NaN   0.250000  0.050000    NaN\n",
      "675936   3STPHF    9                 1         NaN   0.500000  1.000000    NaN\n",
      "310279    5841A    9                 1         NaN  65.875000  1.000000    NaN\n",
      "324940    5853B    6                 1         NaN   1.375000  1.000000    NaN\n",
      "450186    6103B   12                 1         NaN   0.250000  1.000000    NaN\n",
      "49561     6733B    1                 1         NaN  37.875000  1.000000    NaN\n",
      "137050    7556A    6                 1         NaN  12.750000  1.000000    NaN\n",
      "1025390   8550B   12                 1         NaN  11.490000  1.000000    NaN\n",
      "225521    9901B    8                 1         NaN   9.000000  1.000000    NaN\n",
      "548513    CGA.1   12                 1         NaN  16.750000  1.000000    NaN\n",
      "455839     CGNE   12                 1         NaN   7.561999  1.000000    NaN\n",
      "76634     CHAM.    3                 1         NaN   8.999999  1.049999    NaN\n",
      "330491      FA1    6                 1         NaN  18.750000  1.000000    NaN\n",
      "194139      HFO    9                 1         NaN  24.375000  1.000000    NaN\n",
      "440944    LCNAF    9                 1         NaN   9.625000  1.000000    NaN\n",
      "227647    LCOR.    9                 1         NaN   5.000000  1.000000    NaN\n",
      "463729     LXUH    6                 1         NaN   0.875000  1.000000    NaN\n",
      "628548     MDCA   12                 1         NaN   2.000000  0.250050    NaN\n",
      "876111     NAB1    9                 1         NaN  27.561996  1.000000    NaN\n",
      "816513     SKIL    1                 1         NaN   9.970000  0.050000    NaN\n",
      "398142    UDS.2    5                 1         NaN   2.125000  1.000000    NaN\n",
      "909337      XLL   12                 1         NaN  26.375000  1.000000    NaN\n"
     ]
    }
   ],
   "source": [
    "filtered_df = df[(df['fyr_change_dummy'] == 1) & \n",
    "                 df['cshoq'].isna() & \n",
    "                 df['diff_cshoq'].isna()]\n",
    "\n",
    "print(filtered_df[['tic', 'fyr', 'fyr_change_dummy', 'market_cap', 'prccq', 'ajexq', 'cshoq' ]])\n"
   ]
  },
  {
   "cell_type": "code",
   "execution_count": 62,
   "id": "2b255ba1-c78e-41de-b386-8ea53f6b05c9",
   "metadata": {},
   "outputs": [],
   "source": [
    "def divide_diff_cshoq_by_diff_fqtr(diff_cshoq, diff_fqtr):\n",
    "    if pd.isna(diff_cshoq) or pd.isna(diff_fqtr) or diff_fqtr == 0:\n",
    "        return np.nan\n",
    "    try:\n",
    "        return diff_cshoq / diff_fqtr\n",
    "    except ZeroDivisionError:\n",
    "        return np.nan\n",
    "\n",
    "# Apply the division function to the DataFrame\n",
    "df['sigma'] = df.apply(lambda row: divide_diff_cshoq_by_diff_fqtr(row['diff_cshoq'], row['diff_fqtr']), axis=1)\n"
   ]
  },
  {
   "cell_type": "code",
   "execution_count": 64,
   "id": "d8624094-252c-45f8-a86b-7c37aeb39ba4",
   "metadata": {},
   "outputs": [
    {
     "name": "stdout",
     "output_type": "stream",
     "text": [
      "           tic  fyr  fyr_change_dummy      sigma  diff_fqtr  diff_cshoq  cshoq\n",
      "60401    0015B    6                 1   0.011500        4.0       0.046    NaN\n",
      "660313   0147A    9                 1   0.003500        2.0       0.007    NaN\n",
      "231881   2788A    9                 1   0.011000        2.0       0.022    NaN\n",
      "108041   2919B    6                 1   0.000000        3.0       0.000    NaN\n",
      "518434   3213B   12                 1   0.065000        4.0       0.260    NaN\n",
      "...        ...  ...               ...        ...        ...         ...    ...\n",
      "607619  WWWW.1    8                 1  27.539333        3.0      82.618    NaN\n",
      "667704    XL.1   12                 1   5.258667        3.0      15.776    NaN\n",
      "909337     XLL   12                 1        NaN        NaN         NaN    NaN\n",
      "793958   XPRSA   12                 1   0.015500        2.0       0.031    NaN\n",
      "433183    YORK    2                 1   0.223667        3.0       0.671    NaN\n",
      "\n",
      "[393 rows x 7 columns]\n"
     ]
    }
   ],
   "source": [
    "filtered_df = df[(df['fyr_change_dummy'] == 1) & (df['cshoq'].isna())]\n",
    "print(filtered_df[['tic', 'fyr', 'fyr_change_dummy', 'sigma', 'diff_fqtr', 'diff_cshoq', 'cshoq' ]])"
   ]
  },
  {
   "cell_type": "code",
   "execution_count": 274,
   "id": "5510e31d-83b6-44b6-914b-8d30ce620819",
   "metadata": {},
   "outputs": [
    {
     "name": "stdout",
     "output_type": "stream",
     "text": [
      "Index(['GVKEY', 'datadate', 'fyearq', 'fqtr', 'fyr', 'indfmt', 'consol',\n",
      "       'popsrc', 'datafmt', 'tic', 'ajexq', 'curcdq', 'datacqtr', 'datafqtr',\n",
      "       'rdq', 'atq', 'ceqq', 'cshoq', 'dvpq', 'ibq', 'lseq', 'ltq', 'pstkq',\n",
      "       'teqq', 'txdbq', 'dvpy', 'costat', 'mkvaltq', 'prccq', 'market_cap',\n",
      "       'lower_bound', 'upper_bound', 'quarterly_report', 'annual_report',\n",
      "       'fyr_change_dummy', 'diff', 'quarter_distance', 'annual_distance',\n",
      "       'median_distance', 'quarterly_median', 'annual_median', 'above_cshoq',\n",
      "       'below_cshoq', 'above_datafqtr', 'below_datafqtr', 'diff_fqtr',\n",
      "       'diff_cshoq', 'sigma'],\n",
      "      dtype='object')\n"
     ]
    }
   ],
   "source": [
    "print(df.columns)\n"
   ]
  },
  {
   "cell_type": "code",
   "execution_count": 65,
   "id": "3fc667f5-5118-4f1a-9a80-cbd27ac8cf78",
   "metadata": {},
   "outputs": [],
   "source": [
    "df['multiplier'] = np.nan\n",
    "mask = (df['fyr_change_dummy'] == 1) & df['cshoq'].isna() & pd.notna(df['above_datafqtr']) & pd.notna(df['datafqtr'])\n",
    "\n",
    "for index, row in df[mask].iterrows():\n",
    "    above_year, above_quarter = row['above_datafqtr'].split(\"Q\")\n",
    "    below_year, below_quarter = row['datafqtr'].split(\"Q\")\n",
    "    quarters_diff = (int(above_year) - int(below_year)) * 4 + int(above_quarter) - int(below_quarter)\n",
    "    df.at[index, 'multiplier'] = quarters_diff\n"
   ]
  },
  {
   "cell_type": "code",
   "execution_count": 66,
   "id": "564bf1bf-d18e-4552-948b-068813dc9b16",
   "metadata": {},
   "outputs": [
    {
     "name": "stdout",
     "output_type": "stream",
     "text": [
      "        GVKEY    datadate  fyearq  fqtr  fyr indfmt consol popsrc datafmt  \\\n",
      "60380    2484  1983-07-31    1983     3   10   INDL      C      D     STD   \n",
      "60381    2484  1983-10-31    1983     4   10   INDL      C      D     STD   \n",
      "60382    2484  1984-01-31    1984     1   10   INDL      C      D     STD   \n",
      "60383    2484  1984-04-30    1984     2   10   INDL      C      D     STD   \n",
      "60384    2484  1984-07-31    1984     3   10   INDL      C      D     STD   \n",
      "...       ...         ...     ...   ...  ...    ...    ...    ...     ...   \n",
      "782060  30165  1999-06-30    1999     2   12   INDL      C      D     STD   \n",
      "782061  30165  1999-09-30    1999     3   12   INDL      C      D     STD   \n",
      "782062  30165  1999-12-31    1999     4   12   INDL      C      D     STD   \n",
      "782063  30165  2000-03-31    2000     1   12   INDL      C      D     STD   \n",
      "782064  30165  2000-06-30    2000     2   12   INDL      C      D     STD   \n",
      "\n",
      "          tic  ...  annual_report fyr_change_dummy above_cshoq below_cshoq  \\\n",
      "60380   0015B  ...              0                0         NaN         NaN   \n",
      "60381   0015B  ...              1                0         NaN         NaN   \n",
      "60382   0015B  ...              0                0         NaN         NaN   \n",
      "60383   0015B  ...              0                0         NaN         NaN   \n",
      "60384   0015B  ...              0                0         NaN         NaN   \n",
      "...       ...  ...            ...              ...         ...         ...   \n",
      "782060   ZZZ1  ...              0                0         NaN         NaN   \n",
      "782061   ZZZ1  ...              0                0         NaN         NaN   \n",
      "782062   ZZZ1  ...              1                0         NaN         NaN   \n",
      "782063   ZZZ1  ...              0                0         NaN         NaN   \n",
      "782064   ZZZ1  ...              0                0         NaN         NaN   \n",
      "\n",
      "       above_datafqtr  below_datafqtr  diff_fqtr  diff_cshoq  sigma  \\\n",
      "60380             NaN             NaN        NaN         NaN    NaN   \n",
      "60381             NaN             NaN        NaN         NaN    NaN   \n",
      "60382             NaN             NaN        NaN         NaN    NaN   \n",
      "60383             NaN             NaN        NaN         NaN    NaN   \n",
      "60384             NaN             NaN        NaN         NaN    NaN   \n",
      "...               ...             ...        ...         ...    ...   \n",
      "782060            NaN             NaN        NaN         NaN    NaN   \n",
      "782061            NaN             NaN        NaN         NaN    NaN   \n",
      "782062            NaN             NaN        NaN         NaN    NaN   \n",
      "782063            NaN             NaN        NaN         NaN    NaN   \n",
      "782064            NaN             NaN        NaN         NaN    NaN   \n",
      "\n",
      "        multiplier  \n",
      "60380          NaN  \n",
      "60381          NaN  \n",
      "60382          NaN  \n",
      "60383          NaN  \n",
      "60384          NaN  \n",
      "...            ...  \n",
      "782060         NaN  \n",
      "782061         NaN  \n",
      "782062         NaN  \n",
      "782063         NaN  \n",
      "782064         NaN  \n",
      "\n",
      "[1085915 rows x 43 columns]\n"
     ]
    }
   ],
   "source": [
    "for index, row in df[mask].iterrows():\n",
    "    if pd.isna(row['above_cshoq']):\n",
    "        # Calculate the replacement value using below_cshoq when above_cshoq is missing\n",
    "        replacement_value = row['below_cshoq'] - row['multiplier'] * row['sigma']\n",
    "    else:\n",
    "        # Calculate the replacement value using the formula provided when above_cshoq is not missing\n",
    "        replacement_value = row['above_cshoq'] + row['multiplier'] * row['sigma']\n",
    "        \n",
    "    # Update the 'cshoq' column with the calculated replacement value\n",
    "    df.at[index, 'cshoq'] = replacement_value\n",
    "\n",
    "print(df)\n"
   ]
  },
  {
   "cell_type": "code",
   "execution_count": 67,
   "id": "d7d495f2-d34a-493d-94fe-69073e94e99b",
   "metadata": {},
   "outputs": [
    {
     "name": "stdout",
     "output_type": "stream",
     "text": [
      "        GVKEY    datadate  fyearq  fqtr  fyr indfmt consol popsrc datafmt  \\\n",
      "60380    2484  1983-07-31    1983     3   10   INDL      C      D     STD   \n",
      "60381    2484  1983-10-31    1983     4   10   INDL      C      D     STD   \n",
      "60382    2484  1984-01-31    1984     1   10   INDL      C      D     STD   \n",
      "60383    2484  1984-04-30    1984     2   10   INDL      C      D     STD   \n",
      "60384    2484  1984-07-31    1984     3   10   INDL      C      D     STD   \n",
      "...       ...         ...     ...   ...  ...    ...    ...    ...     ...   \n",
      "782060  30165  1999-06-30    1999     2   12   INDL      C      D     STD   \n",
      "782061  30165  1999-09-30    1999     3   12   INDL      C      D     STD   \n",
      "782062  30165  1999-12-31    1999     4   12   INDL      C      D     STD   \n",
      "782063  30165  2000-03-31    2000     1   12   INDL      C      D     STD   \n",
      "782064  30165  2000-06-30    2000     2   12   INDL      C      D     STD   \n",
      "\n",
      "          tic  ...  annual_report fyr_change_dummy above_cshoq below_cshoq  \\\n",
      "60380   0015B  ...              0                0         NaN         NaN   \n",
      "60381   0015B  ...              1                0         NaN         NaN   \n",
      "60382   0015B  ...              0                0         NaN         NaN   \n",
      "60383   0015B  ...              0                0         NaN         NaN   \n",
      "60384   0015B  ...              0                0         NaN         NaN   \n",
      "...       ...  ...            ...              ...         ...         ...   \n",
      "782060   ZZZ1  ...              0                0         NaN         NaN   \n",
      "782061   ZZZ1  ...              0                0         NaN         NaN   \n",
      "782062   ZZZ1  ...              1                0         NaN         NaN   \n",
      "782063   ZZZ1  ...              0                0         NaN         NaN   \n",
      "782064   ZZZ1  ...              0                0         NaN         NaN   \n",
      "\n",
      "       above_datafqtr  below_datafqtr  diff_fqtr  diff_cshoq  sigma  \\\n",
      "60380             NaN             NaN        NaN         NaN    NaN   \n",
      "60381             NaN             NaN        NaN         NaN    NaN   \n",
      "60382             NaN             NaN        NaN         NaN    NaN   \n",
      "60383             NaN             NaN        NaN         NaN    NaN   \n",
      "60384             NaN             NaN        NaN         NaN    NaN   \n",
      "...               ...             ...        ...         ...    ...   \n",
      "782060            NaN             NaN        NaN         NaN    NaN   \n",
      "782061            NaN             NaN        NaN         NaN    NaN   \n",
      "782062            NaN             NaN        NaN         NaN    NaN   \n",
      "782063            NaN             NaN        NaN         NaN    NaN   \n",
      "782064            NaN             NaN        NaN         NaN    NaN   \n",
      "\n",
      "        multiplier  \n",
      "60380          NaN  \n",
      "60381          NaN  \n",
      "60382          NaN  \n",
      "60383          NaN  \n",
      "60384          NaN  \n",
      "...            ...  \n",
      "782060         NaN  \n",
      "782061         NaN  \n",
      "782062         NaN  \n",
      "782063         NaN  \n",
      "782064         NaN  \n",
      "\n",
      "[1085915 rows x 43 columns]\n"
     ]
    }
   ],
   "source": [
    "# Replace NaN values in cshoq based on the described logic\n",
    "for index, row in df[mask].iterrows():\n",
    "    if pd.isna(row['above_cshoq']):\n",
    "        # If above_cshoq is NaN, replace cshoq with below_cshoq\n",
    "        df.at[index, 'cshoq'] = row['below_cshoq']\n",
    "    elif pd.isna(row['multiplier']) or pd.isna(row['sigma']):\n",
    "        # If either multiplier or sigma is NaN, keep cshoq as above_cshoq\n",
    "        df.at[index, 'cshoq'] = row['above_cshoq']\n",
    "    elif pd.isna(row['cshoq']):\n",
    "        # If cshoq is NaN, calculate the replacement value based on the formula provided\n",
    "        replacement_value = row['above_cshoq'] + row['multiplier'] * row['sigma']\n",
    "        df.at[index, 'cshoq'] = replacement_value\n"
   ]
  },
  {
   "cell_type": "code",
   "execution_count": 68,
   "id": "10aded86-5e3f-45af-98ea-3166bcabd4b4",
   "metadata": {},
   "outputs": [
    {
     "name": "stdout",
     "output_type": "stream",
     "text": [
      "          tic  fyr  fyr_change_dummy  sigma  diff_fqtr  diff_cshoq  cshoq\n",
      "548513  CGA.1   12                 1    NaN        NaN         NaN    NaN\n",
      "76634   CHAM.    3                 1    NaN        NaN         NaN    NaN\n",
      "628548   MDCA   12                 1    NaN        NaN         NaN    NaN\n"
     ]
    }
   ],
   "source": [
    "filtered_df = df[(df['fyr_change_dummy'] == 1) & (df['cshoq'].isna())]\n",
    "print(filtered_df[['tic', 'fyr', 'fyr_change_dummy', 'sigma', 'diff_fqtr', 'diff_cshoq', 'cshoq' ]])"
   ]
  },
  {
   "cell_type": "code",
   "execution_count": null,
   "id": "0abedaaf-7ed5-4f32-8ecf-64fc3a872897",
   "metadata": {},
   "outputs": [],
   "source": []
  }
 ],
 "metadata": {
  "kernelspec": {
   "display_name": "Python 3 (ipykernel)",
   "language": "python",
   "name": "python3"
  },
  "language_info": {
   "codemirror_mode": {
    "name": "ipython",
    "version": 3
   },
   "file_extension": ".py",
   "mimetype": "text/x-python",
   "name": "python",
   "nbconvert_exporter": "python",
   "pygments_lexer": "ipython3",
   "version": "3.12.3"
  }
 },
 "nbformat": 4,
 "nbformat_minor": 5
}
